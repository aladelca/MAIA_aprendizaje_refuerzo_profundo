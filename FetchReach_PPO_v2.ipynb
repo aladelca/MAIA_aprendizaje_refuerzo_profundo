{
  "cells": [
    {
      "cell_type": "markdown",
      "metadata": {
        "id": "tNyLVxKqIBOd"
      },
      "source": [
        "# FetchReachDense-v4 — Entrenamiento PPO (Gymnasium Robotics)\n",
        "\n",
        "Este notebook entrena un agente PPO para la tarea `FetchReachDense-v4` usando aprendizaje por refuerzo. **Incluye sistema completo de entrenamiento y evaluación** con compatibilidad total para Colab y ejecución local.\n",
        "\n",
        "**Características:**\n",
        "- 🤖 Entrenamiento PPO optimizado para manipulación robótica\n",
        "- 📊 Logging detallado con TensorBoard\n",
        "- 📹 Video de evaluación de alta calidad\n",
        "- 🖥️ Compatible con Colab, MPS (Apple Silicon) y CUDA\n",
        "- 🌐 Configuración automática para diferentes entornos\n",
        "- 📈 Evaluación cuantitativa y guardado de modelos\n",
        "\n",
        "**Entorno:** Robot Fetch reaching to target positions with dense rewards.\n",
        "\n",
        "Refs: `https://robotics.farama.org/envs/fetch/reach/`"
      ]
    },
    {
      "cell_type": "code",
      "execution_count": null,
      "metadata": {
        "id": "8nNiRD6DIBOe",
        "colab": {
          "base_uri": "https://localhost:8080/"
        },
        "outputId": "04a7c5a7-7f59-486c-95af-2563ed3e5166"
      },
      "outputs": [
        {
          "output_type": "stream",
          "name": "stdout",
          "text": [
            "✅ Todas las dependencias han sido instaladas correctamente en Colab.\n"
          ]
        }
      ],
      "source": [
        "import os, sys, subprocess\n",
        "IN_COLAB = ('COLAB_GPU' in os.environ) or ('COLAB_RELEASE_TAG' in os.environ)\n",
        "print('IN_COLAB =', IN_COLAB)\n",
        "\n",
        "if IN_COLAB:\n",
        "    print(\"🔧 Instalando dependencias en Colab...\")\n",
        "    try:\n",
        "        subprocess.run(['apt-get', 'update', '-qq'], check=True)\n",
        "        subprocess.run(['apt-get', 'install', '-y', '-qq', 'libosmesa6-dev', 'libgl1-mesa-glx', 'libglfw3', 'patchelf', 'xvfb', 'ffmpeg'], check=True)\n",
        "        print(\"✅ Dependencias del sistema instaladas\")\n",
        "    except Exception as e:\n",
        "        print('⚠️ apt-get skipped/error:', e)\n",
        "\n",
        "    subprocess.run([sys.executable, '-m', 'pip', 'install', '-q', '--upgrade', 'pip'], check=True)\n",
        "    subprocess.run([sys.executable, '-m', 'pip', 'install', '-q',\n",
        "                    'gymnasium[other]', 'gymnasium-robotics', 'mujoco', 'glfw', 'imageio[ffmpeg]',\n",
        "                    'pyvirtualdisplay', 'stable-baselines3', 'sb3-contrib', 'tensorboard'], check=True)\n",
        "    print(\"✅ Paquetes Python instalados\")\n",
        "\n",
        "    from IPython.display import clear_output\n",
        "    clear_output()\n",
        "    print(\"✅ Todas las dependencias han sido instaladas correctamente en Colab.\")\n",
        "\n",
        "else:\n",
        "    print('🏠 Ejecución local detectada')\n",
        "    print('💡 Usa requirements.txt: pip install -r requirements.txt')\n",
        "    print('📋 Dependencias necesarias: gymnasium, gymnasium-robotics, mujoco, stable-baselines3, imageio[ffmpeg]')\n",
        "\n",
        "    try:\n",
        "        import gymnasium\n",
        "        import gymnasium_robotics\n",
        "        import stable_baselines3\n",
        "        import imageio\n",
        "        print('✅ Dependencias críticas verificadas')\n",
        "    except ImportError as e:\n",
        "        print(f'❌ Dependencia faltante: {e}')"
      ]
    },
    {
      "cell_type": "code",
      "execution_count": null,
      "metadata": {
        "id": "ciNHFbpGIBOf",
        "colab": {
          "base_uri": "https://localhost:8080/"
        },
        "outputId": "7085a664-9573-467d-a002-1c03781366bd"
      },
      "outputs": [
        {
          "output_type": "stream",
          "name": "stderr",
          "text": [
            "Gym has been unmaintained since 2022 and does not support NumPy 2.0 amongst other critical functionality.\n",
            "Please upgrade to Gymnasium, the maintained drop-in replacement of Gym, or contact the authors of your software and request that they upgrade.\n",
            "See the migration guide at https://gymnasium.farama.org/introduction/migration_guide/ for additional information.\n",
            "/usr/local/lib/python3.12/dist-packages/jupyter_client/session.py:203: DeprecationWarning: datetime.datetime.utcnow() is deprecated and scheduled for removal in a future version. Use timezone-aware objects to represent datetimes in UTC: datetime.datetime.now(datetime.UTC).\n",
            "  return datetime.utcnow().replace(tzinfo=utc)\n",
            "/usr/local/lib/python3.12/dist-packages/jupyter_client/session.py:203: DeprecationWarning: datetime.datetime.utcnow() is deprecated and scheduled for removal in a future version. Use timezone-aware objects to represent datetimes in UTC: datetime.datetime.now(datetime.UTC).\n",
            "  return datetime.utcnow().replace(tzinfo=utc)\n"
          ]
        },
        {
          "output_type": "stream",
          "name": "stdout",
          "text": [
            "🔧 Configuración:\n",
            "   Device: cuda\n",
            "   Environment: FetchReachDense-v4\n",
            "   Experiment: FetchReachDense-v4_PPO_1758579285\n",
            "   Base directory: /content/FetchReachDense-v4_PPO_1758579285\n",
            "   Gymnasium: 1.2.0\n",
            "   PyTorch: 2.8.0+cu126\n",
            "🧪 Verificando entorno...\n",
            "   Observation space: Dict('achieved_goal': Box(-inf, inf, (3,), float64), 'desired_goal': Box(-inf, inf, (3,), float64), 'observation': Box(-inf, inf, (10,), float64))\n",
            "   Action space: Box(-1.0, 1.0, (4,), float32)\n",
            "   Observation keys: ['observation', 'achieved_goal', 'desired_goal']\n",
            "   Render frame shape: (480, 480, 3)\n",
            "✅ Entorno verificado y listo para entrenamiento/evaluación\n"
          ]
        }
      ],
      "source": [
        "# ⚙️ Configuración del experimento y verificación del entorno\n",
        "import numpy as np\n",
        "import gymnasium as gym\n",
        "import gymnasium_robotics  # noqa: F401\n",
        "import torch\n",
        "from stable_baselines3 import PPO\n",
        "from stable_baselines3.common.monitor import Monitor\n",
        "from stable_baselines3.common.callbacks import EvalCallback, CheckpointCallback, CallbackList\n",
        "from stable_baselines3.common.vec_env import DummyVecEnv, VecMonitor\n",
        "from stable_baselines3.common.logger import configure\n",
        "from pathlib import Path\n",
        "import time\n",
        "\n",
        "if IN_COLAB:\n",
        "    from pyvirtualdisplay import Display\n",
        "    display = Display(visible=0, size=(1400, 900))\n",
        "    display.start()\n",
        "\n",
        "device = 'cuda' if torch.cuda.is_available() else 'cpu'\n",
        "\n",
        "ENV_ID = 'FetchReachDense-v4'\n",
        "SEED = 42\n",
        "EXPERIMENT_NAME = f\"{ENV_ID}_PPO_{int(time.time())}\"\n",
        "EXPERIMENT_NAME = \"FetchReachDense-v4_PPO_1758579285\"\n",
        "\n",
        "if IN_COLAB:\n",
        "    BASE_DIR = f\"/content/{EXPERIMENT_NAME}\"\n",
        "else:\n",
        "    BASE_DIR = f\"./{EXPERIMENT_NAME}\"\n",
        "\n",
        "LOG_DIR = os.path.join(BASE_DIR, \"logs\")\n",
        "MODEL_DIR = os.path.join(BASE_DIR, \"models\")\n",
        "CHECKPOINT_DIR = os.path.join(BASE_DIR, \"checkpoints\")\n",
        "VIDEO_DIR = os.path.join(BASE_DIR, \"videos\")\n",
        "\n",
        "for dir_path in [LOG_DIR, MODEL_DIR, CHECKPOINT_DIR, VIDEO_DIR]:\n",
        "    os.makedirs(dir_path, exist_ok=True)\n",
        "\n",
        "print(f\"🔧 Configuración:\")\n",
        "print(f\"   Device: {device}\")\n",
        "print(f\"   Environment: {ENV_ID}\")\n",
        "print(f\"   Experiment: {EXPERIMENT_NAME}\")\n",
        "print(f\"   Base directory: {BASE_DIR}\")\n",
        "print(f\"   Gymnasium: {gym.__version__}\")\n",
        "print(f\"   PyTorch: {torch.__version__}\")\n",
        "\n",
        "\n",
        "def make_env():\n",
        "    env = gym.make(ENV_ID, render_mode='rgb_array')\n",
        "    env = Monitor(env)\n",
        "    return env\n",
        "\n",
        "print(\"🧪 Verificando entorno...\")\n",
        "test_env = make_env()\n",
        "obs, info = test_env.reset(seed=SEED)\n",
        "print(f\"   Observation space: {test_env.observation_space}\")\n",
        "print(f\"   Action space: {test_env.action_space}\")\n",
        "print(f\"   Observation keys: {list(obs.keys()) if isinstance(obs, dict) else 'Box space'}\")\n",
        "\n",
        "test_frame = test_env.render()\n",
        "print(f\"   Render frame shape: {test_frame.shape if test_frame is not None else 'None'}\")\n",
        "\n",
        "test_env.close()\n",
        "print(\"✅ Entorno verificado y listo para entrenamiento/evaluación\")"
      ]
    },
    {
      "cell_type": "code",
      "execution_count": null,
      "metadata": {
        "colab": {
          "base_uri": "https://localhost:8080/",
          "height": 1000,
          "referenced_widgets": [
            "52400efa55c84c7a992a2977a09e894b",
            "ea6096285b3947b5aa7b0326cc32a634"
          ]
        },
        "id": "Qwfgpp0tIBOf",
        "outputId": "5dbd9b4b-3cd6-45e1-9d0d-ac5b3d85c4c6"
      },
      "outputs": [
        {
          "output_type": "stream",
          "name": "stdout",
          "text": [
            "🆕 Iniciando entrenamiento nuevo\n",
            "Logging to /content/FetchReachDense-v4_PPO_1758579285/logs\n",
            "Using cuda device\n"
          ]
        },
        {
          "output_type": "stream",
          "name": "stderr",
          "text": [
            "/usr/local/lib/python3.12/dist-packages/stable_baselines3/common/vec_env/vec_monitor.py:44: UserWarning: The environment is already wrapped with a `Monitor` wrapperbut you are wrapping it with a `VecMonitor` wrapper, the `Monitor` statistics will beoverwritten by the `VecMonitor` ones.\n",
            "  warnings.warn(\n"
          ]
        },
        {
          "output_type": "display_data",
          "data": {
            "text/plain": [
              "/usr/local/lib/python3.12/dist-packages/jupyter_client/session.py:203: DeprecationWarning: \n",
              "datetime.datetime.utcnow() is deprecated and scheduled for removal in a future version. Use timezone-aware objects \n",
              "to represent datetimes in UTC: datetime.datetime.now(datetime.UTC).\n",
              "  return datetime.utcnow().replace(tzinfo=utc)\n"
            ],
            "text/html": [
              "<pre style=\"white-space:pre;overflow-x:auto;line-height:normal;font-family:Menlo,'DejaVu Sans Mono',consolas,'Courier New',monospace\">/usr/local/lib/python3.12/dist-packages/jupyter_client/session.py:203: DeprecationWarning: \n",
              "datetime.datetime.utcnow() is deprecated and scheduled for removal in a future version. Use timezone-aware objects \n",
              "to represent datetimes in UTC: datetime.datetime.now(datetime.UTC).\n",
              "  return datetime.utcnow().replace(tzinfo=utc)\n",
              "</pre>\n"
            ]
          },
          "metadata": {}
        },
        {
          "output_type": "display_data",
          "data": {
            "text/plain": [
              "Output()"
            ],
            "application/vnd.jupyter.widget-view+json": {
              "version_major": 2,
              "version_minor": 0,
              "model_id": "52400efa55c84c7a992a2977a09e894b"
            }
          },
          "metadata": {}
        },
        {
          "output_type": "display_data",
          "data": {
            "text/plain": [
              "/usr/local/lib/python3.12/dist-packages/ipywidgets/widgets/widget_output.py:111: DeprecationWarning: \n",
              "Kernel._parent_header is deprecated in ipykernel 6. Use .get_parent()\n",
              "  if ip and hasattr(ip, 'kernel') and hasattr(ip.kernel, '_parent_header'):\n"
            ],
            "text/html": [
              "<pre style=\"white-space:pre;overflow-x:auto;line-height:normal;font-family:Menlo,'DejaVu Sans Mono',consolas,'Courier New',monospace\">/usr/local/lib/python3.12/dist-packages/ipywidgets/widgets/widget_output.py:111: DeprecationWarning: \n",
              "Kernel._parent_header is deprecated in ipykernel 6. Use .get_parent()\n",
              "  if ip and hasattr(ip, 'kernel') and hasattr(ip.kernel, '_parent_header'):\n",
              "</pre>\n"
            ]
          },
          "metadata": {}
        },
        {
          "output_type": "stream",
          "name": "stderr",
          "text": [
            "/usr/local/lib/python3.12/dist-packages/stable_baselines3/common/vec_env/vec_monitor.py:44: UserWarning: The environment is already wrapped with a `Monitor` wrapperbut you are wrapping it with a `VecMonitor` wrapper, the `Monitor` statistics will beoverwritten by the `VecMonitor` ones.\n",
            "  warnings.warn(\n"
          ]
        },
        {
          "output_type": "stream",
          "name": "stdout",
          "text": [
            "� Iniciando entrenamiento:\n",
            "   Steps restantes: 200,000\n",
            "   Steps totales objetivo: 200,000\n",
            "   Checkpoints cada: 25,000 steps\n",
            "   Evaluación cada: 10,000 steps\n",
            "   Device: cuda\n",
            "   Local storage: /content/FetchReachDense-v4_PPO_1758579285\n",
            "---------------------------------\n",
            "| rollout/           |          |\n",
            "|    ep_len_mean     | 50       |\n",
            "|    ep_rew_mean     | -10.3    |\n",
            "|    success_rate    | 0.025    |\n",
            "| time/              |          |\n",
            "|    fps             | 252      |\n",
            "|    iterations      | 1        |\n",
            "|    time_elapsed    | 8        |\n",
            "|    total_timesteps | 2048     |\n",
            "---------------------------------\n",
            "------------------------------------------\n",
            "| rollout/                |              |\n",
            "|    ep_len_mean          | 50           |\n",
            "|    ep_rew_mean          | -10.3        |\n",
            "|    success_rate         | 0.0247       |\n",
            "| time/                   |              |\n",
            "|    fps                  | 247          |\n",
            "|    iterations           | 2            |\n",
            "|    time_elapsed         | 16           |\n",
            "|    total_timesteps      | 4096         |\n",
            "| train/                  |              |\n",
            "|    approx_kl            | 0.0058567957 |\n",
            "|    clip_fraction        | 0.0486       |\n",
            "|    clip_range           | 0.2          |\n",
            "|    entropy_loss         | -5.68        |\n",
            "|    explained_variance   | -0.000344    |\n",
            "|    learning_rate        | 0.0003       |\n",
            "|    loss                 | 0.537        |\n",
            "|    n_updates            | 10           |\n",
            "|    policy_gradient_loss | -0.00425     |\n",
            "|    std                  | 1            |\n",
            "|    value_loss           | 1.92         |\n",
            "------------------------------------------\n",
            "-----------------------------------------\n",
            "| rollout/                |             |\n",
            "|    ep_len_mean          | 50          |\n",
            "|    ep_rew_mean          | -10.6       |\n",
            "|    success_rate         | 0.02        |\n",
            "| time/                   |             |\n",
            "|    fps                  | 252         |\n",
            "|    iterations           | 3           |\n",
            "|    time_elapsed         | 24          |\n",
            "|    total_timesteps      | 6144        |\n",
            "| train/                  |             |\n",
            "|    approx_kl            | 0.003780528 |\n",
            "|    clip_fraction        | 0.0134      |\n",
            "|    clip_range           | 0.2         |\n",
            "|    entropy_loss         | -5.68       |\n",
            "|    explained_variance   | 0.0088      |\n",
            "|    learning_rate        | 0.0003      |\n",
            "|    loss                 | 0.468       |\n",
            "|    n_updates            | 20          |\n",
            "|    policy_gradient_loss | -0.00252    |\n",
            "|    std                  | 0.996       |\n",
            "|    value_loss           | 1.46        |\n",
            "-----------------------------------------\n",
            "-----------------------------------------\n",
            "| rollout/                |             |\n",
            "|    ep_len_mean          | 50          |\n",
            "|    ep_rew_mean          | -10.8       |\n",
            "|    success_rate         | 0.01        |\n",
            "| time/                   |             |\n",
            "|    fps                  | 253         |\n",
            "|    iterations           | 4           |\n",
            "|    time_elapsed         | 32          |\n",
            "|    total_timesteps      | 8192        |\n",
            "| train/                  |             |\n",
            "|    approx_kl            | 0.004157328 |\n",
            "|    clip_fraction        | 0.0194      |\n",
            "|    clip_range           | 0.2         |\n",
            "|    entropy_loss         | -5.66       |\n",
            "|    explained_variance   | 0.0486      |\n",
            "|    learning_rate        | 0.0003      |\n",
            "|    loss                 | 0.508       |\n",
            "|    n_updates            | 30          |\n",
            "|    policy_gradient_loss | -0.00295    |\n",
            "|    std                  | 0.994       |\n",
            "|    value_loss           | 1.37        |\n",
            "-----------------------------------------\n"
          ]
        },
        {
          "output_type": "display_data",
          "data": {
            "text/plain": [
              "Eval num_timesteps=10000, episode_reward=-8.79 +/- 2.00\n"
            ],
            "text/html": [
              "<pre style=\"white-space:pre;overflow-x:auto;line-height:normal;font-family:Menlo,'DejaVu Sans Mono',consolas,'Courier New',monospace\">Eval num_timesteps=10000, episode_reward=-8.79 +/- 2.00\n",
              "</pre>\n"
            ]
          },
          "metadata": {}
        },
        {
          "output_type": "display_data",
          "data": {
            "text/plain": [
              "Episode length: 50.00 +/- 0.00\n"
            ],
            "text/html": [
              "<pre style=\"white-space:pre;overflow-x:auto;line-height:normal;font-family:Menlo,'DejaVu Sans Mono',consolas,'Courier New',monospace\">Episode length: 50.00 +/- 0.00\n",
              "</pre>\n"
            ]
          },
          "metadata": {}
        },
        {
          "output_type": "display_data",
          "data": {
            "text/plain": [
              "Success rate: 0.00%\n"
            ],
            "text/html": [
              "<pre style=\"white-space:pre;overflow-x:auto;line-height:normal;font-family:Menlo,'DejaVu Sans Mono',consolas,'Courier New',monospace\">Success rate: 0.00%\n",
              "</pre>\n"
            ]
          },
          "metadata": {}
        },
        {
          "output_type": "stream",
          "name": "stdout",
          "text": [
            "------------------------------------------\n",
            "| eval/                   |              |\n",
            "|    mean_ep_length       | 50           |\n",
            "|    mean_reward          | -8.79        |\n",
            "|    success_rate         | 0.0          |\n",
            "| time/                   |              |\n",
            "|    total_timesteps      | 10000        |\n",
            "| train/                  |              |\n",
            "|    approx_kl            | 0.0066149677 |\n",
            "|    clip_fraction        | 0.0343       |\n",
            "|    clip_range           | 0.2          |\n",
            "|    entropy_loss         | -5.65        |\n",
            "|    explained_variance   | 0.117        |\n",
            "|    learning_rate        | 0.0003       |\n",
            "|    loss                 | 0.478        |\n",
            "|    n_updates            | 40           |\n",
            "|    policy_gradient_loss | -0.00496     |\n",
            "|    std                  | 0.995        |\n",
            "|    value_loss           | 1.1          |\n",
            "------------------------------------------\n"
          ]
        },
        {
          "output_type": "display_data",
          "data": {
            "text/plain": [
              "New best mean reward!\n"
            ],
            "text/html": [
              "<pre style=\"white-space:pre;overflow-x:auto;line-height:normal;font-family:Menlo,'DejaVu Sans Mono',consolas,'Courier New',monospace\">New best mean reward!\n",
              "</pre>\n"
            ]
          },
          "metadata": {}
        },
        {
          "output_type": "stream",
          "name": "stdout",
          "text": [
            "---------------------------------\n",
            "| rollout/           |          |\n",
            "|    ep_len_mean     | 50       |\n",
            "|    ep_rew_mean     | -10.6    |\n",
            "|    success_rate    | 0        |\n",
            "| time/              |          |\n",
            "|    fps             | 243      |\n",
            "|    iterations      | 5        |\n",
            "|    time_elapsed    | 41       |\n",
            "|    total_timesteps | 10240    |\n",
            "---------------------------------\n",
            "-----------------------------------------\n",
            "| rollout/                |             |\n",
            "|    ep_len_mean          | 50          |\n",
            "|    ep_rew_mean          | -10.1       |\n",
            "|    success_rate         | 0           |\n",
            "| time/                   |             |\n",
            "|    fps                  | 246         |\n",
            "|    iterations           | 6           |\n",
            "|    time_elapsed         | 49          |\n",
            "|    total_timesteps      | 12288       |\n",
            "| train/                  |             |\n",
            "|    approx_kl            | 0.009130599 |\n",
            "|    clip_fraction        | 0.0739      |\n",
            "|    clip_range           | 0.2         |\n",
            "|    entropy_loss         | -5.65       |\n",
            "|    explained_variance   | -0.048      |\n",
            "|    learning_rate        | 0.0003      |\n",
            "|    loss                 | 0.331       |\n",
            "|    n_updates            | 50          |\n",
            "|    policy_gradient_loss | -0.00783    |\n",
            "|    std                  | 0.994       |\n",
            "|    value_loss           | 0.99        |\n",
            "-----------------------------------------\n",
            "-----------------------------------------\n",
            "| rollout/                |             |\n",
            "|    ep_len_mean          | 50          |\n",
            "|    ep_rew_mean          | -9.78       |\n",
            "|    success_rate         | 0           |\n",
            "| time/                   |             |\n",
            "|    fps                  | 248         |\n",
            "|    iterations           | 7           |\n",
            "|    time_elapsed         | 57          |\n",
            "|    total_timesteps      | 14336       |\n",
            "| train/                  |             |\n",
            "|    approx_kl            | 0.008516072 |\n",
            "|    clip_fraction        | 0.0573      |\n",
            "|    clip_range           | 0.2         |\n",
            "|    entropy_loss         | -5.64       |\n",
            "|    explained_variance   | 0.29        |\n",
            "|    learning_rate        | 0.0003      |\n",
            "|    loss                 | 0.272       |\n",
            "|    n_updates            | 60          |\n",
            "|    policy_gradient_loss | -0.00291    |\n",
            "|    std                  | 0.991       |\n",
            "|    value_loss           | 0.559       |\n",
            "-----------------------------------------\n",
            "-----------------------------------------\n",
            "| rollout/                |             |\n",
            "|    ep_len_mean          | 50          |\n",
            "|    ep_rew_mean          | -9.41       |\n",
            "|    success_rate         | 0           |\n",
            "| time/                   |             |\n",
            "|    fps                  | 250         |\n",
            "|    iterations           | 8           |\n",
            "|    time_elapsed         | 65          |\n",
            "|    total_timesteps      | 16384       |\n",
            "| train/                  |             |\n",
            "|    approx_kl            | 0.002855025 |\n",
            "|    clip_fraction        | 0.0239      |\n",
            "|    clip_range           | 0.2         |\n",
            "|    entropy_loss         | -5.64       |\n",
            "|    explained_variance   | 0.155       |\n",
            "|    learning_rate        | 0.0003      |\n",
            "|    loss                 | 0.225       |\n",
            "|    n_updates            | 70          |\n",
            "|    policy_gradient_loss | -0.00378    |\n",
            "|    std                  | 0.994       |\n",
            "|    value_loss           | 0.572       |\n",
            "-----------------------------------------\n",
            "-----------------------------------------\n",
            "| rollout/                |             |\n",
            "|    ep_len_mean          | 50          |\n",
            "|    ep_rew_mean          | -8.76       |\n",
            "|    success_rate         | 0           |\n",
            "| time/                   |             |\n",
            "|    fps                  | 251         |\n",
            "|    iterations           | 9           |\n",
            "|    time_elapsed         | 73          |\n",
            "|    total_timesteps      | 18432       |\n",
            "| train/                  |             |\n",
            "|    approx_kl            | 0.007785036 |\n",
            "|    clip_fraction        | 0.0841      |\n",
            "|    clip_range           | 0.2         |\n",
            "|    entropy_loss         | -5.65       |\n",
            "|    explained_variance   | 0.419       |\n",
            "|    learning_rate        | 0.0003      |\n",
            "|    loss                 | 0.142       |\n",
            "|    n_updates            | 80          |\n",
            "|    policy_gradient_loss | -0.00815    |\n",
            "|    std                  | 0.992       |\n",
            "|    value_loss           | 0.451       |\n",
            "-----------------------------------------\n"
          ]
        },
        {
          "output_type": "display_data",
          "data": {
            "text/plain": [
              "Eval num_timesteps=20000, episode_reward=-4.93 +/- 1.71\n"
            ],
            "text/html": [
              "<pre style=\"white-space:pre;overflow-x:auto;line-height:normal;font-family:Menlo,'DejaVu Sans Mono',consolas,'Courier New',monospace\">Eval num_timesteps=20000, episode_reward=-4.93 +/- 1.71\n",
              "</pre>\n"
            ]
          },
          "metadata": {}
        },
        {
          "output_type": "display_data",
          "data": {
            "text/plain": [
              "Episode length: 50.00 +/- 0.00\n"
            ],
            "text/html": [
              "<pre style=\"white-space:pre;overflow-x:auto;line-height:normal;font-family:Menlo,'DejaVu Sans Mono',consolas,'Courier New',monospace\">Episode length: 50.00 +/- 0.00\n",
              "</pre>\n"
            ]
          },
          "metadata": {}
        },
        {
          "output_type": "display_data",
          "data": {
            "text/plain": [
              "Success rate: 20.00%\n"
            ],
            "text/html": [
              "<pre style=\"white-space:pre;overflow-x:auto;line-height:normal;font-family:Menlo,'DejaVu Sans Mono',consolas,'Courier New',monospace\">Success rate: 20.00%\n",
              "</pre>\n"
            ]
          },
          "metadata": {}
        },
        {
          "output_type": "stream",
          "name": "stdout",
          "text": [
            "-----------------------------------------\n",
            "| eval/                   |             |\n",
            "|    mean_ep_length       | 50          |\n",
            "|    mean_reward          | -4.93       |\n",
            "|    success_rate         | 0.2         |\n",
            "| time/                   |             |\n",
            "|    total_timesteps      | 20000       |\n",
            "| train/                  |             |\n",
            "|    approx_kl            | 0.009068344 |\n",
            "|    clip_fraction        | 0.0878      |\n",
            "|    clip_range           | 0.2         |\n",
            "|    entropy_loss         | -5.64       |\n",
            "|    explained_variance   | 0.404       |\n",
            "|    learning_rate        | 0.0003      |\n",
            "|    loss                 | 0.127       |\n",
            "|    n_updates            | 90          |\n",
            "|    policy_gradient_loss | -0.00918    |\n",
            "|    std                  | 0.99        |\n",
            "|    value_loss           | 0.34        |\n",
            "-----------------------------------------\n"
          ]
        },
        {
          "output_type": "display_data",
          "data": {
            "text/plain": [
              "New best mean reward!\n"
            ],
            "text/html": [
              "<pre style=\"white-space:pre;overflow-x:auto;line-height:normal;font-family:Menlo,'DejaVu Sans Mono',consolas,'Courier New',monospace\">New best mean reward!\n",
              "</pre>\n"
            ]
          },
          "metadata": {}
        },
        {
          "output_type": "stream",
          "name": "stdout",
          "text": [
            "---------------------------------\n",
            "| rollout/           |          |\n",
            "|    ep_len_mean     | 50       |\n",
            "|    ep_rew_mean     | -8.24    |\n",
            "|    success_rate    | 0.01     |\n",
            "| time/              |          |\n",
            "|    fps             | 248      |\n",
            "|    iterations      | 10       |\n",
            "|    time_elapsed    | 82       |\n",
            "|    total_timesteps | 20480    |\n",
            "---------------------------------\n",
            "------------------------------------------\n",
            "| rollout/                |              |\n",
            "|    ep_len_mean          | 50           |\n",
            "|    ep_rew_mean          | -7.75        |\n",
            "|    success_rate         | 0.03         |\n",
            "| time/                   |              |\n",
            "|    fps                  | 249          |\n",
            "|    iterations           | 11           |\n",
            "|    time_elapsed         | 90           |\n",
            "|    total_timesteps      | 22528        |\n",
            "| train/                  |              |\n",
            "|    approx_kl            | 0.0051997937 |\n",
            "|    clip_fraction        | 0.0843       |\n",
            "|    clip_range           | 0.2          |\n",
            "|    entropy_loss         | -5.62        |\n",
            "|    explained_variance   | 0.574        |\n",
            "|    learning_rate        | 0.0003       |\n",
            "|    loss                 | 0.124        |\n",
            "|    n_updates            | 100          |\n",
            "|    policy_gradient_loss | -0.00817     |\n",
            "|    std                  | 0.982        |\n",
            "|    value_loss           | 0.302        |\n",
            "------------------------------------------\n",
            "-----------------------------------------\n",
            "| rollout/                |             |\n",
            "|    ep_len_mean          | 50          |\n",
            "|    ep_rew_mean          | -7.2        |\n",
            "|    success_rate         | 0.05        |\n",
            "| time/                   |             |\n",
            "|    fps                  | 251         |\n",
            "|    iterations           | 12          |\n",
            "|    time_elapsed         | 97          |\n",
            "|    total_timesteps      | 24576       |\n",
            "| train/                  |             |\n",
            "|    approx_kl            | 0.003970037 |\n",
            "|    clip_fraction        | 0.0591      |\n",
            "|    clip_range           | 0.2         |\n",
            "|    entropy_loss         | -5.6        |\n",
            "|    explained_variance   | 0.371       |\n",
            "|    learning_rate        | 0.0003      |\n",
            "|    loss                 | 0.15        |\n",
            "|    n_updates            | 110         |\n",
            "|    policy_gradient_loss | -0.00876    |\n",
            "|    std                  | 0.983       |\n",
            "|    value_loss           | 0.371       |\n",
            "-----------------------------------------\n",
            "-----------------------------------------\n",
            "| rollout/                |             |\n",
            "|    ep_len_mean          | 50          |\n",
            "|    ep_rew_mean          | -6.54       |\n",
            "|    success_rate         | 0.07        |\n",
            "| time/                   |             |\n",
            "|    fps                  | 252         |\n",
            "|    iterations           | 13          |\n",
            "|    time_elapsed         | 105         |\n",
            "|    total_timesteps      | 26624       |\n",
            "| train/                  |             |\n",
            "|    approx_kl            | 0.008009578 |\n",
            "|    clip_fraction        | 0.0443      |\n",
            "|    clip_range           | 0.2         |\n",
            "|    entropy_loss         | -5.6        |\n",
            "|    explained_variance   | 0.587       |\n",
            "|    learning_rate        | 0.0003      |\n",
            "|    loss                 | 0.0654      |\n",
            "|    n_updates            | 120         |\n",
            "|    policy_gradient_loss | -0.0106     |\n",
            "|    std                  | 0.977       |\n",
            "|    value_loss           | 0.212       |\n",
            "-----------------------------------------\n",
            "-----------------------------------------\n",
            "| rollout/                |             |\n",
            "|    ep_len_mean          | 50          |\n",
            "|    ep_rew_mean          | -5.85       |\n",
            "|    success_rate         | 0.09        |\n",
            "| time/                   |             |\n",
            "|    fps                  | 253         |\n",
            "|    iterations           | 14          |\n",
            "|    time_elapsed         | 113         |\n",
            "|    total_timesteps      | 28672       |\n",
            "| train/                  |             |\n",
            "|    approx_kl            | 0.007270173 |\n",
            "|    clip_fraction        | 0.0891      |\n",
            "|    clip_range           | 0.2         |\n",
            "|    entropy_loss         | -5.58       |\n",
            "|    explained_variance   | 0.59        |\n",
            "|    learning_rate        | 0.0003      |\n",
            "|    loss                 | 0.0842      |\n",
            "|    n_updates            | 130         |\n",
            "|    policy_gradient_loss | -0.00948    |\n",
            "|    std                  | 0.977       |\n",
            "|    value_loss           | 0.229       |\n",
            "-----------------------------------------\n"
          ]
        },
        {
          "output_type": "display_data",
          "data": {
            "text/plain": [
              "Eval num_timesteps=30000, episode_reward=-3.18 +/- 0.49\n"
            ],
            "text/html": [
              "<pre style=\"white-space:pre;overflow-x:auto;line-height:normal;font-family:Menlo,'DejaVu Sans Mono',consolas,'Courier New',monospace\">Eval num_timesteps=30000, episode_reward=-3.18 +/- 0.49\n",
              "</pre>\n"
            ]
          },
          "metadata": {}
        },
        {
          "output_type": "display_data",
          "data": {
            "text/plain": [
              "Episode length: 50.00 +/- 0.00\n"
            ],
            "text/html": [
              "<pre style=\"white-space:pre;overflow-x:auto;line-height:normal;font-family:Menlo,'DejaVu Sans Mono',consolas,'Courier New',monospace\">Episode length: 50.00 +/- 0.00\n",
              "</pre>\n"
            ]
          },
          "metadata": {}
        },
        {
          "output_type": "display_data",
          "data": {
            "text/plain": [
              "Success rate: 30.00%\n"
            ],
            "text/html": [
              "<pre style=\"white-space:pre;overflow-x:auto;line-height:normal;font-family:Menlo,'DejaVu Sans Mono',consolas,'Courier New',monospace\">Success rate: 30.00%\n",
              "</pre>\n"
            ]
          },
          "metadata": {}
        },
        {
          "output_type": "stream",
          "name": "stdout",
          "text": [
            "-----------------------------------------\n",
            "| eval/                   |             |\n",
            "|    mean_ep_length       | 50          |\n",
            "|    mean_reward          | -3.18       |\n",
            "|    success_rate         | 0.3         |\n",
            "| time/                   |             |\n",
            "|    total_timesteps      | 30000       |\n",
            "| train/                  |             |\n",
            "|    approx_kl            | 0.008346435 |\n",
            "|    clip_fraction        | 0.104       |\n",
            "|    clip_range           | 0.2         |\n",
            "|    entropy_loss         | -5.58       |\n",
            "|    explained_variance   | 0.623       |\n",
            "|    learning_rate        | 0.0003      |\n",
            "|    loss                 | 0.0552      |\n",
            "|    n_updates            | 140         |\n",
            "|    policy_gradient_loss | -0.00913    |\n",
            "|    std                  | 0.977       |\n",
            "|    value_loss           | 0.154       |\n",
            "-----------------------------------------\n"
          ]
        },
        {
          "output_type": "display_data",
          "data": {
            "text/plain": [
              "New best mean reward!\n"
            ],
            "text/html": [
              "<pre style=\"white-space:pre;overflow-x:auto;line-height:normal;font-family:Menlo,'DejaVu Sans Mono',consolas,'Courier New',monospace\">New best mean reward!\n",
              "</pre>\n"
            ]
          },
          "metadata": {}
        },
        {
          "output_type": "stream",
          "name": "stdout",
          "text": [
            "---------------------------------\n",
            "| rollout/           |          |\n",
            "|    ep_len_mean     | 50       |\n",
            "|    ep_rew_mean     | -5.5     |\n",
            "|    success_rate    | 0.07     |\n",
            "| time/              |          |\n",
            "|    fps             | 250      |\n",
            "|    iterations      | 15       |\n",
            "|    time_elapsed    | 122      |\n",
            "|    total_timesteps | 30720    |\n",
            "---------------------------------\n",
            "-----------------------------------------\n",
            "| rollout/                |             |\n",
            "|    ep_len_mean          | 50          |\n",
            "|    ep_rew_mean          | -5.19       |\n",
            "|    success_rate         | 0.12        |\n",
            "| time/                   |             |\n",
            "|    fps                  | 251         |\n",
            "|    iterations           | 16          |\n",
            "|    time_elapsed         | 130         |\n",
            "|    total_timesteps      | 32768       |\n",
            "| train/                  |             |\n",
            "|    approx_kl            | 0.011048241 |\n",
            "|    clip_fraction        | 0.128       |\n",
            "|    clip_range           | 0.2         |\n",
            "|    entropy_loss         | -5.57       |\n",
            "|    explained_variance   | 0.691       |\n",
            "|    learning_rate        | 0.0003      |\n",
            "|    loss                 | 0.0272      |\n",
            "|    n_updates            | 150         |\n",
            "|    policy_gradient_loss | -0.0133     |\n",
            "|    std                  | 0.975       |\n",
            "|    value_loss           | 0.112       |\n",
            "-----------------------------------------\n",
            "-----------------------------------------\n",
            "| rollout/                |             |\n",
            "|    ep_len_mean          | 50          |\n",
            "|    ep_rew_mean          | -4.77       |\n",
            "|    success_rate         | 0.13        |\n",
            "| time/                   |             |\n",
            "|    fps                  | 252         |\n",
            "|    iterations           | 17          |\n",
            "|    time_elapsed         | 138         |\n",
            "|    total_timesteps      | 34816       |\n",
            "| train/                  |             |\n",
            "|    approx_kl            | 0.011746333 |\n",
            "|    clip_fraction        | 0.102       |\n",
            "|    clip_range           | 0.2         |\n",
            "|    entropy_loss         | -5.56       |\n",
            "|    explained_variance   | 0.732       |\n",
            "|    learning_rate        | 0.0003      |\n",
            "|    loss                 | 0.0408      |\n",
            "|    n_updates            | 160         |\n",
            "|    policy_gradient_loss | -0.011      |\n",
            "|    std                  | 0.97        |\n",
            "|    value_loss           | 0.113       |\n",
            "-----------------------------------------\n",
            "-----------------------------------------\n",
            "| rollout/                |             |\n",
            "|    ep_len_mean          | 50          |\n",
            "|    ep_rew_mean          | -4.43       |\n",
            "|    success_rate         | 0.19        |\n",
            "| time/                   |             |\n",
            "|    fps                  | 252         |\n",
            "|    iterations           | 18          |\n",
            "|    time_elapsed         | 145         |\n",
            "|    total_timesteps      | 36864       |\n",
            "| train/                  |             |\n",
            "|    approx_kl            | 0.010546724 |\n",
            "|    clip_fraction        | 0.15        |\n",
            "|    clip_range           | 0.2         |\n",
            "|    entropy_loss         | -5.54       |\n",
            "|    explained_variance   | 0.649       |\n",
            "|    learning_rate        | 0.0003      |\n",
            "|    loss                 | 0.0307      |\n",
            "|    n_updates            | 170         |\n",
            "|    policy_gradient_loss | -0.0138     |\n",
            "|    std                  | 0.967       |\n",
            "|    value_loss           | 0.0966      |\n",
            "-----------------------------------------\n",
            "-----------------------------------------\n",
            "| rollout/                |             |\n",
            "|    ep_len_mean          | 50          |\n",
            "|    ep_rew_mean          | -4.16       |\n",
            "|    success_rate         | 0.21        |\n",
            "| time/                   |             |\n",
            "|    fps                  | 253         |\n",
            "|    iterations           | 19          |\n",
            "|    time_elapsed         | 153         |\n",
            "|    total_timesteps      | 38912       |\n",
            "| train/                  |             |\n",
            "|    approx_kl            | 0.007543809 |\n",
            "|    clip_fraction        | 0.133       |\n",
            "|    clip_range           | 0.2         |\n",
            "|    entropy_loss         | -5.53       |\n",
            "|    explained_variance   | 0.62        |\n",
            "|    learning_rate        | 0.0003      |\n",
            "|    loss                 | 0.0209      |\n",
            "|    n_updates            | 180         |\n",
            "|    policy_gradient_loss | -0.00739    |\n",
            "|    std                  | 0.963       |\n",
            "|    value_loss           | 0.0803      |\n",
            "-----------------------------------------\n"
          ]
        },
        {
          "output_type": "display_data",
          "data": {
            "text/plain": [
              "Eval num_timesteps=40000, episode_reward=-1.93 +/- 0.60\n"
            ],
            "text/html": [
              "<pre style=\"white-space:pre;overflow-x:auto;line-height:normal;font-family:Menlo,'DejaVu Sans Mono',consolas,'Courier New',monospace\">Eval num_timesteps=40000, episode_reward=-1.93 +/- 0.60\n",
              "</pre>\n"
            ]
          },
          "metadata": {}
        },
        {
          "output_type": "display_data",
          "data": {
            "text/plain": [
              "Episode length: 50.00 +/- 0.00\n"
            ],
            "text/html": [
              "<pre style=\"white-space:pre;overflow-x:auto;line-height:normal;font-family:Menlo,'DejaVu Sans Mono',consolas,'Courier New',monospace\">Episode length: 50.00 +/- 0.00\n",
              "</pre>\n"
            ]
          },
          "metadata": {}
        },
        {
          "output_type": "display_data",
          "data": {
            "text/plain": [
              "Success rate: 70.00%\n"
            ],
            "text/html": [
              "<pre style=\"white-space:pre;overflow-x:auto;line-height:normal;font-family:Menlo,'DejaVu Sans Mono',consolas,'Courier New',monospace\">Success rate: 70.00%\n",
              "</pre>\n"
            ]
          },
          "metadata": {}
        },
        {
          "output_type": "stream",
          "name": "stdout",
          "text": [
            "-----------------------------------------\n",
            "| eval/                   |             |\n",
            "|    mean_ep_length       | 50          |\n",
            "|    mean_reward          | -1.93       |\n",
            "|    success_rate         | 0.7         |\n",
            "| time/                   |             |\n",
            "|    total_timesteps      | 40000       |\n",
            "| train/                  |             |\n",
            "|    approx_kl            | 0.012090822 |\n",
            "|    clip_fraction        | 0.1         |\n",
            "|    clip_range           | 0.2         |\n",
            "|    entropy_loss         | -5.51       |\n",
            "|    explained_variance   | 0.483       |\n",
            "|    learning_rate        | 0.0003      |\n",
            "|    loss                 | 0.015       |\n",
            "|    n_updates            | 190         |\n",
            "|    policy_gradient_loss | -0.00884    |\n",
            "|    std                  | 0.958       |\n",
            "|    value_loss           | 0.0684      |\n",
            "-----------------------------------------\n"
          ]
        },
        {
          "output_type": "display_data",
          "data": {
            "text/plain": [
              "New best mean reward!\n"
            ],
            "text/html": [
              "<pre style=\"white-space:pre;overflow-x:auto;line-height:normal;font-family:Menlo,'DejaVu Sans Mono',consolas,'Courier New',monospace\">New best mean reward!\n",
              "</pre>\n"
            ]
          },
          "metadata": {}
        },
        {
          "output_type": "stream",
          "name": "stdout",
          "text": [
            "---------------------------------\n",
            "| rollout/           |          |\n",
            "|    ep_len_mean     | 50       |\n",
            "|    ep_rew_mean     | -3.92    |\n",
            "|    success_rate    | 0.2      |\n",
            "| time/              |          |\n",
            "|    fps             | 251      |\n",
            "|    iterations      | 20       |\n",
            "|    time_elapsed    | 163      |\n",
            "|    total_timesteps | 40960    |\n",
            "---------------------------------\n",
            "-----------------------------------------\n",
            "| rollout/                |             |\n",
            "|    ep_len_mean          | 50          |\n",
            "|    ep_rew_mean          | -3.7        |\n",
            "|    success_rate         | 0.26        |\n",
            "| time/                   |             |\n",
            "|    fps                  | 251         |\n",
            "|    iterations           | 21          |\n",
            "|    time_elapsed         | 170         |\n",
            "|    total_timesteps      | 43008       |\n",
            "| train/                  |             |\n",
            "|    approx_kl            | 0.007733847 |\n",
            "|    clip_fraction        | 0.13        |\n",
            "|    clip_range           | 0.2         |\n",
            "|    entropy_loss         | -5.48       |\n",
            "|    explained_variance   | 0.69        |\n",
            "|    learning_rate        | 0.0003      |\n",
            "|    loss                 | 0.00265     |\n",
            "|    n_updates            | 200         |\n",
            "|    policy_gradient_loss | -0.00971    |\n",
            "|    std                  | 0.951       |\n",
            "|    value_loss           | 0.0499      |\n",
            "-----------------------------------------\n",
            "-----------------------------------------\n",
            "| rollout/                |             |\n",
            "|    ep_len_mean          | 50          |\n",
            "|    ep_rew_mean          | -3.57       |\n",
            "|    success_rate         | 0.34        |\n",
            "| time/                   |             |\n",
            "|    fps                  | 252         |\n",
            "|    iterations           | 22          |\n",
            "|    time_elapsed         | 178         |\n",
            "|    total_timesteps      | 45056       |\n",
            "| train/                  |             |\n",
            "|    approx_kl            | 0.006204776 |\n",
            "|    clip_fraction        | 0.147       |\n",
            "|    clip_range           | 0.2         |\n",
            "|    entropy_loss         | -5.46       |\n",
            "|    explained_variance   | 0.681       |\n",
            "|    learning_rate        | 0.0003      |\n",
            "|    loss                 | 0.00272     |\n",
            "|    n_updates            | 210         |\n",
            "|    policy_gradient_loss | -0.00515    |\n",
            "|    std                  | 0.945       |\n",
            "|    value_loss           | 0.0494      |\n",
            "-----------------------------------------\n",
            "-----------------------------------------\n",
            "| rollout/                |             |\n",
            "|    ep_len_mean          | 50          |\n",
            "|    ep_rew_mean          | -3.52       |\n",
            "|    success_rate         | 0.34        |\n",
            "| time/                   |             |\n",
            "|    fps                  | 253         |\n",
            "|    iterations           | 23          |\n",
            "|    time_elapsed         | 186         |\n",
            "|    total_timesteps      | 47104       |\n",
            "| train/                  |             |\n",
            "|    approx_kl            | 0.010003354 |\n",
            "|    clip_fraction        | 0.139       |\n",
            "|    clip_range           | 0.2         |\n",
            "|    entropy_loss         | -5.43       |\n",
            "|    explained_variance   | 0.614       |\n",
            "|    learning_rate        | 0.0003      |\n",
            "|    loss                 | -0.0076     |\n",
            "|    n_updates            | 220         |\n",
            "|    policy_gradient_loss | -0.00882    |\n",
            "|    std                  | 0.94        |\n",
            "|    value_loss           | 0.0429      |\n",
            "-----------------------------------------\n",
            "-----------------------------------------\n",
            "| rollout/                |             |\n",
            "|    ep_len_mean          | 50          |\n",
            "|    ep_rew_mean          | -3.35       |\n",
            "|    success_rate         | 0.39        |\n",
            "| time/                   |             |\n",
            "|    fps                  | 253         |\n",
            "|    iterations           | 24          |\n",
            "|    time_elapsed         | 193         |\n",
            "|    total_timesteps      | 49152       |\n",
            "| train/                  |             |\n",
            "|    approx_kl            | 0.013326031 |\n",
            "|    clip_fraction        | 0.168       |\n",
            "|    clip_range           | 0.2         |\n",
            "|    entropy_loss         | -5.41       |\n",
            "|    explained_variance   | 0.675       |\n",
            "|    learning_rate        | 0.0003      |\n",
            "|    loss                 | 0.00842     |\n",
            "|    n_updates            | 230         |\n",
            "|    policy_gradient_loss | -0.00871    |\n",
            "|    std                  | 0.936       |\n",
            "|    value_loss           | 0.0343      |\n",
            "-----------------------------------------\n"
          ]
        },
        {
          "output_type": "display_data",
          "data": {
            "text/plain": [
              "Eval num_timesteps=50000, episode_reward=-1.23 +/- 0.20\n"
            ],
            "text/html": [
              "<pre style=\"white-space:pre;overflow-x:auto;line-height:normal;font-family:Menlo,'DejaVu Sans Mono',consolas,'Courier New',monospace\">Eval num_timesteps=50000, episode_reward=-1.23 +/- 0.20\n",
              "</pre>\n"
            ]
          },
          "metadata": {}
        },
        {
          "output_type": "display_data",
          "data": {
            "text/plain": [
              "Episode length: 50.00 +/- 0.00\n"
            ],
            "text/html": [
              "<pre style=\"white-space:pre;overflow-x:auto;line-height:normal;font-family:Menlo,'DejaVu Sans Mono',consolas,'Courier New',monospace\">Episode length: 50.00 +/- 0.00\n",
              "</pre>\n"
            ]
          },
          "metadata": {}
        },
        {
          "output_type": "display_data",
          "data": {
            "text/plain": [
              "Success rate: 100.00%\n"
            ],
            "text/html": [
              "<pre style=\"white-space:pre;overflow-x:auto;line-height:normal;font-family:Menlo,'DejaVu Sans Mono',consolas,'Courier New',monospace\">Success rate: 100.00%\n",
              "</pre>\n"
            ]
          },
          "metadata": {}
        },
        {
          "output_type": "stream",
          "name": "stdout",
          "text": [
            "-----------------------------------------\n",
            "| eval/                   |             |\n",
            "|    mean_ep_length       | 50          |\n",
            "|    mean_reward          | -1.23       |\n",
            "|    success_rate         | 1.0         |\n",
            "| time/                   |             |\n",
            "|    total_timesteps      | 50000       |\n",
            "| train/                  |             |\n",
            "|    approx_kl            | 0.011529094 |\n",
            "|    clip_fraction        | 0.186       |\n",
            "|    clip_range           | 0.2         |\n",
            "|    entropy_loss         | -5.39       |\n",
            "|    explained_variance   | 0.753       |\n",
            "|    learning_rate        | 0.0003      |\n",
            "|    loss                 | -0.005      |\n",
            "|    n_updates            | 240         |\n",
            "|    policy_gradient_loss | -0.00883    |\n",
            "|    std                  | 0.931       |\n",
            "|    value_loss           | 0.0294      |\n",
            "-----------------------------------------\n"
          ]
        },
        {
          "output_type": "display_data",
          "data": {
            "text/plain": [
              "New best mean reward!\n"
            ],
            "text/html": [
              "<pre style=\"white-space:pre;overflow-x:auto;line-height:normal;font-family:Menlo,'DejaVu Sans Mono',consolas,'Courier New',monospace\">New best mean reward!\n",
              "</pre>\n"
            ]
          },
          "metadata": {}
        },
        {
          "output_type": "stream",
          "name": "stdout",
          "text": [
            "---------------------------------\n",
            "| rollout/           |          |\n",
            "|    ep_len_mean     | 50       |\n",
            "|    ep_rew_mean     | -3.19    |\n",
            "|    success_rate    | 0.38     |\n",
            "| time/              |          |\n",
            "|    fps             | 252      |\n",
            "|    iterations      | 25       |\n",
            "|    time_elapsed    | 203      |\n",
            "|    total_timesteps | 51200    |\n",
            "---------------------------------\n",
            "-----------------------------------------\n",
            "| rollout/                |             |\n",
            "|    ep_len_mean          | 50          |\n",
            "|    ep_rew_mean          | -3.06       |\n",
            "|    success_rate         | 0.41        |\n",
            "| time/                   |             |\n",
            "|    fps                  | 252         |\n",
            "|    iterations           | 26          |\n",
            "|    time_elapsed         | 210         |\n",
            "|    total_timesteps      | 53248       |\n",
            "| train/                  |             |\n",
            "|    approx_kl            | 0.014812635 |\n",
            "|    clip_fraction        | 0.178       |\n",
            "|    clip_range           | 0.2         |\n",
            "|    entropy_loss         | -5.37       |\n",
            "|    explained_variance   | 0.616       |\n",
            "|    learning_rate        | 0.0003      |\n",
            "|    loss                 | -0.00321    |\n",
            "|    n_updates            | 250         |\n",
            "|    policy_gradient_loss | -0.00895    |\n",
            "|    std                  | 0.927       |\n",
            "|    value_loss           | 0.0263      |\n",
            "-----------------------------------------\n",
            "-----------------------------------------\n",
            "| rollout/                |             |\n",
            "|    ep_len_mean          | 50          |\n",
            "|    ep_rew_mean          | -3.01       |\n",
            "|    success_rate         | 0.42        |\n",
            "| time/                   |             |\n",
            "|    fps                  | 253         |\n",
            "|    iterations           | 27          |\n",
            "|    time_elapsed         | 218         |\n",
            "|    total_timesteps      | 55296       |\n",
            "| train/                  |             |\n",
            "|    approx_kl            | 0.011488507 |\n",
            "|    clip_fraction        | 0.152       |\n",
            "|    clip_range           | 0.2         |\n",
            "|    entropy_loss         | -5.35       |\n",
            "|    explained_variance   | 0.699       |\n",
            "|    learning_rate        | 0.0003      |\n",
            "|    loss                 | -0.00119    |\n",
            "|    n_updates            | 260         |\n",
            "|    policy_gradient_loss | -0.00975    |\n",
            "|    std                  | 0.923       |\n",
            "|    value_loss           | 0.0249      |\n",
            "-----------------------------------------\n",
            "-----------------------------------------\n",
            "| rollout/                |             |\n",
            "|    ep_len_mean          | 50          |\n",
            "|    ep_rew_mean          | -2.94       |\n",
            "|    success_rate         | 0.46        |\n",
            "| time/                   |             |\n",
            "|    fps                  | 253         |\n",
            "|    iterations           | 28          |\n",
            "|    time_elapsed         | 225         |\n",
            "|    total_timesteps      | 57344       |\n",
            "| train/                  |             |\n",
            "|    approx_kl            | 0.016432226 |\n",
            "|    clip_fraction        | 0.229       |\n",
            "|    clip_range           | 0.2         |\n",
            "|    entropy_loss         | -5.33       |\n",
            "|    explained_variance   | 0.563       |\n",
            "|    learning_rate        | 0.0003      |\n",
            "|    loss                 | -0.00813    |\n",
            "|    n_updates            | 270         |\n",
            "|    policy_gradient_loss | -0.0137     |\n",
            "|    std                  | 0.918       |\n",
            "|    value_loss           | 0.0247      |\n",
            "-----------------------------------------\n",
            "----------------------------------------\n",
            "| rollout/                |            |\n",
            "|    ep_len_mean          | 50         |\n",
            "|    ep_rew_mean          | -2.82      |\n",
            "|    success_rate         | 0.54       |\n",
            "| time/                   |            |\n",
            "|    fps                  | 254        |\n",
            "|    iterations           | 29         |\n",
            "|    time_elapsed         | 233        |\n",
            "|    total_timesteps      | 59392      |\n",
            "| train/                  |            |\n",
            "|    approx_kl            | 0.01282685 |\n",
            "|    clip_fraction        | 0.169      |\n",
            "|    clip_range           | 0.2        |\n",
            "|    entropy_loss         | -5.31      |\n",
            "|    explained_variance   | 0.616      |\n",
            "|    learning_rate        | 0.0003     |\n",
            "|    loss                 | -0.00178   |\n",
            "|    n_updates            | 280        |\n",
            "|    policy_gradient_loss | -0.00769   |\n",
            "|    std                  | 0.913      |\n",
            "|    value_loss           | 0.0186     |\n",
            "----------------------------------------\n"
          ]
        },
        {
          "output_type": "display_data",
          "data": {
            "text/plain": [
              "Eval num_timesteps=60000, episode_reward=-0.93 +/- 0.26\n"
            ],
            "text/html": [
              "<pre style=\"white-space:pre;overflow-x:auto;line-height:normal;font-family:Menlo,'DejaVu Sans Mono',consolas,'Courier New',monospace\">Eval num_timesteps=60000, episode_reward=-0.93 +/- 0.26\n",
              "</pre>\n"
            ]
          },
          "metadata": {}
        },
        {
          "output_type": "display_data",
          "data": {
            "text/plain": [
              "Episode length: 50.00 +/- 0.00\n"
            ],
            "text/html": [
              "<pre style=\"white-space:pre;overflow-x:auto;line-height:normal;font-family:Menlo,'DejaVu Sans Mono',consolas,'Courier New',monospace\">Episode length: 50.00 +/- 0.00\n",
              "</pre>\n"
            ]
          },
          "metadata": {}
        },
        {
          "output_type": "display_data",
          "data": {
            "text/plain": [
              "Success rate: 100.00%\n"
            ],
            "text/html": [
              "<pre style=\"white-space:pre;overflow-x:auto;line-height:normal;font-family:Menlo,'DejaVu Sans Mono',consolas,'Courier New',monospace\">Success rate: 100.00%\n",
              "</pre>\n"
            ]
          },
          "metadata": {}
        },
        {
          "output_type": "stream",
          "name": "stdout",
          "text": [
            "-----------------------------------------\n",
            "| eval/                   |             |\n",
            "|    mean_ep_length       | 50          |\n",
            "|    mean_reward          | -0.933      |\n",
            "|    success_rate         | 1.0         |\n",
            "| time/                   |             |\n",
            "|    total_timesteps      | 60000       |\n",
            "| train/                  |             |\n",
            "|    approx_kl            | 0.011552547 |\n",
            "|    clip_fraction        | 0.175       |\n",
            "|    clip_range           | 0.2         |\n",
            "|    entropy_loss         | -5.28       |\n",
            "|    explained_variance   | 0.645       |\n",
            "|    learning_rate        | 0.0003      |\n",
            "|    loss                 | 0.00124     |\n",
            "|    n_updates            | 290         |\n",
            "|    policy_gradient_loss | -0.00808    |\n",
            "|    std                  | 0.908       |\n",
            "|    value_loss           | 0.0204      |\n",
            "-----------------------------------------\n"
          ]
        },
        {
          "output_type": "display_data",
          "data": {
            "text/plain": [
              "New best mean reward!\n"
            ],
            "text/html": [
              "<pre style=\"white-space:pre;overflow-x:auto;line-height:normal;font-family:Menlo,'DejaVu Sans Mono',consolas,'Courier New',monospace\">New best mean reward!\n",
              "</pre>\n"
            ]
          },
          "metadata": {}
        },
        {
          "output_type": "stream",
          "name": "stdout",
          "text": [
            "---------------------------------\n",
            "| rollout/           |          |\n",
            "|    ep_len_mean     | 50       |\n",
            "|    ep_rew_mean     | -2.68    |\n",
            "|    success_rate    | 0.59     |\n",
            "| time/              |          |\n",
            "|    fps             | 253      |\n",
            "|    iterations      | 30       |\n",
            "|    time_elapsed    | 242      |\n",
            "|    total_timesteps | 61440    |\n",
            "---------------------------------\n",
            "-----------------------------------------\n",
            "| rollout/                |             |\n",
            "|    ep_len_mean          | 50          |\n",
            "|    ep_rew_mean          | -2.6        |\n",
            "|    success_rate         | 0.57        |\n",
            "| time/                   |             |\n",
            "|    fps                  | 253         |\n",
            "|    iterations           | 31          |\n",
            "|    time_elapsed         | 250         |\n",
            "|    total_timesteps      | 63488       |\n",
            "| train/                  |             |\n",
            "|    approx_kl            | 0.009563026 |\n",
            "|    clip_fraction        | 0.171       |\n",
            "|    clip_range           | 0.2         |\n",
            "|    entropy_loss         | -5.26       |\n",
            "|    explained_variance   | 0.655       |\n",
            "|    learning_rate        | 0.0003      |\n",
            "|    loss                 | -0.00716    |\n",
            "|    n_updates            | 300         |\n",
            "|    policy_gradient_loss | -0.00538    |\n",
            "|    std                  | 0.902       |\n",
            "|    value_loss           | 0.0169      |\n",
            "-----------------------------------------\n",
            "----------------------------------------\n",
            "| rollout/                |            |\n",
            "|    ep_len_mean          | 50         |\n",
            "|    ep_rew_mean          | -2.59      |\n",
            "|    success_rate         | 0.56       |\n",
            "| time/                   |            |\n",
            "|    fps                  | 254        |\n",
            "|    iterations           | 32         |\n",
            "|    time_elapsed         | 257        |\n",
            "|    total_timesteps      | 65536      |\n",
            "| train/                  |            |\n",
            "|    approx_kl            | 0.01377172 |\n",
            "|    clip_fraction        | 0.151      |\n",
            "|    clip_range           | 0.2        |\n",
            "|    entropy_loss         | -5.23      |\n",
            "|    explained_variance   | 0.761      |\n",
            "|    learning_rate        | 0.0003     |\n",
            "|    loss                 | 0.0171     |\n",
            "|    n_updates            | 310        |\n",
            "|    policy_gradient_loss | -0.00247   |\n",
            "|    std                  | 0.896      |\n",
            "|    value_loss           | 0.0125     |\n",
            "----------------------------------------\n",
            "-----------------------------------------\n",
            "| rollout/                |             |\n",
            "|    ep_len_mean          | 50          |\n",
            "|    ep_rew_mean          | -2.48       |\n",
            "|    success_rate         | 0.63        |\n",
            "| time/                   |             |\n",
            "|    fps                  | 254         |\n",
            "|    iterations           | 33          |\n",
            "|    time_elapsed         | 265         |\n",
            "|    total_timesteps      | 67584       |\n",
            "| train/                  |             |\n",
            "|    approx_kl            | 0.017629644 |\n",
            "|    clip_fraction        | 0.2         |\n",
            "|    clip_range           | 0.2         |\n",
            "|    entropy_loss         | -5.2        |\n",
            "|    explained_variance   | 0.702       |\n",
            "|    learning_rate        | 0.0003      |\n",
            "|    loss                 | -0.0147     |\n",
            "|    n_updates            | 320         |\n",
            "|    policy_gradient_loss | -0.00584    |\n",
            "|    std                  | 0.891       |\n",
            "|    value_loss           | 0.0101      |\n",
            "-----------------------------------------\n",
            "-----------------------------------------\n",
            "| rollout/                |             |\n",
            "|    ep_len_mean          | 50          |\n",
            "|    ep_rew_mean          | -2.38       |\n",
            "|    success_rate         | 0.74        |\n",
            "| time/                   |             |\n",
            "|    fps                  | 254         |\n",
            "|    iterations           | 34          |\n",
            "|    time_elapsed         | 273         |\n",
            "|    total_timesteps      | 69632       |\n",
            "| train/                  |             |\n",
            "|    approx_kl            | 0.016447522 |\n",
            "|    clip_fraction        | 0.244       |\n",
            "|    clip_range           | 0.2         |\n",
            "|    entropy_loss         | -5.18       |\n",
            "|    explained_variance   | 0.771       |\n",
            "|    learning_rate        | 0.0003      |\n",
            "|    loss                 | -0.0103     |\n",
            "|    n_updates            | 330         |\n",
            "|    policy_gradient_loss | -0.00344    |\n",
            "|    std                  | 0.886       |\n",
            "|    value_loss           | 0.00987     |\n",
            "-----------------------------------------\n"
          ]
        },
        {
          "output_type": "display_data",
          "data": {
            "text/plain": [
              "Eval num_timesteps=70000, episode_reward=-1.21 +/- 0.18\n"
            ],
            "text/html": [
              "<pre style=\"white-space:pre;overflow-x:auto;line-height:normal;font-family:Menlo,'DejaVu Sans Mono',consolas,'Courier New',monospace\">Eval num_timesteps=70000, episode_reward=-1.21 +/- 0.18\n",
              "</pre>\n"
            ]
          },
          "metadata": {}
        },
        {
          "output_type": "display_data",
          "data": {
            "text/plain": [
              "Episode length: 50.00 +/- 0.00\n"
            ],
            "text/html": [
              "<pre style=\"white-space:pre;overflow-x:auto;line-height:normal;font-family:Menlo,'DejaVu Sans Mono',consolas,'Courier New',monospace\">Episode length: 50.00 +/- 0.00\n",
              "</pre>\n"
            ]
          },
          "metadata": {}
        },
        {
          "output_type": "display_data",
          "data": {
            "text/plain": [
              "Success rate: 100.00%\n"
            ],
            "text/html": [
              "<pre style=\"white-space:pre;overflow-x:auto;line-height:normal;font-family:Menlo,'DejaVu Sans Mono',consolas,'Courier New',monospace\">Success rate: 100.00%\n",
              "</pre>\n"
            ]
          },
          "metadata": {}
        },
        {
          "output_type": "stream",
          "name": "stdout",
          "text": [
            "-----------------------------------------\n",
            "| eval/                   |             |\n",
            "|    mean_ep_length       | 50          |\n",
            "|    mean_reward          | -1.21       |\n",
            "|    success_rate         | 1.0         |\n",
            "| time/                   |             |\n",
            "|    total_timesteps      | 70000       |\n",
            "| train/                  |             |\n",
            "|    approx_kl            | 0.015637515 |\n",
            "|    clip_fraction        | 0.162       |\n",
            "|    clip_range           | 0.2         |\n",
            "|    entropy_loss         | -5.15       |\n",
            "|    explained_variance   | 0.667       |\n",
            "|    learning_rate        | 0.0003      |\n",
            "|    loss                 | 0.0201      |\n",
            "|    n_updates            | 340         |\n",
            "|    policy_gradient_loss | 0.000991    |\n",
            "|    std                  | 0.879       |\n",
            "|    value_loss           | 0.00878     |\n",
            "-----------------------------------------\n",
            "---------------------------------\n",
            "| rollout/           |          |\n",
            "|    ep_len_mean     | 50       |\n",
            "|    ep_rew_mean     | -2.33    |\n",
            "|    success_rate    | 0.76     |\n",
            "| time/              |          |\n",
            "|    fps             | 253      |\n",
            "|    iterations      | 35       |\n",
            "|    time_elapsed    | 282      |\n",
            "|    total_timesteps | 71680    |\n",
            "---------------------------------\n",
            "-----------------------------------------\n",
            "| rollout/                |             |\n",
            "|    ep_len_mean          | 50          |\n",
            "|    ep_rew_mean          | -2.32       |\n",
            "|    success_rate         | 0.74        |\n",
            "| time/                   |             |\n",
            "|    fps                  | 254         |\n",
            "|    iterations           | 36          |\n",
            "|    time_elapsed         | 290         |\n",
            "|    total_timesteps      | 73728       |\n",
            "| train/                  |             |\n",
            "|    approx_kl            | 0.014164994 |\n",
            "|    clip_fraction        | 0.22        |\n",
            "|    clip_range           | 0.2         |\n",
            "|    entropy_loss         | -5.13       |\n",
            "|    explained_variance   | 0.659       |\n",
            "|    learning_rate        | 0.0003      |\n",
            "|    loss                 | -0.0193     |\n",
            "|    n_updates            | 350         |\n",
            "|    policy_gradient_loss | -0.0145     |\n",
            "|    std                  | 0.875       |\n",
            "|    value_loss           | 0.0111      |\n",
            "-----------------------------------------\n",
            "-----------------------------------------\n",
            "| rollout/                |             |\n",
            "|    ep_len_mean          | 50          |\n",
            "|    ep_rew_mean          | -2.23       |\n",
            "|    success_rate         | 0.79        |\n",
            "| time/                   |             |\n",
            "|    fps                  | 254         |\n",
            "|    iterations           | 37          |\n",
            "|    time_elapsed         | 297         |\n",
            "|    total_timesteps      | 75776       |\n",
            "| train/                  |             |\n",
            "|    approx_kl            | 0.018585661 |\n",
            "|    clip_fraction        | 0.208       |\n",
            "|    clip_range           | 0.2         |\n",
            "|    entropy_loss         | -5.11       |\n",
            "|    explained_variance   | 0.7         |\n",
            "|    learning_rate        | 0.0003      |\n",
            "|    loss                 | -0.0156     |\n",
            "|    n_updates            | 360         |\n",
            "|    policy_gradient_loss | -0.00617    |\n",
            "|    std                  | 0.874       |\n",
            "|    value_loss           | 0.00789     |\n",
            "-----------------------------------------\n",
            "----------------------------------------\n",
            "| rollout/                |            |\n",
            "|    ep_len_mean          | 50         |\n",
            "|    ep_rew_mean          | -2.16      |\n",
            "|    success_rate         | 0.8        |\n",
            "| time/                   |            |\n",
            "|    fps                  | 254        |\n",
            "|    iterations           | 38         |\n",
            "|    time_elapsed         | 305        |\n",
            "|    total_timesteps      | 77824      |\n",
            "| train/                  |            |\n",
            "|    approx_kl            | 0.00914379 |\n",
            "|    clip_fraction        | 0.191      |\n",
            "|    clip_range           | 0.2        |\n",
            "|    entropy_loss         | -5.1       |\n",
            "|    explained_variance   | 0.668      |\n",
            "|    learning_rate        | 0.0003     |\n",
            "|    loss                 | -0.013     |\n",
            "|    n_updates            | 370        |\n",
            "|    policy_gradient_loss | -0.00514   |\n",
            "|    std                  | 0.87       |\n",
            "|    value_loss           | 0.00875    |\n",
            "----------------------------------------\n",
            "-----------------------------------------\n",
            "| rollout/                |             |\n",
            "|    ep_len_mean          | 50          |\n",
            "|    ep_rew_mean          | -2.12       |\n",
            "|    success_rate         | 0.75        |\n",
            "| time/                   |             |\n",
            "|    fps                  | 255         |\n",
            "|    iterations           | 39          |\n",
            "|    time_elapsed         | 313         |\n",
            "|    total_timesteps      | 79872       |\n",
            "| train/                  |             |\n",
            "|    approx_kl            | 0.011773493 |\n",
            "|    clip_fraction        | 0.173       |\n",
            "|    clip_range           | 0.2         |\n",
            "|    entropy_loss         | -5.07       |\n",
            "|    explained_variance   | 0.72        |\n",
            "|    learning_rate        | 0.0003      |\n",
            "|    loss                 | -0.0138     |\n",
            "|    n_updates            | 380         |\n",
            "|    policy_gradient_loss | -0.00455    |\n",
            "|    std                  | 0.863       |\n",
            "|    value_loss           | 0.00729     |\n",
            "-----------------------------------------\n"
          ]
        },
        {
          "output_type": "display_data",
          "data": {
            "text/plain": [
              "Eval num_timesteps=80000, episode_reward=-0.96 +/- 0.11\n"
            ],
            "text/html": [
              "<pre style=\"white-space:pre;overflow-x:auto;line-height:normal;font-family:Menlo,'DejaVu Sans Mono',consolas,'Courier New',monospace\">Eval num_timesteps=80000, episode_reward=-0.96 +/- 0.11\n",
              "</pre>\n"
            ]
          },
          "metadata": {}
        },
        {
          "output_type": "display_data",
          "data": {
            "text/plain": [
              "Episode length: 50.00 +/- 0.00\n"
            ],
            "text/html": [
              "<pre style=\"white-space:pre;overflow-x:auto;line-height:normal;font-family:Menlo,'DejaVu Sans Mono',consolas,'Courier New',monospace\">Episode length: 50.00 +/- 0.00\n",
              "</pre>\n"
            ]
          },
          "metadata": {}
        },
        {
          "output_type": "display_data",
          "data": {
            "text/plain": [
              "Success rate: 100.00%\n"
            ],
            "text/html": [
              "<pre style=\"white-space:pre;overflow-x:auto;line-height:normal;font-family:Menlo,'DejaVu Sans Mono',consolas,'Courier New',monospace\">Success rate: 100.00%\n",
              "</pre>\n"
            ]
          },
          "metadata": {}
        },
        {
          "output_type": "stream",
          "name": "stdout",
          "text": [
            "-----------------------------------------\n",
            "| eval/                   |             |\n",
            "|    mean_ep_length       | 50          |\n",
            "|    mean_reward          | -0.965      |\n",
            "|    success_rate         | 1.0         |\n",
            "| time/                   |             |\n",
            "|    total_timesteps      | 80000       |\n",
            "| train/                  |             |\n",
            "|    approx_kl            | 0.030668447 |\n",
            "|    clip_fraction        | 0.327       |\n",
            "|    clip_range           | 0.2         |\n",
            "|    entropy_loss         | -5.04       |\n",
            "|    explained_variance   | 0.646       |\n",
            "|    learning_rate        | 0.0003      |\n",
            "|    loss                 | 0.0271      |\n",
            "|    n_updates            | 390         |\n",
            "|    policy_gradient_loss | 0.00194     |\n",
            "|    std                  | 0.859       |\n",
            "|    value_loss           | 0.00745     |\n",
            "-----------------------------------------\n",
            "---------------------------------\n",
            "| rollout/           |          |\n",
            "|    ep_len_mean     | 50       |\n",
            "|    ep_rew_mean     | -2.09    |\n",
            "|    success_rate    | 0.68     |\n",
            "| time/              |          |\n",
            "|    fps             | 254      |\n",
            "|    iterations      | 40       |\n",
            "|    time_elapsed    | 322      |\n",
            "|    total_timesteps | 81920    |\n",
            "---------------------------------\n",
            "-----------------------------------------\n",
            "| rollout/                |             |\n",
            "|    ep_len_mean          | 50          |\n",
            "|    ep_rew_mean          | -2.07       |\n",
            "|    success_rate         | 0.7         |\n",
            "| time/                   |             |\n",
            "|    fps                  | 254         |\n",
            "|    iterations           | 41          |\n",
            "|    time_elapsed         | 329         |\n",
            "|    total_timesteps      | 83968       |\n",
            "| train/                  |             |\n",
            "|    approx_kl            | 0.018346386 |\n",
            "|    clip_fraction        | 0.239       |\n",
            "|    clip_range           | 0.2         |\n",
            "|    entropy_loss         | -5.03       |\n",
            "|    explained_variance   | 0.644       |\n",
            "|    learning_rate        | 0.0003      |\n",
            "|    loss                 | -0.00316    |\n",
            "|    n_updates            | 400         |\n",
            "|    policy_gradient_loss | -0.0128     |\n",
            "|    std                  | 0.857       |\n",
            "|    value_loss           | 0.00675     |\n",
            "-----------------------------------------\n",
            "-----------------------------------------\n",
            "| rollout/                |             |\n",
            "|    ep_len_mean          | 50          |\n",
            "|    ep_rew_mean          | -2.04       |\n",
            "|    success_rate         | 0.77        |\n",
            "| time/                   |             |\n",
            "|    fps                  | 254         |\n",
            "|    iterations           | 42          |\n",
            "|    time_elapsed         | 337         |\n",
            "|    total_timesteps      | 86016       |\n",
            "| train/                  |             |\n",
            "|    approx_kl            | 0.016667912 |\n",
            "|    clip_fraction        | 0.228       |\n",
            "|    clip_range           | 0.2         |\n",
            "|    entropy_loss         | -5.01       |\n",
            "|    explained_variance   | 0.521       |\n",
            "|    learning_rate        | 0.0003      |\n",
            "|    loss                 | -0.0104     |\n",
            "|    n_updates            | 410         |\n",
            "|    policy_gradient_loss | -0.0062     |\n",
            "|    std                  | 0.852       |\n",
            "|    value_loss           | 0.00598     |\n",
            "-----------------------------------------\n",
            "-----------------------------------------\n",
            "| rollout/                |             |\n",
            "|    ep_len_mean          | 50          |\n",
            "|    ep_rew_mean          | -2.03       |\n",
            "|    success_rate         | 0.86        |\n",
            "| time/                   |             |\n",
            "|    fps                  | 255         |\n",
            "|    iterations           | 43          |\n",
            "|    time_elapsed         | 345         |\n",
            "|    total_timesteps      | 88064       |\n",
            "| train/                  |             |\n",
            "|    approx_kl            | 0.014135514 |\n",
            "|    clip_fraction        | 0.254       |\n",
            "|    clip_range           | 0.2         |\n",
            "|    entropy_loss         | -4.98       |\n",
            "|    explained_variance   | 0.617       |\n",
            "|    learning_rate        | 0.0003      |\n",
            "|    loss                 | -0.0253     |\n",
            "|    n_updates            | 420         |\n",
            "|    policy_gradient_loss | -0.00988    |\n",
            "|    std                  | 0.847       |\n",
            "|    value_loss           | 0.00646     |\n",
            "-----------------------------------------\n"
          ]
        },
        {
          "output_type": "display_data",
          "data": {
            "text/plain": [
              "Eval num_timesteps=90000, episode_reward=-0.88 +/- 0.09\n"
            ],
            "text/html": [
              "<pre style=\"white-space:pre;overflow-x:auto;line-height:normal;font-family:Menlo,'DejaVu Sans Mono',consolas,'Courier New',monospace\">Eval num_timesteps=90000, episode_reward=-0.88 +/- 0.09\n",
              "</pre>\n"
            ]
          },
          "metadata": {}
        },
        {
          "output_type": "display_data",
          "data": {
            "text/plain": [
              "Episode length: 50.00 +/- 0.00\n"
            ],
            "text/html": [
              "<pre style=\"white-space:pre;overflow-x:auto;line-height:normal;font-family:Menlo,'DejaVu Sans Mono',consolas,'Courier New',monospace\">Episode length: 50.00 +/- 0.00\n",
              "</pre>\n"
            ]
          },
          "metadata": {}
        },
        {
          "output_type": "display_data",
          "data": {
            "text/plain": [
              "Success rate: 100.00%\n"
            ],
            "text/html": [
              "<pre style=\"white-space:pre;overflow-x:auto;line-height:normal;font-family:Menlo,'DejaVu Sans Mono',consolas,'Courier New',monospace\">Success rate: 100.00%\n",
              "</pre>\n"
            ]
          },
          "metadata": {}
        },
        {
          "output_type": "stream",
          "name": "stdout",
          "text": [
            "-----------------------------------------\n",
            "| eval/                   |             |\n",
            "|    mean_ep_length       | 50          |\n",
            "|    mean_reward          | -0.883      |\n",
            "|    success_rate         | 1.0         |\n",
            "| time/                   |             |\n",
            "|    total_timesteps      | 90000       |\n",
            "| train/                  |             |\n",
            "|    approx_kl            | 0.019524027 |\n",
            "|    clip_fraction        | 0.197       |\n",
            "|    clip_range           | 0.2         |\n",
            "|    entropy_loss         | -4.96       |\n",
            "|    explained_variance   | 0.723       |\n",
            "|    learning_rate        | 0.0003      |\n",
            "|    loss                 | -0.0131     |\n",
            "|    n_updates            | 430         |\n",
            "|    policy_gradient_loss | -0.00751    |\n",
            "|    std                  | 0.843       |\n",
            "|    value_loss           | 0.00671     |\n",
            "-----------------------------------------\n"
          ]
        },
        {
          "output_type": "display_data",
          "data": {
            "text/plain": [
              "New best mean reward!\n"
            ],
            "text/html": [
              "<pre style=\"white-space:pre;overflow-x:auto;line-height:normal;font-family:Menlo,'DejaVu Sans Mono',consolas,'Courier New',monospace\">New best mean reward!\n",
              "</pre>\n"
            ]
          },
          "metadata": {}
        },
        {
          "output_type": "stream",
          "name": "stdout",
          "text": [
            "---------------------------------\n",
            "| rollout/           |          |\n",
            "|    ep_len_mean     | 50       |\n",
            "|    ep_rew_mean     | -2       |\n",
            "|    success_rate    | 0.9      |\n",
            "| time/              |          |\n",
            "|    fps             | 254      |\n",
            "|    iterations      | 44       |\n",
            "|    time_elapsed    | 354      |\n",
            "|    total_timesteps | 90112    |\n",
            "---------------------------------\n",
            "------------------------------------------\n",
            "| rollout/                |              |\n",
            "|    ep_len_mean          | 50           |\n",
            "|    ep_rew_mean          | -1.98        |\n",
            "|    success_rate         | 0.91         |\n",
            "| time/                   |              |\n",
            "|    fps                  | 254          |\n",
            "|    iterations           | 45           |\n",
            "|    time_elapsed         | 361          |\n",
            "|    total_timesteps      | 92160        |\n",
            "| train/                  |              |\n",
            "|    approx_kl            | 0.0113223335 |\n",
            "|    clip_fraction        | 0.239        |\n",
            "|    clip_range           | 0.2          |\n",
            "|    entropy_loss         | -4.94        |\n",
            "|    explained_variance   | 0.515        |\n",
            "|    learning_rate        | 0.0003       |\n",
            "|    loss                 | -0.0106      |\n",
            "|    n_updates            | 440          |\n",
            "|    policy_gradient_loss | -0.00358     |\n",
            "|    std                  | 0.839        |\n",
            "|    value_loss           | 0.00533      |\n",
            "------------------------------------------\n",
            "-----------------------------------------\n",
            "| rollout/                |             |\n",
            "|    ep_len_mean          | 50          |\n",
            "|    ep_rew_mean          | -1.94       |\n",
            "|    success_rate         | 0.91        |\n",
            "| time/                   |             |\n",
            "|    fps                  | 255         |\n",
            "|    iterations           | 46          |\n",
            "|    time_elapsed         | 369         |\n",
            "|    total_timesteps      | 94208       |\n",
            "| train/                  |             |\n",
            "|    approx_kl            | 0.012727518 |\n",
            "|    clip_fraction        | 0.214       |\n",
            "|    clip_range           | 0.2         |\n",
            "|    entropy_loss         | -4.91       |\n",
            "|    explained_variance   | 0.571       |\n",
            "|    learning_rate        | 0.0003      |\n",
            "|    loss                 | -0.0199     |\n",
            "|    n_updates            | 450         |\n",
            "|    policy_gradient_loss | -0.00422    |\n",
            "|    std                  | 0.832       |\n",
            "|    value_loss           | 0.00687     |\n",
            "-----------------------------------------\n",
            "-----------------------------------------\n",
            "| rollout/                |             |\n",
            "|    ep_len_mean          | 50          |\n",
            "|    ep_rew_mean          | -1.93       |\n",
            "|    success_rate         | 0.9         |\n",
            "| time/                   |             |\n",
            "|    fps                  | 255         |\n",
            "|    iterations           | 47          |\n",
            "|    time_elapsed         | 376         |\n",
            "|    total_timesteps      | 96256       |\n",
            "| train/                  |             |\n",
            "|    approx_kl            | 0.013105424 |\n",
            "|    clip_fraction        | 0.199       |\n",
            "|    clip_range           | 0.2         |\n",
            "|    entropy_loss         | -4.88       |\n",
            "|    explained_variance   | 0.567       |\n",
            "|    learning_rate        | 0.0003      |\n",
            "|    loss                 | 0.00496     |\n",
            "|    n_updates            | 460         |\n",
            "|    policy_gradient_loss | -0.00417    |\n",
            "|    std                  | 0.827       |\n",
            "|    value_loss           | 0.00499     |\n",
            "-----------------------------------------\n",
            "-----------------------------------------\n",
            "| rollout/                |             |\n",
            "|    ep_len_mean          | 50          |\n",
            "|    ep_rew_mean          | -1.89       |\n",
            "|    success_rate         | 0.89        |\n",
            "| time/                   |             |\n",
            "|    fps                  | 255         |\n",
            "|    iterations           | 48          |\n",
            "|    time_elapsed         | 384         |\n",
            "|    total_timesteps      | 98304       |\n",
            "| train/                  |             |\n",
            "|    approx_kl            | 0.013887377 |\n",
            "|    clip_fraction        | 0.261       |\n",
            "|    clip_range           | 0.2         |\n",
            "|    entropy_loss         | -4.86       |\n",
            "|    explained_variance   | 0.548       |\n",
            "|    learning_rate        | 0.0003      |\n",
            "|    loss                 | -0.0151     |\n",
            "|    n_updates            | 470         |\n",
            "|    policy_gradient_loss | -0.00559    |\n",
            "|    std                  | 0.823       |\n",
            "|    value_loss           | 0.00575     |\n",
            "-----------------------------------------\n"
          ]
        },
        {
          "output_type": "display_data",
          "data": {
            "text/plain": [
              "Eval num_timesteps=100000, episode_reward=-0.79 +/- 0.26\n"
            ],
            "text/html": [
              "<pre style=\"white-space:pre;overflow-x:auto;line-height:normal;font-family:Menlo,'DejaVu Sans Mono',consolas,'Courier New',monospace\">Eval num_timesteps=100000, episode_reward=-0.79 +/- 0.26\n",
              "</pre>\n"
            ]
          },
          "metadata": {}
        },
        {
          "output_type": "display_data",
          "data": {
            "text/plain": [
              "Episode length: 50.00 +/- 0.00\n"
            ],
            "text/html": [
              "<pre style=\"white-space:pre;overflow-x:auto;line-height:normal;font-family:Menlo,'DejaVu Sans Mono',consolas,'Courier New',monospace\">Episode length: 50.00 +/- 0.00\n",
              "</pre>\n"
            ]
          },
          "metadata": {}
        },
        {
          "output_type": "display_data",
          "data": {
            "text/plain": [
              "Success rate: 100.00%\n"
            ],
            "text/html": [
              "<pre style=\"white-space:pre;overflow-x:auto;line-height:normal;font-family:Menlo,'DejaVu Sans Mono',consolas,'Courier New',monospace\">Success rate: 100.00%\n",
              "</pre>\n"
            ]
          },
          "metadata": {}
        },
        {
          "output_type": "stream",
          "name": "stdout",
          "text": [
            "-----------------------------------------\n",
            "| eval/                   |             |\n",
            "|    mean_ep_length       | 50          |\n",
            "|    mean_reward          | -0.791      |\n",
            "|    success_rate         | 1.0         |\n",
            "| time/                   |             |\n",
            "|    total_timesteps      | 100000      |\n",
            "| train/                  |             |\n",
            "|    approx_kl            | 0.012557536 |\n",
            "|    clip_fraction        | 0.266       |\n",
            "|    clip_range           | 0.2         |\n",
            "|    entropy_loss         | -4.83       |\n",
            "|    explained_variance   | 0.559       |\n",
            "|    learning_rate        | 0.0003      |\n",
            "|    loss                 | 0.021       |\n",
            "|    n_updates            | 480         |\n",
            "|    policy_gradient_loss | 0.00455     |\n",
            "|    std                  | 0.819       |\n",
            "|    value_loss           | 0.00439     |\n",
            "-----------------------------------------\n"
          ]
        },
        {
          "output_type": "display_data",
          "data": {
            "text/plain": [
              "New best mean reward!\n"
            ],
            "text/html": [
              "<pre style=\"white-space:pre;overflow-x:auto;line-height:normal;font-family:Menlo,'DejaVu Sans Mono',consolas,'Courier New',monospace\">New best mean reward!\n",
              "</pre>\n"
            ]
          },
          "metadata": {}
        },
        {
          "output_type": "stream",
          "name": "stdout",
          "text": [
            "---------------------------------\n",
            "| rollout/           |          |\n",
            "|    ep_len_mean     | 50       |\n",
            "|    ep_rew_mean     | -1.88    |\n",
            "|    success_rate    | 0.87     |\n",
            "| time/              |          |\n",
            "|    fps             | 254      |\n",
            "|    iterations      | 49       |\n",
            "|    time_elapsed    | 393      |\n",
            "|    total_timesteps | 100352   |\n",
            "---------------------------------\n",
            "-----------------------------------------\n",
            "| rollout/                |             |\n",
            "|    ep_len_mean          | 50          |\n",
            "|    ep_rew_mean          | -1.81       |\n",
            "|    success_rate         | 0.92        |\n",
            "| time/                   |             |\n",
            "|    fps                  | 255         |\n",
            "|    iterations           | 50          |\n",
            "|    time_elapsed         | 401         |\n",
            "|    total_timesteps      | 102400      |\n",
            "| train/                  |             |\n",
            "|    approx_kl            | 0.017467637 |\n",
            "|    clip_fraction        | 0.22        |\n",
            "|    clip_range           | 0.2         |\n",
            "|    entropy_loss         | -4.81       |\n",
            "|    explained_variance   | 0.605       |\n",
            "|    learning_rate        | 0.0003      |\n",
            "|    loss                 | 0.0249      |\n",
            "|    n_updates            | 490         |\n",
            "|    policy_gradient_loss | 0.0014      |\n",
            "|    std                  | 0.814       |\n",
            "|    value_loss           | 0.00464     |\n",
            "-----------------------------------------\n",
            "-----------------------------------------\n",
            "| rollout/                |             |\n",
            "|    ep_len_mean          | 50          |\n",
            "|    ep_rew_mean          | -1.78       |\n",
            "|    success_rate         | 0.94        |\n",
            "| time/                   |             |\n",
            "|    fps                  | 255         |\n",
            "|    iterations           | 51          |\n",
            "|    time_elapsed         | 409         |\n",
            "|    total_timesteps      | 104448      |\n",
            "| train/                  |             |\n",
            "|    approx_kl            | 0.009710746 |\n",
            "|    clip_fraction        | 0.232       |\n",
            "|    clip_range           | 0.2         |\n",
            "|    entropy_loss         | -4.78       |\n",
            "|    explained_variance   | 0.409       |\n",
            "|    learning_rate        | 0.0003      |\n",
            "|    loss                 | 0.00428     |\n",
            "|    n_updates            | 500         |\n",
            "|    policy_gradient_loss | 0.00256     |\n",
            "|    std                  | 0.808       |\n",
            "|    value_loss           | 0.00521     |\n",
            "-----------------------------------------\n",
            "-----------------------------------------\n",
            "| rollout/                |             |\n",
            "|    ep_len_mean          | 50          |\n",
            "|    ep_rew_mean          | -1.79       |\n",
            "|    success_rate         | 0.95        |\n",
            "| time/                   |             |\n",
            "|    fps                  | 255         |\n",
            "|    iterations           | 52          |\n",
            "|    time_elapsed         | 416         |\n",
            "|    total_timesteps      | 106496      |\n",
            "| train/                  |             |\n",
            "|    approx_kl            | 0.012348615 |\n",
            "|    clip_fraction        | 0.253       |\n",
            "|    clip_range           | 0.2         |\n",
            "|    entropy_loss         | -4.76       |\n",
            "|    explained_variance   | 0.559       |\n",
            "|    learning_rate        | 0.0003      |\n",
            "|    loss                 | -0.000991   |\n",
            "|    n_updates            | 510         |\n",
            "|    policy_gradient_loss | -0.00217    |\n",
            "|    std                  | 0.804       |\n",
            "|    value_loss           | 0.00383     |\n",
            "-----------------------------------------\n",
            "-----------------------------------------\n",
            "| rollout/                |             |\n",
            "|    ep_len_mean          | 50          |\n",
            "|    ep_rew_mean          | -1.77       |\n",
            "|    success_rate         | 0.95        |\n",
            "| time/                   |             |\n",
            "|    fps                  | 255         |\n",
            "|    iterations           | 53          |\n",
            "|    time_elapsed         | 424         |\n",
            "|    total_timesteps      | 108544      |\n",
            "| train/                  |             |\n",
            "|    approx_kl            | 0.017707355 |\n",
            "|    clip_fraction        | 0.272       |\n",
            "|    clip_range           | 0.2         |\n",
            "|    entropy_loss         | -4.73       |\n",
            "|    explained_variance   | 0.619       |\n",
            "|    learning_rate        | 0.0003      |\n",
            "|    loss                 | -0.0121     |\n",
            "|    n_updates            | 520         |\n",
            "|    policy_gradient_loss | -0.000605   |\n",
            "|    std                  | 0.8         |\n",
            "|    value_loss           | 0.00311     |\n",
            "-----------------------------------------\n"
          ]
        },
        {
          "output_type": "display_data",
          "data": {
            "text/plain": [
              "Eval num_timesteps=110000, episode_reward=-0.71 +/- 0.33\n"
            ],
            "text/html": [
              "<pre style=\"white-space:pre;overflow-x:auto;line-height:normal;font-family:Menlo,'DejaVu Sans Mono',consolas,'Courier New',monospace\">Eval num_timesteps=110000, episode_reward=-0.71 +/- 0.33\n",
              "</pre>\n"
            ]
          },
          "metadata": {}
        },
        {
          "output_type": "display_data",
          "data": {
            "text/plain": [
              "Episode length: 50.00 +/- 0.00\n"
            ],
            "text/html": [
              "<pre style=\"white-space:pre;overflow-x:auto;line-height:normal;font-family:Menlo,'DejaVu Sans Mono',consolas,'Courier New',monospace\">Episode length: 50.00 +/- 0.00\n",
              "</pre>\n"
            ]
          },
          "metadata": {}
        },
        {
          "output_type": "display_data",
          "data": {
            "text/plain": [
              "Success rate: 100.00%\n"
            ],
            "text/html": [
              "<pre style=\"white-space:pre;overflow-x:auto;line-height:normal;font-family:Menlo,'DejaVu Sans Mono',consolas,'Courier New',monospace\">Success rate: 100.00%\n",
              "</pre>\n"
            ]
          },
          "metadata": {}
        },
        {
          "output_type": "stream",
          "name": "stdout",
          "text": [
            "-----------------------------------------\n",
            "| eval/                   |             |\n",
            "|    mean_ep_length       | 50          |\n",
            "|    mean_reward          | -0.706      |\n",
            "|    success_rate         | 1.0         |\n",
            "| time/                   |             |\n",
            "|    total_timesteps      | 110000      |\n",
            "| train/                  |             |\n",
            "|    approx_kl            | 0.015747199 |\n",
            "|    clip_fraction        | 0.2         |\n",
            "|    clip_range           | 0.2         |\n",
            "|    entropy_loss         | -4.71       |\n",
            "|    explained_variance   | 0.435       |\n",
            "|    learning_rate        | 0.0003      |\n",
            "|    loss                 | -0.000722   |\n",
            "|    n_updates            | 530         |\n",
            "|    policy_gradient_loss | -0.00316    |\n",
            "|    std                  | 0.795       |\n",
            "|    value_loss           | 0.0041      |\n",
            "-----------------------------------------\n"
          ]
        },
        {
          "output_type": "display_data",
          "data": {
            "text/plain": [
              "New best mean reward!\n"
            ],
            "text/html": [
              "<pre style=\"white-space:pre;overflow-x:auto;line-height:normal;font-family:Menlo,'DejaVu Sans Mono',consolas,'Courier New',monospace\">New best mean reward!\n",
              "</pre>\n"
            ]
          },
          "metadata": {}
        },
        {
          "output_type": "stream",
          "name": "stdout",
          "text": [
            "---------------------------------\n",
            "| rollout/           |          |\n",
            "|    ep_len_mean     | 50       |\n",
            "|    ep_rew_mean     | -1.74    |\n",
            "|    success_rate    | 0.93     |\n",
            "| time/              |          |\n",
            "|    fps             | 255      |\n",
            "|    iterations      | 54       |\n",
            "|    time_elapsed    | 433      |\n",
            "|    total_timesteps | 110592   |\n",
            "---------------------------------\n",
            "-----------------------------------------\n",
            "| rollout/                |             |\n",
            "|    ep_len_mean          | 50          |\n",
            "|    ep_rew_mean          | -1.71       |\n",
            "|    success_rate         | 0.92        |\n",
            "| time/                   |             |\n",
            "|    fps                  | 255         |\n",
            "|    iterations           | 55          |\n",
            "|    time_elapsed         | 440         |\n",
            "|    total_timesteps      | 112640      |\n",
            "| train/                  |             |\n",
            "|    approx_kl            | 0.022041002 |\n",
            "|    clip_fraction        | 0.279       |\n",
            "|    clip_range           | 0.2         |\n",
            "|    entropy_loss         | -4.68       |\n",
            "|    explained_variance   | 0.562       |\n",
            "|    learning_rate        | 0.0003      |\n",
            "|    loss                 | -0.00566    |\n",
            "|    n_updates            | 540         |\n",
            "|    policy_gradient_loss | 0.00387     |\n",
            "|    std                  | 0.791       |\n",
            "|    value_loss           | 0.00379     |\n",
            "-----------------------------------------\n",
            "-----------------------------------------\n",
            "| rollout/                |             |\n",
            "|    ep_len_mean          | 50          |\n",
            "|    ep_rew_mean          | -1.7        |\n",
            "|    success_rate         | 0.92        |\n",
            "| time/                   |             |\n",
            "|    fps                  | 255         |\n",
            "|    iterations           | 56          |\n",
            "|    time_elapsed         | 448         |\n",
            "|    total_timesteps      | 114688      |\n",
            "| train/                  |             |\n",
            "|    approx_kl            | 0.018537052 |\n",
            "|    clip_fraction        | 0.237       |\n",
            "|    clip_range           | 0.2         |\n",
            "|    entropy_loss         | -4.66       |\n",
            "|    explained_variance   | 0.397       |\n",
            "|    learning_rate        | 0.0003      |\n",
            "|    loss                 | -0.00543    |\n",
            "|    n_updates            | 550         |\n",
            "|    policy_gradient_loss | -0.000158   |\n",
            "|    std                  | 0.787       |\n",
            "|    value_loss           | 0.00366     |\n",
            "-----------------------------------------\n",
            "-----------------------------------------\n",
            "| rollout/                |             |\n",
            "|    ep_len_mean          | 50          |\n",
            "|    ep_rew_mean          | -1.7        |\n",
            "|    success_rate         | 0.95        |\n",
            "| time/                   |             |\n",
            "|    fps                  | 256         |\n",
            "|    iterations           | 57          |\n",
            "|    time_elapsed         | 455         |\n",
            "|    total_timesteps      | 116736      |\n",
            "| train/                  |             |\n",
            "|    approx_kl            | 0.025860019 |\n",
            "|    clip_fraction        | 0.309       |\n",
            "|    clip_range           | 0.2         |\n",
            "|    entropy_loss         | -4.63       |\n",
            "|    explained_variance   | 0.596       |\n",
            "|    learning_rate        | 0.0003      |\n",
            "|    loss                 | -0.0218     |\n",
            "|    n_updates            | 560         |\n",
            "|    policy_gradient_loss | -0.00462    |\n",
            "|    std                  | 0.783       |\n",
            "|    value_loss           | 0.00366     |\n",
            "-----------------------------------------\n",
            "-----------------------------------------\n",
            "| rollout/                |             |\n",
            "|    ep_len_mean          | 50          |\n",
            "|    ep_rew_mean          | -1.69       |\n",
            "|    success_rate         | 0.94        |\n",
            "| time/                   |             |\n",
            "|    fps                  | 256         |\n",
            "|    iterations           | 58          |\n",
            "|    time_elapsed         | 463         |\n",
            "|    total_timesteps      | 118784      |\n",
            "| train/                  |             |\n",
            "|    approx_kl            | 0.014852734 |\n",
            "|    clip_fraction        | 0.311       |\n",
            "|    clip_range           | 0.2         |\n",
            "|    entropy_loss         | -4.61       |\n",
            "|    explained_variance   | 0.518       |\n",
            "|    learning_rate        | 0.0003      |\n",
            "|    loss                 | -0.0189     |\n",
            "|    n_updates            | 570         |\n",
            "|    policy_gradient_loss | -0.00277    |\n",
            "|    std                  | 0.779       |\n",
            "|    value_loss           | 0.00301     |\n",
            "-----------------------------------------\n"
          ]
        },
        {
          "output_type": "display_data",
          "data": {
            "text/plain": [
              "Eval num_timesteps=120000, episode_reward=-0.69 +/- 0.36\n"
            ],
            "text/html": [
              "<pre style=\"white-space:pre;overflow-x:auto;line-height:normal;font-family:Menlo,'DejaVu Sans Mono',consolas,'Courier New',monospace\">Eval num_timesteps=120000, episode_reward=-0.69 +/- 0.36\n",
              "</pre>\n"
            ]
          },
          "metadata": {}
        },
        {
          "output_type": "display_data",
          "data": {
            "text/plain": [
              "Episode length: 50.00 +/- 0.00\n"
            ],
            "text/html": [
              "<pre style=\"white-space:pre;overflow-x:auto;line-height:normal;font-family:Menlo,'DejaVu Sans Mono',consolas,'Courier New',monospace\">Episode length: 50.00 +/- 0.00\n",
              "</pre>\n"
            ]
          },
          "metadata": {}
        },
        {
          "output_type": "display_data",
          "data": {
            "text/plain": [
              "Success rate: 100.00%\n"
            ],
            "text/html": [
              "<pre style=\"white-space:pre;overflow-x:auto;line-height:normal;font-family:Menlo,'DejaVu Sans Mono',consolas,'Courier New',monospace\">Success rate: 100.00%\n",
              "</pre>\n"
            ]
          },
          "metadata": {}
        },
        {
          "output_type": "stream",
          "name": "stdout",
          "text": [
            "----------------------------------------\n",
            "| eval/                   |            |\n",
            "|    mean_ep_length       | 50         |\n",
            "|    mean_reward          | -0.693     |\n",
            "|    success_rate         | 1.0        |\n",
            "| time/                   |            |\n",
            "|    total_timesteps      | 120000     |\n",
            "| train/                  |            |\n",
            "|    approx_kl            | 0.01623785 |\n",
            "|    clip_fraction        | 0.278      |\n",
            "|    clip_range           | 0.2        |\n",
            "|    entropy_loss         | -4.59      |\n",
            "|    explained_variance   | 0.552      |\n",
            "|    learning_rate        | 0.0003     |\n",
            "|    loss                 | 0.00261    |\n",
            "|    n_updates            | 580        |\n",
            "|    policy_gradient_loss | -0.000365  |\n",
            "|    std                  | 0.775      |\n",
            "|    value_loss           | 0.00422    |\n",
            "----------------------------------------\n"
          ]
        },
        {
          "output_type": "display_data",
          "data": {
            "text/plain": [
              "New best mean reward!\n"
            ],
            "text/html": [
              "<pre style=\"white-space:pre;overflow-x:auto;line-height:normal;font-family:Menlo,'DejaVu Sans Mono',consolas,'Courier New',monospace\">New best mean reward!\n",
              "</pre>\n"
            ]
          },
          "metadata": {}
        },
        {
          "output_type": "stream",
          "name": "stdout",
          "text": [
            "---------------------------------\n",
            "| rollout/           |          |\n",
            "|    ep_len_mean     | 50       |\n",
            "|    ep_rew_mean     | -1.66    |\n",
            "|    success_rate    | 0.94     |\n",
            "| time/              |          |\n",
            "|    fps             | 255      |\n",
            "|    iterations      | 59       |\n",
            "|    time_elapsed    | 472      |\n",
            "|    total_timesteps | 120832   |\n",
            "---------------------------------\n",
            "----------------------------------------\n",
            "| rollout/                |            |\n",
            "|    ep_len_mean          | 50         |\n",
            "|    ep_rew_mean          | -1.62      |\n",
            "|    success_rate         | 0.96       |\n",
            "| time/                   |            |\n",
            "|    fps                  | 255        |\n",
            "|    iterations           | 60         |\n",
            "|    time_elapsed         | 480        |\n",
            "|    total_timesteps      | 122880     |\n",
            "| train/                  |            |\n",
            "|    approx_kl            | 0.02999074 |\n",
            "|    clip_fraction        | 0.293      |\n",
            "|    clip_range           | 0.2        |\n",
            "|    entropy_loss         | -4.57      |\n",
            "|    explained_variance   | 0.404      |\n",
            "|    learning_rate        | 0.0003     |\n",
            "|    loss                 | -0.000621  |\n",
            "|    n_updates            | 590        |\n",
            "|    policy_gradient_loss | 0.000327   |\n",
            "|    std                  | 0.771      |\n",
            "|    value_loss           | 0.0037     |\n",
            "----------------------------------------\n",
            "-----------------------------------------\n",
            "| rollout/                |             |\n",
            "|    ep_len_mean          | 50          |\n",
            "|    ep_rew_mean          | -1.62       |\n",
            "|    success_rate         | 0.98        |\n",
            "| time/                   |             |\n",
            "|    fps                  | 256         |\n",
            "|    iterations           | 61          |\n",
            "|    time_elapsed         | 487         |\n",
            "|    total_timesteps      | 124928      |\n",
            "| train/                  |             |\n",
            "|    approx_kl            | 0.043273732 |\n",
            "|    clip_fraction        | 0.281       |\n",
            "|    clip_range           | 0.2         |\n",
            "|    entropy_loss         | -4.55       |\n",
            "|    explained_variance   | 0.487       |\n",
            "|    learning_rate        | 0.0003      |\n",
            "|    loss                 | 0.0151      |\n",
            "|    n_updates            | 600         |\n",
            "|    policy_gradient_loss | -0.000453   |\n",
            "|    std                  | 0.767       |\n",
            "|    value_loss           | 0.00268     |\n",
            "-----------------------------------------\n",
            "-----------------------------------------\n",
            "| rollout/                |             |\n",
            "|    ep_len_mean          | 50          |\n",
            "|    ep_rew_mean          | -1.62       |\n",
            "|    success_rate         | 0.97        |\n",
            "| time/                   |             |\n",
            "|    fps                  | 256         |\n",
            "|    iterations           | 62          |\n",
            "|    time_elapsed         | 495         |\n",
            "|    total_timesteps      | 126976      |\n",
            "| train/                  |             |\n",
            "|    approx_kl            | 0.027291238 |\n",
            "|    clip_fraction        | 0.234       |\n",
            "|    clip_range           | 0.2         |\n",
            "|    entropy_loss         | -4.52       |\n",
            "|    explained_variance   | 0.488       |\n",
            "|    learning_rate        | 0.0003      |\n",
            "|    loss                 | -0.0076     |\n",
            "|    n_updates            | 610         |\n",
            "|    policy_gradient_loss | -0.00504    |\n",
            "|    std                  | 0.761       |\n",
            "|    value_loss           | 0.00316     |\n",
            "-----------------------------------------\n",
            "-----------------------------------------\n",
            "| rollout/                |             |\n",
            "|    ep_len_mean          | 50          |\n",
            "|    ep_rew_mean          | -1.6        |\n",
            "|    success_rate         | 0.97        |\n",
            "| time/                   |             |\n",
            "|    fps                  | 256         |\n",
            "|    iterations           | 63          |\n",
            "|    time_elapsed         | 503         |\n",
            "|    total_timesteps      | 129024      |\n",
            "| train/                  |             |\n",
            "|    approx_kl            | 0.025001781 |\n",
            "|    clip_fraction        | 0.32        |\n",
            "|    clip_range           | 0.2         |\n",
            "|    entropy_loss         | -4.49       |\n",
            "|    explained_variance   | 0.346       |\n",
            "|    learning_rate        | 0.0003      |\n",
            "|    loss                 | -0.00722    |\n",
            "|    n_updates            | 620         |\n",
            "|    policy_gradient_loss | 0.00862     |\n",
            "|    std                  | 0.757       |\n",
            "|    value_loss           | 0.00344     |\n",
            "-----------------------------------------\n"
          ]
        },
        {
          "output_type": "display_data",
          "data": {
            "text/plain": [
              "Eval num_timesteps=130000, episode_reward=-0.61 +/- 0.08\n"
            ],
            "text/html": [
              "<pre style=\"white-space:pre;overflow-x:auto;line-height:normal;font-family:Menlo,'DejaVu Sans Mono',consolas,'Courier New',monospace\">Eval num_timesteps=130000, episode_reward=-0.61 +/- 0.08\n",
              "</pre>\n"
            ]
          },
          "metadata": {}
        },
        {
          "output_type": "display_data",
          "data": {
            "text/plain": [
              "Episode length: 50.00 +/- 0.00\n"
            ],
            "text/html": [
              "<pre style=\"white-space:pre;overflow-x:auto;line-height:normal;font-family:Menlo,'DejaVu Sans Mono',consolas,'Courier New',monospace\">Episode length: 50.00 +/- 0.00\n",
              "</pre>\n"
            ]
          },
          "metadata": {}
        },
        {
          "output_type": "display_data",
          "data": {
            "text/plain": [
              "Success rate: 100.00%\n"
            ],
            "text/html": [
              "<pre style=\"white-space:pre;overflow-x:auto;line-height:normal;font-family:Menlo,'DejaVu Sans Mono',consolas,'Courier New',monospace\">Success rate: 100.00%\n",
              "</pre>\n"
            ]
          },
          "metadata": {}
        },
        {
          "output_type": "stream",
          "name": "stdout",
          "text": [
            "----------------------------------------\n",
            "| eval/                   |            |\n",
            "|    mean_ep_length       | 50         |\n",
            "|    mean_reward          | -0.608     |\n",
            "|    success_rate         | 1.0        |\n",
            "| time/                   |            |\n",
            "|    total_timesteps      | 130000     |\n",
            "| train/                  |            |\n",
            "|    approx_kl            | 0.03322394 |\n",
            "|    clip_fraction        | 0.296      |\n",
            "|    clip_range           | 0.2        |\n",
            "|    entropy_loss         | -4.47      |\n",
            "|    explained_variance   | 0.431      |\n",
            "|    learning_rate        | 0.0003     |\n",
            "|    loss                 | -0.01      |\n",
            "|    n_updates            | 630        |\n",
            "|    policy_gradient_loss | 0.00286    |\n",
            "|    std                  | 0.752      |\n",
            "|    value_loss           | 0.00292    |\n",
            "----------------------------------------\n"
          ]
        },
        {
          "output_type": "display_data",
          "data": {
            "text/plain": [
              "New best mean reward!\n"
            ],
            "text/html": [
              "<pre style=\"white-space:pre;overflow-x:auto;line-height:normal;font-family:Menlo,'DejaVu Sans Mono',consolas,'Courier New',monospace\">New best mean reward!\n",
              "</pre>\n"
            ]
          },
          "metadata": {}
        },
        {
          "output_type": "stream",
          "name": "stdout",
          "text": [
            "---------------------------------\n",
            "| rollout/           |          |\n",
            "|    ep_len_mean     | 50       |\n",
            "|    ep_rew_mean     | -1.58    |\n",
            "|    success_rate    | 0.96     |\n",
            "| time/              |          |\n",
            "|    fps             | 255      |\n",
            "|    iterations      | 64       |\n",
            "|    time_elapsed    | 512      |\n",
            "|    total_timesteps | 131072   |\n",
            "---------------------------------\n",
            "-----------------------------------------\n",
            "| rollout/                |             |\n",
            "|    ep_len_mean          | 50          |\n",
            "|    ep_rew_mean          | -1.59       |\n",
            "|    success_rate         | 0.94        |\n",
            "| time/                   |             |\n",
            "|    fps                  | 256         |\n",
            "|    iterations           | 65          |\n",
            "|    time_elapsed         | 519         |\n",
            "|    total_timesteps      | 133120      |\n",
            "| train/                  |             |\n",
            "|    approx_kl            | 0.021250479 |\n",
            "|    clip_fraction        | 0.248       |\n",
            "|    clip_range           | 0.2         |\n",
            "|    entropy_loss         | -4.44       |\n",
            "|    explained_variance   | 0.53        |\n",
            "|    learning_rate        | 0.0003      |\n",
            "|    loss                 | -0.00469    |\n",
            "|    n_updates            | 640         |\n",
            "|    policy_gradient_loss | -0.0108     |\n",
            "|    std                  | 0.75        |\n",
            "|    value_loss           | 0.00241     |\n",
            "-----------------------------------------\n",
            "-----------------------------------------\n",
            "| rollout/                |             |\n",
            "|    ep_len_mean          | 50          |\n",
            "|    ep_rew_mean          | -1.61       |\n",
            "|    success_rate         | 0.92        |\n",
            "| time/                   |             |\n",
            "|    fps                  | 256         |\n",
            "|    iterations           | 66          |\n",
            "|    time_elapsed         | 527         |\n",
            "|    total_timesteps      | 135168      |\n",
            "| train/                  |             |\n",
            "|    approx_kl            | 0.047676492 |\n",
            "|    clip_fraction        | 0.306       |\n",
            "|    clip_range           | 0.2         |\n",
            "|    entropy_loss         | -4.42       |\n",
            "|    explained_variance   | 0.432       |\n",
            "|    learning_rate        | 0.0003      |\n",
            "|    loss                 | 0.0231      |\n",
            "|    n_updates            | 650         |\n",
            "|    policy_gradient_loss | 0.000977    |\n",
            "|    std                  | 0.746       |\n",
            "|    value_loss           | 0.00342     |\n",
            "-----------------------------------------\n",
            "-----------------------------------------\n",
            "| rollout/                |             |\n",
            "|    ep_len_mean          | 50          |\n",
            "|    ep_rew_mean          | -1.61       |\n",
            "|    success_rate         | 0.93        |\n",
            "| time/                   |             |\n",
            "|    fps                  | 256         |\n",
            "|    iterations           | 67          |\n",
            "|    time_elapsed         | 534         |\n",
            "|    total_timesteps      | 137216      |\n",
            "| train/                  |             |\n",
            "|    approx_kl            | 0.044986054 |\n",
            "|    clip_fraction        | 0.351       |\n",
            "|    clip_range           | 0.2         |\n",
            "|    entropy_loss         | -4.4        |\n",
            "|    explained_variance   | 0.403       |\n",
            "|    learning_rate        | 0.0003      |\n",
            "|    loss                 | -0.0124     |\n",
            "|    n_updates            | 660         |\n",
            "|    policy_gradient_loss | 0.000856    |\n",
            "|    std                  | 0.743       |\n",
            "|    value_loss           | 0.00285     |\n",
            "-----------------------------------------\n",
            "-----------------------------------------\n",
            "| rollout/                |             |\n",
            "|    ep_len_mean          | 50          |\n",
            "|    ep_rew_mean          | -1.58       |\n",
            "|    success_rate         | 0.97        |\n",
            "| time/                   |             |\n",
            "|    fps                  | 256         |\n",
            "|    iterations           | 68          |\n",
            "|    time_elapsed         | 542         |\n",
            "|    total_timesteps      | 139264      |\n",
            "| train/                  |             |\n",
            "|    approx_kl            | 0.017598316 |\n",
            "|    clip_fraction        | 0.268       |\n",
            "|    clip_range           | 0.2         |\n",
            "|    entropy_loss         | -4.38       |\n",
            "|    explained_variance   | 0.386       |\n",
            "|    learning_rate        | 0.0003      |\n",
            "|    loss                 | -0.028      |\n",
            "|    n_updates            | 670         |\n",
            "|    policy_gradient_loss | -0.014      |\n",
            "|    std                  | 0.738       |\n",
            "|    value_loss           | 0.00239     |\n",
            "-----------------------------------------\n"
          ]
        },
        {
          "output_type": "display_data",
          "data": {
            "text/plain": [
              "Eval num_timesteps=140000, episode_reward=-0.51 +/- 0.11\n"
            ],
            "text/html": [
              "<pre style=\"white-space:pre;overflow-x:auto;line-height:normal;font-family:Menlo,'DejaVu Sans Mono',consolas,'Courier New',monospace\">Eval num_timesteps=140000, episode_reward=-0.51 +/- 0.11\n",
              "</pre>\n"
            ]
          },
          "metadata": {}
        },
        {
          "output_type": "display_data",
          "data": {
            "text/plain": [
              "Episode length: 50.00 +/- 0.00\n"
            ],
            "text/html": [
              "<pre style=\"white-space:pre;overflow-x:auto;line-height:normal;font-family:Menlo,'DejaVu Sans Mono',consolas,'Courier New',monospace\">Episode length: 50.00 +/- 0.00\n",
              "</pre>\n"
            ]
          },
          "metadata": {}
        },
        {
          "output_type": "display_data",
          "data": {
            "text/plain": [
              "Success rate: 100.00%\n"
            ],
            "text/html": [
              "<pre style=\"white-space:pre;overflow-x:auto;line-height:normal;font-family:Menlo,'DejaVu Sans Mono',consolas,'Courier New',monospace\">Success rate: 100.00%\n",
              "</pre>\n"
            ]
          },
          "metadata": {}
        },
        {
          "output_type": "stream",
          "name": "stdout",
          "text": [
            "----------------------------------------\n",
            "| eval/                   |            |\n",
            "|    mean_ep_length       | 50         |\n",
            "|    mean_reward          | -0.506     |\n",
            "|    success_rate         | 1.0        |\n",
            "| time/                   |            |\n",
            "|    total_timesteps      | 140000     |\n",
            "| train/                  |            |\n",
            "|    approx_kl            | 0.03322693 |\n",
            "|    clip_fraction        | 0.268      |\n",
            "|    clip_range           | 0.2        |\n",
            "|    entropy_loss         | -4.35      |\n",
            "|    explained_variance   | 0.177      |\n",
            "|    learning_rate        | 0.0003     |\n",
            "|    loss                 | 0.0344     |\n",
            "|    n_updates            | 680        |\n",
            "|    policy_gradient_loss | -0.000351  |\n",
            "|    std                  | 0.733      |\n",
            "|    value_loss           | 0.00272    |\n",
            "----------------------------------------\n"
          ]
        },
        {
          "output_type": "display_data",
          "data": {
            "text/plain": [
              "New best mean reward!\n"
            ],
            "text/html": [
              "<pre style=\"white-space:pre;overflow-x:auto;line-height:normal;font-family:Menlo,'DejaVu Sans Mono',consolas,'Courier New',monospace\">New best mean reward!\n",
              "</pre>\n"
            ]
          },
          "metadata": {}
        },
        {
          "output_type": "stream",
          "name": "stdout",
          "text": [
            "---------------------------------\n",
            "| rollout/           |          |\n",
            "|    ep_len_mean     | 50       |\n",
            "|    ep_rew_mean     | -1.52    |\n",
            "|    success_rate    | 0.99     |\n",
            "| time/              |          |\n",
            "|    fps             | 256      |\n",
            "|    iterations      | 69       |\n",
            "|    time_elapsed    | 551      |\n",
            "|    total_timesteps | 141312   |\n",
            "---------------------------------\n",
            "----------------------------------------\n",
            "| rollout/                |            |\n",
            "|    ep_len_mean          | 50         |\n",
            "|    ep_rew_mean          | -1.49      |\n",
            "|    success_rate         | 0.98       |\n",
            "| time/                   |            |\n",
            "|    fps                  | 256        |\n",
            "|    iterations           | 70         |\n",
            "|    time_elapsed         | 559        |\n",
            "|    total_timesteps      | 143360     |\n",
            "| train/                  |            |\n",
            "|    approx_kl            | 0.03715586 |\n",
            "|    clip_fraction        | 0.312      |\n",
            "|    clip_range           | 0.2        |\n",
            "|    entropy_loss         | -4.33      |\n",
            "|    explained_variance   | 0.505      |\n",
            "|    learning_rate        | 0.0003     |\n",
            "|    loss                 | 0.0296     |\n",
            "|    n_updates            | 690        |\n",
            "|    policy_gradient_loss | 0.00449    |\n",
            "|    std                  | 0.73       |\n",
            "|    value_loss           | 0.00223    |\n",
            "----------------------------------------\n",
            "-----------------------------------------\n",
            "| rollout/                |             |\n",
            "|    ep_len_mean          | 50          |\n",
            "|    ep_rew_mean          | -1.48       |\n",
            "|    success_rate         | 0.98        |\n",
            "| time/                   |             |\n",
            "|    fps                  | 256         |\n",
            "|    iterations           | 71          |\n",
            "|    time_elapsed         | 566         |\n",
            "|    total_timesteps      | 145408      |\n",
            "| train/                  |             |\n",
            "|    approx_kl            | 0.031540655 |\n",
            "|    clip_fraction        | 0.286       |\n",
            "|    clip_range           | 0.2         |\n",
            "|    entropy_loss         | -4.3        |\n",
            "|    explained_variance   | 0.381       |\n",
            "|    learning_rate        | 0.0003      |\n",
            "|    loss                 | -0.0187     |\n",
            "|    n_updates            | 700         |\n",
            "|    policy_gradient_loss | 0.00309     |\n",
            "|    std                  | 0.725       |\n",
            "|    value_loss           | 0.00223     |\n",
            "-----------------------------------------\n",
            "-----------------------------------------\n",
            "| rollout/                |             |\n",
            "|    ep_len_mean          | 50          |\n",
            "|    ep_rew_mean          | -1.46       |\n",
            "|    success_rate         | 0.98        |\n",
            "| time/                   |             |\n",
            "|    fps                  | 256         |\n",
            "|    iterations           | 72          |\n",
            "|    time_elapsed         | 574         |\n",
            "|    total_timesteps      | 147456      |\n",
            "| train/                  |             |\n",
            "|    approx_kl            | 0.017431684 |\n",
            "|    clip_fraction        | 0.307       |\n",
            "|    clip_range           | 0.2         |\n",
            "|    entropy_loss         | -4.28       |\n",
            "|    explained_variance   | 0.269       |\n",
            "|    learning_rate        | 0.0003      |\n",
            "|    loss                 | 0.0156      |\n",
            "|    n_updates            | 710         |\n",
            "|    policy_gradient_loss | 0.0107      |\n",
            "|    std                  | 0.721       |\n",
            "|    value_loss           | 0.00244     |\n",
            "-----------------------------------------\n",
            "-----------------------------------------\n",
            "| rollout/                |             |\n",
            "|    ep_len_mean          | 50          |\n",
            "|    ep_rew_mean          | -1.46       |\n",
            "|    success_rate         | 0.99        |\n",
            "| time/                   |             |\n",
            "|    fps                  | 257         |\n",
            "|    iterations           | 73          |\n",
            "|    time_elapsed         | 581         |\n",
            "|    total_timesteps      | 149504      |\n",
            "| train/                  |             |\n",
            "|    approx_kl            | 0.024930447 |\n",
            "|    clip_fraction        | 0.283       |\n",
            "|    clip_range           | 0.2         |\n",
            "|    entropy_loss         | -4.24       |\n",
            "|    explained_variance   | 0.56        |\n",
            "|    learning_rate        | 0.0003      |\n",
            "|    loss                 | 0.0158      |\n",
            "|    n_updates            | 720         |\n",
            "|    policy_gradient_loss | 0.00205     |\n",
            "|    std                  | 0.715       |\n",
            "|    value_loss           | 0.00165     |\n",
            "-----------------------------------------\n"
          ]
        },
        {
          "output_type": "display_data",
          "data": {
            "text/plain": [
              "Eval num_timesteps=150000, episode_reward=-0.61 +/- 0.39\n"
            ],
            "text/html": [
              "<pre style=\"white-space:pre;overflow-x:auto;line-height:normal;font-family:Menlo,'DejaVu Sans Mono',consolas,'Courier New',monospace\">Eval num_timesteps=150000, episode_reward=-0.61 +/- 0.39\n",
              "</pre>\n"
            ]
          },
          "metadata": {}
        },
        {
          "output_type": "display_data",
          "data": {
            "text/plain": [
              "Episode length: 50.00 +/- 0.00\n"
            ],
            "text/html": [
              "<pre style=\"white-space:pre;overflow-x:auto;line-height:normal;font-family:Menlo,'DejaVu Sans Mono',consolas,'Courier New',monospace\">Episode length: 50.00 +/- 0.00\n",
              "</pre>\n"
            ]
          },
          "metadata": {}
        },
        {
          "output_type": "display_data",
          "data": {
            "text/plain": [
              "Success rate: 100.00%\n"
            ],
            "text/html": [
              "<pre style=\"white-space:pre;overflow-x:auto;line-height:normal;font-family:Menlo,'DejaVu Sans Mono',consolas,'Courier New',monospace\">Success rate: 100.00%\n",
              "</pre>\n"
            ]
          },
          "metadata": {}
        },
        {
          "output_type": "stream",
          "name": "stdout",
          "text": [
            "-----------------------------------------\n",
            "| eval/                   |             |\n",
            "|    mean_ep_length       | 50          |\n",
            "|    mean_reward          | -0.608      |\n",
            "|    success_rate         | 1.0         |\n",
            "| time/                   |             |\n",
            "|    total_timesteps      | 150000      |\n",
            "| train/                  |             |\n",
            "|    approx_kl            | 0.018690012 |\n",
            "|    clip_fraction        | 0.332       |\n",
            "|    clip_range           | 0.2         |\n",
            "|    entropy_loss         | -4.21       |\n",
            "|    explained_variance   | 0.486       |\n",
            "|    learning_rate        | 0.0003      |\n",
            "|    loss                 | -0.00178    |\n",
            "|    n_updates            | 730         |\n",
            "|    policy_gradient_loss | 0.0084      |\n",
            "|    std                  | 0.712       |\n",
            "|    value_loss           | 0.00201     |\n",
            "-----------------------------------------\n",
            "---------------------------------\n",
            "| rollout/           |          |\n",
            "|    ep_len_mean     | 50       |\n",
            "|    ep_rew_mean     | -1.43    |\n",
            "|    success_rate    | 1        |\n",
            "| time/              |          |\n",
            "|    fps             | 256      |\n",
            "|    iterations      | 74       |\n",
            "|    time_elapsed    | 590      |\n",
            "|    total_timesteps | 151552   |\n",
            "---------------------------------\n",
            "--------------------------------------\n",
            "| rollout/                |          |\n",
            "|    ep_len_mean          | 50       |\n",
            "|    ep_rew_mean          | -1.41    |\n",
            "|    success_rate         | 1        |\n",
            "| time/                   |          |\n",
            "|    fps                  | 256      |\n",
            "|    iterations           | 75       |\n",
            "|    time_elapsed         | 598      |\n",
            "|    total_timesteps      | 153600   |\n",
            "| train/                  |          |\n",
            "|    approx_kl            | 0.045993 |\n",
            "|    clip_fraction        | 0.327    |\n",
            "|    clip_range           | 0.2      |\n",
            "|    entropy_loss         | -4.19    |\n",
            "|    explained_variance   | 0.516    |\n",
            "|    learning_rate        | 0.0003   |\n",
            "|    loss                 | 0.0162   |\n",
            "|    n_updates            | 740      |\n",
            "|    policy_gradient_loss | 0.0112   |\n",
            "|    std                  | 0.709    |\n",
            "|    value_loss           | 0.00216  |\n",
            "--------------------------------------\n",
            "-----------------------------------------\n",
            "| rollout/                |             |\n",
            "|    ep_len_mean          | 50          |\n",
            "|    ep_rew_mean          | -1.41       |\n",
            "|    success_rate         | 1           |\n",
            "| time/                   |             |\n",
            "|    fps                  | 256         |\n",
            "|    iterations           | 76          |\n",
            "|    time_elapsed         | 606         |\n",
            "|    total_timesteps      | 155648      |\n",
            "| train/                  |             |\n",
            "|    approx_kl            | 0.012532573 |\n",
            "|    clip_fraction        | 0.23        |\n",
            "|    clip_range           | 0.2         |\n",
            "|    entropy_loss         | -4.17       |\n",
            "|    explained_variance   | 0.432       |\n",
            "|    learning_rate        | 0.0003      |\n",
            "|    loss                 | -0.0191     |\n",
            "|    n_updates            | 750         |\n",
            "|    policy_gradient_loss | -0.0024     |\n",
            "|    std                  | 0.707       |\n",
            "|    value_loss           | 0.00182     |\n",
            "-----------------------------------------\n",
            "-----------------------------------------\n",
            "| rollout/                |             |\n",
            "|    ep_len_mean          | 50          |\n",
            "|    ep_rew_mean          | -1.4        |\n",
            "|    success_rate         | 1           |\n",
            "| time/                   |             |\n",
            "|    fps                  | 256         |\n",
            "|    iterations           | 77          |\n",
            "|    time_elapsed         | 613         |\n",
            "|    total_timesteps      | 157696      |\n",
            "| train/                  |             |\n",
            "|    approx_kl            | 0.030132927 |\n",
            "|    clip_fraction        | 0.322       |\n",
            "|    clip_range           | 0.2         |\n",
            "|    entropy_loss         | -4.14       |\n",
            "|    explained_variance   | 0.347       |\n",
            "|    learning_rate        | 0.0003      |\n",
            "|    loss                 | 0.0182      |\n",
            "|    n_updates            | 760         |\n",
            "|    policy_gradient_loss | 0.00153     |\n",
            "|    std                  | 0.703       |\n",
            "|    value_loss           | 0.0023      |\n",
            "-----------------------------------------\n",
            "-----------------------------------------\n",
            "| rollout/                |             |\n",
            "|    ep_len_mean          | 50          |\n",
            "|    ep_rew_mean          | -1.39       |\n",
            "|    success_rate         | 1           |\n",
            "| time/                   |             |\n",
            "|    fps                  | 257         |\n",
            "|    iterations           | 78          |\n",
            "|    time_elapsed         | 621         |\n",
            "|    total_timesteps      | 159744      |\n",
            "| train/                  |             |\n",
            "|    approx_kl            | 0.043902125 |\n",
            "|    clip_fraction        | 0.341       |\n",
            "|    clip_range           | 0.2         |\n",
            "|    entropy_loss         | -4.12       |\n",
            "|    explained_variance   | 0.107       |\n",
            "|    learning_rate        | 0.0003      |\n",
            "|    loss                 | 0.00459     |\n",
            "|    n_updates            | 770         |\n",
            "|    policy_gradient_loss | 0.0149      |\n",
            "|    std                  | 0.698       |\n",
            "|    value_loss           | 0.00247     |\n",
            "-----------------------------------------\n"
          ]
        },
        {
          "output_type": "display_data",
          "data": {
            "text/plain": [
              "Eval num_timesteps=160000, episode_reward=-0.72 +/- 0.10\n"
            ],
            "text/html": [
              "<pre style=\"white-space:pre;overflow-x:auto;line-height:normal;font-family:Menlo,'DejaVu Sans Mono',consolas,'Courier New',monospace\">Eval num_timesteps=160000, episode_reward=-0.72 +/- 0.10\n",
              "</pre>\n"
            ]
          },
          "metadata": {}
        },
        {
          "output_type": "display_data",
          "data": {
            "text/plain": [
              "Episode length: 50.00 +/- 0.00\n"
            ],
            "text/html": [
              "<pre style=\"white-space:pre;overflow-x:auto;line-height:normal;font-family:Menlo,'DejaVu Sans Mono',consolas,'Courier New',monospace\">Episode length: 50.00 +/- 0.00\n",
              "</pre>\n"
            ]
          },
          "metadata": {}
        },
        {
          "output_type": "display_data",
          "data": {
            "text/plain": [
              "Success rate: 100.00%\n"
            ],
            "text/html": [
              "<pre style=\"white-space:pre;overflow-x:auto;line-height:normal;font-family:Menlo,'DejaVu Sans Mono',consolas,'Courier New',monospace\">Success rate: 100.00%\n",
              "</pre>\n"
            ]
          },
          "metadata": {}
        },
        {
          "output_type": "stream",
          "name": "stdout",
          "text": [
            "-----------------------------------------\n",
            "| eval/                   |             |\n",
            "|    mean_ep_length       | 50          |\n",
            "|    mean_reward          | -0.722      |\n",
            "|    success_rate         | 1.0         |\n",
            "| time/                   |             |\n",
            "|    total_timesteps      | 160000      |\n",
            "| train/                  |             |\n",
            "|    approx_kl            | 0.044608966 |\n",
            "|    clip_fraction        | 0.35        |\n",
            "|    clip_range           | 0.2         |\n",
            "|    entropy_loss         | -4.09       |\n",
            "|    explained_variance   | 0.545       |\n",
            "|    learning_rate        | 0.0003      |\n",
            "|    loss                 | 0.0387      |\n",
            "|    n_updates            | 780         |\n",
            "|    policy_gradient_loss | 0.00731     |\n",
            "|    std                  | 0.696       |\n",
            "|    value_loss           | 0.00252     |\n",
            "-----------------------------------------\n",
            "---------------------------------\n",
            "| rollout/           |          |\n",
            "|    ep_len_mean     | 50       |\n",
            "|    ep_rew_mean     | -1.4     |\n",
            "|    success_rate    | 1        |\n",
            "| time/              |          |\n",
            "|    fps             | 256      |\n",
            "|    iterations      | 79       |\n",
            "|    time_elapsed    | 630      |\n",
            "|    total_timesteps | 161792   |\n",
            "---------------------------------\n",
            "-----------------------------------------\n",
            "| rollout/                |             |\n",
            "|    ep_len_mean          | 50          |\n",
            "|    ep_rew_mean          | -1.41       |\n",
            "|    success_rate         | 1           |\n",
            "| time/                   |             |\n",
            "|    fps                  | 256         |\n",
            "|    iterations           | 80          |\n",
            "|    time_elapsed         | 638         |\n",
            "|    total_timesteps      | 163840      |\n",
            "| train/                  |             |\n",
            "|    approx_kl            | 0.029210966 |\n",
            "|    clip_fraction        | 0.32        |\n",
            "|    clip_range           | 0.2         |\n",
            "|    entropy_loss         | -4.08       |\n",
            "|    explained_variance   | 0.526       |\n",
            "|    learning_rate        | 0.0003      |\n",
            "|    loss                 | -0.0049     |\n",
            "|    n_updates            | 790         |\n",
            "|    policy_gradient_loss | -0.000858   |\n",
            "|    std                  | 0.694       |\n",
            "|    value_loss           | 0.00196     |\n",
            "-----------------------------------------\n",
            "-----------------------------------------\n",
            "| rollout/                |             |\n",
            "|    ep_len_mean          | 50          |\n",
            "|    ep_rew_mean          | -1.39       |\n",
            "|    success_rate         | 0.98        |\n",
            "| time/                   |             |\n",
            "|    fps                  | 256         |\n",
            "|    iterations           | 81          |\n",
            "|    time_elapsed         | 645         |\n",
            "|    total_timesteps      | 165888      |\n",
            "| train/                  |             |\n",
            "|    approx_kl            | 0.033614084 |\n",
            "|    clip_fraction        | 0.342       |\n",
            "|    clip_range           | 0.2         |\n",
            "|    entropy_loss         | -4.06       |\n",
            "|    explained_variance   | 0.23        |\n",
            "|    learning_rate        | 0.0003      |\n",
            "|    loss                 | 0.00601     |\n",
            "|    n_updates            | 800         |\n",
            "|    policy_gradient_loss | 0.00855     |\n",
            "|    std                  | 0.691       |\n",
            "|    value_loss           | 0.00317     |\n",
            "-----------------------------------------\n",
            "-----------------------------------------\n",
            "| rollout/                |             |\n",
            "|    ep_len_mean          | 50          |\n",
            "|    ep_rew_mean          | -1.39       |\n",
            "|    success_rate         | 0.98        |\n",
            "| time/                   |             |\n",
            "|    fps                  | 256         |\n",
            "|    iterations           | 82          |\n",
            "|    time_elapsed         | 653         |\n",
            "|    total_timesteps      | 167936      |\n",
            "| train/                  |             |\n",
            "|    approx_kl            | 0.028273864 |\n",
            "|    clip_fraction        | 0.374       |\n",
            "|    clip_range           | 0.2         |\n",
            "|    entropy_loss         | -4.03       |\n",
            "|    explained_variance   | 0.181       |\n",
            "|    learning_rate        | 0.0003      |\n",
            "|    loss                 | -0.0167     |\n",
            "|    n_updates            | 810         |\n",
            "|    policy_gradient_loss | 0.0174      |\n",
            "|    std                  | 0.687       |\n",
            "|    value_loss           | 0.0031      |\n",
            "-----------------------------------------\n",
            "-----------------------------------------\n",
            "| rollout/                |             |\n",
            "|    ep_len_mean          | 50          |\n",
            "|    ep_rew_mean          | -1.39       |\n",
            "|    success_rate         | 0.98        |\n",
            "| time/                   |             |\n",
            "|    fps                  | 257         |\n",
            "|    iterations           | 83          |\n",
            "|    time_elapsed         | 661         |\n",
            "|    total_timesteps      | 169984      |\n",
            "| train/                  |             |\n",
            "|    approx_kl            | 0.055028558 |\n",
            "|    clip_fraction        | 0.28        |\n",
            "|    clip_range           | 0.2         |\n",
            "|    entropy_loss         | -4          |\n",
            "|    explained_variance   | 0.458       |\n",
            "|    learning_rate        | 0.0003      |\n",
            "|    loss                 | 0.0529      |\n",
            "|    n_updates            | 820         |\n",
            "|    policy_gradient_loss | 0.00498     |\n",
            "|    std                  | 0.684       |\n",
            "|    value_loss           | 0.00216     |\n",
            "-----------------------------------------\n"
          ]
        },
        {
          "output_type": "display_data",
          "data": {
            "text/plain": [
              "Eval num_timesteps=170000, episode_reward=-0.75 +/- 0.34\n"
            ],
            "text/html": [
              "<pre style=\"white-space:pre;overflow-x:auto;line-height:normal;font-family:Menlo,'DejaVu Sans Mono',consolas,'Courier New',monospace\">Eval num_timesteps=170000, episode_reward=-0.75 +/- 0.34\n",
              "</pre>\n"
            ]
          },
          "metadata": {}
        },
        {
          "output_type": "display_data",
          "data": {
            "text/plain": [
              "Episode length: 50.00 +/- 0.00\n"
            ],
            "text/html": [
              "<pre style=\"white-space:pre;overflow-x:auto;line-height:normal;font-family:Menlo,'DejaVu Sans Mono',consolas,'Courier New',monospace\">Episode length: 50.00 +/- 0.00\n",
              "</pre>\n"
            ]
          },
          "metadata": {}
        },
        {
          "output_type": "display_data",
          "data": {
            "text/plain": [
              "Success rate: 100.00%\n"
            ],
            "text/html": [
              "<pre style=\"white-space:pre;overflow-x:auto;line-height:normal;font-family:Menlo,'DejaVu Sans Mono',consolas,'Courier New',monospace\">Success rate: 100.00%\n",
              "</pre>\n"
            ]
          },
          "metadata": {}
        },
        {
          "output_type": "stream",
          "name": "stdout",
          "text": [
            "-----------------------------------------\n",
            "| eval/                   |             |\n",
            "|    mean_ep_length       | 50          |\n",
            "|    mean_reward          | -0.755      |\n",
            "|    success_rate         | 1.0         |\n",
            "| time/                   |             |\n",
            "|    total_timesteps      | 170000      |\n",
            "| train/                  |             |\n",
            "|    approx_kl            | 0.017366383 |\n",
            "|    clip_fraction        | 0.31        |\n",
            "|    clip_range           | 0.2         |\n",
            "|    entropy_loss         | -3.97       |\n",
            "|    explained_variance   | 0.287       |\n",
            "|    learning_rate        | 0.0003      |\n",
            "|    loss                 | -0.00559    |\n",
            "|    n_updates            | 830         |\n",
            "|    policy_gradient_loss | 0.0111      |\n",
            "|    std                  | 0.677       |\n",
            "|    value_loss           | 0.00206     |\n",
            "-----------------------------------------\n",
            "---------------------------------\n",
            "| rollout/           |          |\n",
            "|    ep_len_mean     | 50       |\n",
            "|    ep_rew_mean     | -1.39    |\n",
            "|    success_rate    | 0.99     |\n",
            "| time/              |          |\n",
            "|    fps             | 256      |\n",
            "|    iterations      | 84       |\n",
            "|    time_elapsed    | 670      |\n",
            "|    total_timesteps | 172032   |\n",
            "---------------------------------\n",
            "-----------------------------------------\n",
            "| rollout/                |             |\n",
            "|    ep_len_mean          | 50          |\n",
            "|    ep_rew_mean          | -1.4        |\n",
            "|    success_rate         | 0.99        |\n",
            "| time/                   |             |\n",
            "|    fps                  | 256         |\n",
            "|    iterations           | 85          |\n",
            "|    time_elapsed         | 677         |\n",
            "|    total_timesteps      | 174080      |\n",
            "| train/                  |             |\n",
            "|    approx_kl            | 0.030012922 |\n",
            "|    clip_fraction        | 0.394       |\n",
            "|    clip_range           | 0.2         |\n",
            "|    entropy_loss         | -3.94       |\n",
            "|    explained_variance   | 0.0311      |\n",
            "|    learning_rate        | 0.0003      |\n",
            "|    loss                 | -0.00488    |\n",
            "|    n_updates            | 840         |\n",
            "|    policy_gradient_loss | 0.0104      |\n",
            "|    std                  | 0.673       |\n",
            "|    value_loss           | 0.00259     |\n",
            "-----------------------------------------\n",
            "-----------------------------------------\n",
            "| rollout/                |             |\n",
            "|    ep_len_mean          | 50          |\n",
            "|    ep_rew_mean          | -1.39       |\n",
            "|    success_rate         | 1           |\n",
            "| time/                   |             |\n",
            "|    fps                  | 256         |\n",
            "|    iterations           | 86          |\n",
            "|    time_elapsed         | 685         |\n",
            "|    total_timesteps      | 176128      |\n",
            "| train/                  |             |\n",
            "|    approx_kl            | 0.024320642 |\n",
            "|    clip_fraction        | 0.381       |\n",
            "|    clip_range           | 0.2         |\n",
            "|    entropy_loss         | -3.92       |\n",
            "|    explained_variance   | 0.108       |\n",
            "|    learning_rate        | 0.0003      |\n",
            "|    loss                 | -0.00677    |\n",
            "|    n_updates            | 850         |\n",
            "|    policy_gradient_loss | 0.0164      |\n",
            "|    std                  | 0.67        |\n",
            "|    value_loss           | 0.00253     |\n",
            "-----------------------------------------\n",
            "-----------------------------------------\n",
            "| rollout/                |             |\n",
            "|    ep_len_mean          | 50          |\n",
            "|    ep_rew_mean          | -1.37       |\n",
            "|    success_rate         | 1           |\n",
            "| time/                   |             |\n",
            "|    fps                  | 257         |\n",
            "|    iterations           | 87          |\n",
            "|    time_elapsed         | 693         |\n",
            "|    total_timesteps      | 178176      |\n",
            "| train/                  |             |\n",
            "|    approx_kl            | 0.031265974 |\n",
            "|    clip_fraction        | 0.293       |\n",
            "|    clip_range           | 0.2         |\n",
            "|    entropy_loss         | -3.9        |\n",
            "|    explained_variance   | 0.254       |\n",
            "|    learning_rate        | 0.0003      |\n",
            "|    loss                 | 0.00542     |\n",
            "|    n_updates            | 860         |\n",
            "|    policy_gradient_loss | 0.00266     |\n",
            "|    std                  | 0.666       |\n",
            "|    value_loss           | 0.00169     |\n",
            "-----------------------------------------\n"
          ]
        },
        {
          "output_type": "display_data",
          "data": {
            "text/plain": [
              "Eval num_timesteps=180000, episode_reward=-0.79 +/- 0.54\n"
            ],
            "text/html": [
              "<pre style=\"white-space:pre;overflow-x:auto;line-height:normal;font-family:Menlo,'DejaVu Sans Mono',consolas,'Courier New',monospace\">Eval num_timesteps=180000, episode_reward=-0.79 +/- 0.54\n",
              "</pre>\n"
            ]
          },
          "metadata": {}
        },
        {
          "output_type": "display_data",
          "data": {
            "text/plain": [
              "Episode length: 50.00 +/- 0.00\n"
            ],
            "text/html": [
              "<pre style=\"white-space:pre;overflow-x:auto;line-height:normal;font-family:Menlo,'DejaVu Sans Mono',consolas,'Courier New',monospace\">Episode length: 50.00 +/- 0.00\n",
              "</pre>\n"
            ]
          },
          "metadata": {}
        },
        {
          "output_type": "display_data",
          "data": {
            "text/plain": [
              "Success rate: 100.00%\n"
            ],
            "text/html": [
              "<pre style=\"white-space:pre;overflow-x:auto;line-height:normal;font-family:Menlo,'DejaVu Sans Mono',consolas,'Courier New',monospace\">Success rate: 100.00%\n",
              "</pre>\n"
            ]
          },
          "metadata": {}
        },
        {
          "output_type": "stream",
          "name": "stdout",
          "text": [
            "-----------------------------------------\n",
            "| eval/                   |             |\n",
            "|    mean_ep_length       | 50          |\n",
            "|    mean_reward          | -0.786      |\n",
            "|    success_rate         | 1.0         |\n",
            "| time/                   |             |\n",
            "|    total_timesteps      | 180000      |\n",
            "| train/                  |             |\n",
            "|    approx_kl            | 0.026293628 |\n",
            "|    clip_fraction        | 0.422       |\n",
            "|    clip_range           | 0.2         |\n",
            "|    entropy_loss         | -3.87       |\n",
            "|    explained_variance   | 0.466       |\n",
            "|    learning_rate        | 0.0003      |\n",
            "|    loss                 | -0.00765    |\n",
            "|    n_updates            | 870         |\n",
            "|    policy_gradient_loss | 0.0226      |\n",
            "|    std                  | 0.663       |\n",
            "|    value_loss           | 0.00127     |\n",
            "-----------------------------------------\n",
            "---------------------------------\n",
            "| rollout/           |          |\n",
            "|    ep_len_mean     | 50       |\n",
            "|    ep_rew_mean     | -1.35    |\n",
            "|    success_rate    | 1        |\n",
            "| time/              |          |\n",
            "|    fps             | 256      |\n",
            "|    iterations      | 88       |\n",
            "|    time_elapsed    | 702      |\n",
            "|    total_timesteps | 180224   |\n",
            "---------------------------------\n",
            "----------------------------------------\n",
            "| rollout/                |            |\n",
            "|    ep_len_mean          | 50         |\n",
            "|    ep_rew_mean          | -1.33      |\n",
            "|    success_rate         | 0.99       |\n",
            "| time/                   |            |\n",
            "|    fps                  | 256        |\n",
            "|    iterations           | 89         |\n",
            "|    time_elapsed         | 710        |\n",
            "|    total_timesteps      | 182272     |\n",
            "| train/                  |            |\n",
            "|    approx_kl            | 0.03532038 |\n",
            "|    clip_fraction        | 0.336      |\n",
            "|    clip_range           | 0.2        |\n",
            "|    entropy_loss         | -3.85      |\n",
            "|    explained_variance   | 0.404      |\n",
            "|    learning_rate        | 0.0003     |\n",
            "|    loss                 | -0.0132    |\n",
            "|    n_updates            | 880        |\n",
            "|    policy_gradient_loss | 0.00371    |\n",
            "|    std                  | 0.662      |\n",
            "|    value_loss           | 0.00149    |\n",
            "----------------------------------------\n",
            "-----------------------------------------\n",
            "| rollout/                |             |\n",
            "|    ep_len_mean          | 50          |\n",
            "|    ep_rew_mean          | -1.32       |\n",
            "|    success_rate         | 0.99        |\n",
            "| time/                   |             |\n",
            "|    fps                  | 256         |\n",
            "|    iterations           | 90          |\n",
            "|    time_elapsed         | 717         |\n",
            "|    total_timesteps      | 184320      |\n",
            "| train/                  |             |\n",
            "|    approx_kl            | 0.012640059 |\n",
            "|    clip_fraction        | 0.305       |\n",
            "|    clip_range           | 0.2         |\n",
            "|    entropy_loss         | -3.83       |\n",
            "|    explained_variance   | 0.0975      |\n",
            "|    learning_rate        | 0.0003      |\n",
            "|    loss                 | -0.0133     |\n",
            "|    n_updates            | 890         |\n",
            "|    policy_gradient_loss | 0.0106      |\n",
            "|    std                  | 0.656       |\n",
            "|    value_loss           | 0.00222     |\n",
            "-----------------------------------------\n",
            "-----------------------------------------\n",
            "| rollout/                |             |\n",
            "|    ep_len_mean          | 50          |\n",
            "|    ep_rew_mean          | -1.3        |\n",
            "|    success_rate         | 0.99        |\n",
            "| time/                   |             |\n",
            "|    fps                  | 256         |\n",
            "|    iterations           | 91          |\n",
            "|    time_elapsed         | 725         |\n",
            "|    total_timesteps      | 186368      |\n",
            "| train/                  |             |\n",
            "|    approx_kl            | 0.029722996 |\n",
            "|    clip_fraction        | 0.332       |\n",
            "|    clip_range           | 0.2         |\n",
            "|    entropy_loss         | -3.79       |\n",
            "|    explained_variance   | 0.475       |\n",
            "|    learning_rate        | 0.0003      |\n",
            "|    loss                 | -0.0113     |\n",
            "|    n_updates            | 900         |\n",
            "|    policy_gradient_loss | 0.00889     |\n",
            "|    std                  | 0.652       |\n",
            "|    value_loss           | 0.00112     |\n",
            "-----------------------------------------\n",
            "-----------------------------------------\n",
            "| rollout/                |             |\n",
            "|    ep_len_mean          | 50          |\n",
            "|    ep_rew_mean          | -1.28       |\n",
            "|    success_rate         | 0.99        |\n",
            "| time/                   |             |\n",
            "|    fps                  | 256         |\n",
            "|    iterations           | 92          |\n",
            "|    time_elapsed         | 733         |\n",
            "|    total_timesteps      | 188416      |\n",
            "| train/                  |             |\n",
            "|    approx_kl            | 0.026399512 |\n",
            "|    clip_fraction        | 0.354       |\n",
            "|    clip_range           | 0.2         |\n",
            "|    entropy_loss         | -3.76       |\n",
            "|    explained_variance   | 0.472       |\n",
            "|    learning_rate        | 0.0003      |\n",
            "|    loss                 | 0.0337      |\n",
            "|    n_updates            | 910         |\n",
            "|    policy_gradient_loss | 0.0105      |\n",
            "|    std                  | 0.649       |\n",
            "|    value_loss           | 0.00137     |\n",
            "-----------------------------------------\n"
          ]
        },
        {
          "output_type": "display_data",
          "data": {
            "text/plain": [
              "Eval num_timesteps=190000, episode_reward=-0.63 +/- 0.35\n"
            ],
            "text/html": [
              "<pre style=\"white-space:pre;overflow-x:auto;line-height:normal;font-family:Menlo,'DejaVu Sans Mono',consolas,'Courier New',monospace\">Eval num_timesteps=190000, episode_reward=-0.63 +/- 0.35\n",
              "</pre>\n"
            ]
          },
          "metadata": {}
        },
        {
          "output_type": "display_data",
          "data": {
            "text/plain": [
              "Episode length: 50.00 +/- 0.00\n"
            ],
            "text/html": [
              "<pre style=\"white-space:pre;overflow-x:auto;line-height:normal;font-family:Menlo,'DejaVu Sans Mono',consolas,'Courier New',monospace\">Episode length: 50.00 +/- 0.00\n",
              "</pre>\n"
            ]
          },
          "metadata": {}
        },
        {
          "output_type": "display_data",
          "data": {
            "text/plain": [
              "Success rate: 100.00%\n"
            ],
            "text/html": [
              "<pre style=\"white-space:pre;overflow-x:auto;line-height:normal;font-family:Menlo,'DejaVu Sans Mono',consolas,'Courier New',monospace\">Success rate: 100.00%\n",
              "</pre>\n"
            ]
          },
          "metadata": {}
        },
        {
          "output_type": "stream",
          "name": "stdout",
          "text": [
            "-----------------------------------------\n",
            "| eval/                   |             |\n",
            "|    mean_ep_length       | 50          |\n",
            "|    mean_reward          | -0.626      |\n",
            "|    success_rate         | 1.0         |\n",
            "| time/                   |             |\n",
            "|    total_timesteps      | 190000      |\n",
            "| train/                  |             |\n",
            "|    approx_kl            | 0.020229109 |\n",
            "|    clip_fraction        | 0.35        |\n",
            "|    clip_range           | 0.2         |\n",
            "|    entropy_loss         | -3.73       |\n",
            "|    explained_variance   | 0.482       |\n",
            "|    learning_rate        | 0.0003      |\n",
            "|    loss                 | -0.0111     |\n",
            "|    n_updates            | 920         |\n",
            "|    policy_gradient_loss | 0.00665     |\n",
            "|    std                  | 0.645       |\n",
            "|    value_loss           | 0.0013      |\n",
            "-----------------------------------------\n",
            "---------------------------------\n",
            "| rollout/           |          |\n",
            "|    ep_len_mean     | 50       |\n",
            "|    ep_rew_mean     | -1.3     |\n",
            "|    success_rate    | 1        |\n",
            "| time/              |          |\n",
            "|    fps             | 256      |\n",
            "|    iterations      | 93       |\n",
            "|    time_elapsed    | 742      |\n",
            "|    total_timesteps | 190464   |\n",
            "---------------------------------\n",
            "-----------------------------------------\n",
            "| rollout/                |             |\n",
            "|    ep_len_mean          | 50          |\n",
            "|    ep_rew_mean          | -1.34       |\n",
            "|    success_rate         | 1           |\n",
            "| time/                   |             |\n",
            "|    fps                  | 256         |\n",
            "|    iterations           | 94          |\n",
            "|    time_elapsed         | 750         |\n",
            "|    total_timesteps      | 192512      |\n",
            "| train/                  |             |\n",
            "|    approx_kl            | 0.021054428 |\n",
            "|    clip_fraction        | 0.256       |\n",
            "|    clip_range           | 0.2         |\n",
            "|    entropy_loss         | -3.7        |\n",
            "|    explained_variance   | 0.506       |\n",
            "|    learning_rate        | 0.0003      |\n",
            "|    loss                 | 0.00342     |\n",
            "|    n_updates            | 930         |\n",
            "|    policy_gradient_loss | -0.0115     |\n",
            "|    std                  | 0.639       |\n",
            "|    value_loss           | 0.00132     |\n",
            "-----------------------------------------\n",
            "-----------------------------------------\n",
            "| rollout/                |             |\n",
            "|    ep_len_mean          | 50          |\n",
            "|    ep_rew_mean          | -1.31       |\n",
            "|    success_rate         | 1           |\n",
            "| time/                   |             |\n",
            "|    fps                  | 256         |\n",
            "|    iterations           | 95          |\n",
            "|    time_elapsed         | 757         |\n",
            "|    total_timesteps      | 194560      |\n",
            "| train/                  |             |\n",
            "|    approx_kl            | 0.035468563 |\n",
            "|    clip_fraction        | 0.429       |\n",
            "|    clip_range           | 0.2         |\n",
            "|    entropy_loss         | -3.67       |\n",
            "|    explained_variance   | 0.0516      |\n",
            "|    learning_rate        | 0.0003      |\n",
            "|    loss                 | 0.0154      |\n",
            "|    n_updates            | 940         |\n",
            "|    policy_gradient_loss | 0.0139      |\n",
            "|    std                  | 0.638       |\n",
            "|    value_loss           | 0.0026      |\n",
            "-----------------------------------------\n",
            "-----------------------------------------\n",
            "| rollout/                |             |\n",
            "|    ep_len_mean          | 50          |\n",
            "|    ep_rew_mean          | -1.28       |\n",
            "|    success_rate         | 1           |\n",
            "| time/                   |             |\n",
            "|    fps                  | 256         |\n",
            "|    iterations           | 96          |\n",
            "|    time_elapsed         | 765         |\n",
            "|    total_timesteps      | 196608      |\n",
            "| train/                  |             |\n",
            "|    approx_kl            | 0.050113726 |\n",
            "|    clip_fraction        | 0.411       |\n",
            "|    clip_range           | 0.2         |\n",
            "|    entropy_loss         | -3.65       |\n",
            "|    explained_variance   | 0.231       |\n",
            "|    learning_rate        | 0.0003      |\n",
            "|    loss                 | 0.0123      |\n",
            "|    n_updates            | 950         |\n",
            "|    policy_gradient_loss | 0.0275      |\n",
            "|    std                  | 0.635       |\n",
            "|    value_loss           | 0.00145     |\n",
            "-----------------------------------------\n",
            "-----------------------------------------\n",
            "| rollout/                |             |\n",
            "|    ep_len_mean          | 50          |\n",
            "|    ep_rew_mean          | -1.27       |\n",
            "|    success_rate         | 1           |\n",
            "| time/                   |             |\n",
            "|    fps                  | 257         |\n",
            "|    iterations           | 97          |\n",
            "|    time_elapsed         | 772         |\n",
            "|    total_timesteps      | 198656      |\n",
            "| train/                  |             |\n",
            "|    approx_kl            | 0.020081982 |\n",
            "|    clip_fraction        | 0.383       |\n",
            "|    clip_range           | 0.2         |\n",
            "|    entropy_loss         | -3.62       |\n",
            "|    explained_variance   | 0.378       |\n",
            "|    learning_rate        | 0.0003      |\n",
            "|    loss                 | 0.0037      |\n",
            "|    n_updates            | 960         |\n",
            "|    policy_gradient_loss | 0.0125      |\n",
            "|    std                  | 0.631       |\n",
            "|    value_loss           | 0.00169     |\n",
            "-----------------------------------------\n"
          ]
        },
        {
          "output_type": "display_data",
          "data": {
            "text/plain": [
              "Eval num_timesteps=200000, episode_reward=-0.65 +/- 0.09\n"
            ],
            "text/html": [
              "<pre style=\"white-space:pre;overflow-x:auto;line-height:normal;font-family:Menlo,'DejaVu Sans Mono',consolas,'Courier New',monospace\">Eval num_timesteps=200000, episode_reward=-0.65 +/- 0.09\n",
              "</pre>\n"
            ]
          },
          "metadata": {}
        },
        {
          "output_type": "display_data",
          "data": {
            "text/plain": [
              "Episode length: 50.00 +/- 0.00\n"
            ],
            "text/html": [
              "<pre style=\"white-space:pre;overflow-x:auto;line-height:normal;font-family:Menlo,'DejaVu Sans Mono',consolas,'Courier New',monospace\">Episode length: 50.00 +/- 0.00\n",
              "</pre>\n"
            ]
          },
          "metadata": {}
        },
        {
          "output_type": "display_data",
          "data": {
            "text/plain": [
              "Success rate: 100.00%\n"
            ],
            "text/html": [
              "<pre style=\"white-space:pre;overflow-x:auto;line-height:normal;font-family:Menlo,'DejaVu Sans Mono',consolas,'Courier New',monospace\">Success rate: 100.00%\n",
              "</pre>\n"
            ]
          },
          "metadata": {}
        },
        {
          "output_type": "stream",
          "name": "stdout",
          "text": [
            "----------------------------------------\n",
            "| eval/                   |            |\n",
            "|    mean_ep_length       | 50         |\n",
            "|    mean_reward          | -0.652     |\n",
            "|    success_rate         | 1.0        |\n",
            "| time/                   |            |\n",
            "|    total_timesteps      | 200000     |\n",
            "| train/                  |            |\n",
            "|    approx_kl            | 0.04310504 |\n",
            "|    clip_fraction        | 0.335      |\n",
            "|    clip_range           | 0.2        |\n",
            "|    entropy_loss         | -3.59      |\n",
            "|    explained_variance   | 0.384      |\n",
            "|    learning_rate        | 0.0003     |\n",
            "|    loss                 | 0.000936   |\n",
            "|    n_updates            | 970        |\n",
            "|    policy_gradient_loss | 0.00804    |\n",
            "|    std                  | 0.626      |\n",
            "|    value_loss           | 0.00169    |\n",
            "----------------------------------------\n",
            "---------------------------------\n",
            "| rollout/           |          |\n",
            "|    ep_len_mean     | 50       |\n",
            "|    ep_rew_mean     | -1.3     |\n",
            "|    success_rate    | 1        |\n",
            "| time/              |          |\n",
            "|    fps             | 256      |\n",
            "|    iterations      | 98       |\n",
            "|    time_elapsed    | 782      |\n",
            "|    total_timesteps | 200704   |\n",
            "---------------------------------\n"
          ]
        },
        {
          "output_type": "display_data",
          "data": {
            "text/plain": [],
            "text/html": [
              "<pre style=\"white-space:pre;overflow-x:auto;line-height:normal;font-family:Menlo,'DejaVu Sans Mono',consolas,'Courier New',monospace\"></pre>\n"
            ]
          },
          "metadata": {}
        },
        {
          "output_type": "stream",
          "name": "stdout",
          "text": [
            "✅ Entrenamiento completado!\n",
            "   Tiempo total: 13.0 minutos\n",
            "   Modelo final guardado en: /content/FetchReachDense-v4_PPO_1758579285/models/final_model\n",
            "📁 Archivos guardados en: /content/FetchReachDense-v4_PPO_1758579285\n",
            "\n",
            "📊 Archivos en el directorio del experimento:\n",
            "   models: 2 archivos\n",
            "   checkpoints: 8 archivos\n",
            "   logs: 2 archivos\n"
          ]
        }
      ],
      "source": [
        "# 🚀 Entrenamiento PPO con sistema de checkpoints automáticos\n",
        "\n",
        "def find_latest_checkpoint():\n",
        "    checkpoint_files = list(Path(CHECKPOINT_DIR).glob(\"rl_model_*_steps.zip\"))\n",
        "    if not checkpoint_files:\n",
        "        return None, 0\n",
        "\n",
        "    steps = []\n",
        "    for file in checkpoint_files:\n",
        "        try:\n",
        "            step_num = int(file.stem.split('_')[-2])\n",
        "            steps.append((step_num, file))\n",
        "        except:\n",
        "            continue\n",
        "\n",
        "    if not steps:\n",
        "        return None, 0\n",
        "\n",
        "    latest_steps, latest_file = max(steps, key=lambda x: x[0])\n",
        "    return str(latest_file), latest_steps\n",
        "\n",
        "\n",
        "def create_model():\n",
        "    train_env = VecMonitor(DummyVecEnv([make_env]))\n",
        "\n",
        "    new_logger = configure(LOG_DIR, ['stdout', 'tensorboard'])\n",
        "\n",
        "    policy_kwargs = dict(\n",
        "        activation_fn=torch.nn.ReLU,\n",
        "        net_arch=dict(pi=[256, 256], vf=[256, 256])\n",
        "    )\n",
        "\n",
        "    model = PPO(\n",
        "        'MultiInputPolicy',\n",
        "        train_env,\n",
        "        verbose=1,\n",
        "        seed=SEED,\n",
        "        tensorboard_log=LOG_DIR,\n",
        "        n_steps=2048,\n",
        "        batch_size=256,\n",
        "        gae_lambda=0.95,\n",
        "        n_epochs=10,\n",
        "        gamma=0.98,\n",
        "        learning_rate=3e-4,\n",
        "        clip_range=0.2,\n",
        "        ent_coef=0.0,\n",
        "        policy_kwargs=policy_kwargs,\n",
        "        device=device\n",
        "    )\n",
        "\n",
        "    model.set_logger(new_logger)\n",
        "    return model, train_env\n",
        "\n",
        "latest_checkpoint, completed_steps = find_latest_checkpoint()\n",
        "\n",
        "if latest_checkpoint:\n",
        "    print(f\"🔄 Reanudando desde checkpoint: {latest_checkpoint}\")\n",
        "    print(f\"   Steps completados: {completed_steps:,}\")\n",
        "\n",
        "    model = PPO.load(latest_checkpoint, device=device)\n",
        "    train_env = VecMonitor(DummyVecEnv([make_env]))\n",
        "    model.set_env(train_env)\n",
        "\n",
        "    new_logger = configure(LOG_DIR, ['stdout', 'tensorboard'])\n",
        "    model.set_logger(new_logger)\n",
        "else:\n",
        "    print(\"🆕 Iniciando entrenamiento nuevo\")\n",
        "    model, train_env = create_model()\n",
        "    completed_steps = 0\n",
        "\n",
        "eval_env = VecMonitor(DummyVecEnv([make_env]))\n",
        "\n",
        "checkpoint_callback = CheckpointCallback(\n",
        "    save_freq=25_000,\n",
        "    save_path=CHECKPOINT_DIR,\n",
        "    name_prefix='rl_model',\n",
        "    save_replay_buffer=True,\n",
        "    save_vecnormalize=True,\n",
        "    verbose=1\n",
        ")\n",
        "\n",
        "eval_callback = EvalCallback(\n",
        "    eval_env,\n",
        "    best_model_save_path=MODEL_DIR,\n",
        "    log_path=LOG_DIR,\n",
        "    eval_freq=10_000,\n",
        "    n_eval_episodes=10,\n",
        "    deterministic=True,\n",
        "    render=False,\n",
        "    verbose=1\n",
        ")\n",
        "\n",
        "callback_list = CallbackList([checkpoint_callback, eval_callback])\n",
        "\n",
        "TOTAL_TIMESTEPS = 200_000\n",
        "remaining_steps = TOTAL_TIMESTEPS - completed_steps\n",
        "\n",
        "if remaining_steps > 0:\n",
        "    print(f\"� Iniciando entrenamiento:\")\n",
        "    print(f\"   Steps restantes: {remaining_steps:,}\")\n",
        "    print(f\"   Steps totales objetivo: {TOTAL_TIMESTEPS:,}\")\n",
        "    print(f\"   Checkpoints cada: 25,000 steps\")\n",
        "    print(f\"   Evaluación cada: 10,000 steps\")\n",
        "    print(f\"   Device: {device}\")\n",
        "    print(f\"   Local storage: {BASE_DIR}\")\n",
        "\n",
        "    start_time = time.time()\n",
        "\n",
        "    model.learn(\n",
        "        total_timesteps=remaining_steps,\n",
        "        callback=callback_list,\n",
        "        reset_num_timesteps=False,\n",
        "        progress_bar=True\n",
        "    )\n",
        "\n",
        "    end_time = time.time()\n",
        "    training_time = end_time - start_time\n",
        "\n",
        "    final_model_path = os.path.join(MODEL_DIR, 'final_model')\n",
        "    model.save(final_model_path)\n",
        "\n",
        "    print(f\"✅ Entrenamiento completado!\")\n",
        "    print(f\"   Tiempo total: {training_time/60:.1f} minutos\")\n",
        "    print(f\"   Modelo final guardado en: {final_model_path}\")\n",
        "else:\n",
        "    print(\"✅ Entrenamiento ya completado!\")\n",
        "\n",
        "print(f\"📁 Archivos guardados en: {BASE_DIR}\")\n",
        "\n",
        "print(\"\\n📊 Archivos en el directorio del experimento:\")\n",
        "for subdir in ['models', 'checkpoints', 'logs']:\n",
        "    dir_path = os.path.join(BASE_DIR, subdir)\n",
        "    if os.path.exists(dir_path):\n",
        "        files = list(Path(dir_path).glob(\"*\"))\n",
        "        print(f\"   {subdir}: {len(files)} archivos\")\n",
        "    else:\n",
        "        print(f\"   {subdir}: directorio no encontrado\")"
      ]
    },
    {
      "cell_type": "code",
      "execution_count": null,
      "metadata": {
        "colab": {
          "base_uri": "https://localhost:8080/",
          "height": 1000
        },
        "id": "6a906740",
        "outputId": "71b2793c-2d07-4150-bcae-ff0d660e00d9"
      },
      "outputs": [
        {
          "output_type": "stream",
          "name": "stdout",
          "text": [
            "Archivos de eventos detectados:\n",
            " - /content/FetchReachDense-v4_PPO_1758579285/logs/events.out.tfevents.1759004275.8fb0249428a8.4226.0\n",
            "Series disponibles:\n",
            " - eval/mean_ep_length\n",
            " - eval/mean_reward\n",
            " - eval/success_rate\n",
            " - rollout/ep_len_mean\n",
            " - rollout/ep_rew_mean\n",
            " - rollout/success_rate\n",
            " - time/fps\n",
            " - train/approx_kl\n",
            " - train/clip_fraction\n",
            " - train/clip_range\n",
            " - train/entropy_loss\n",
            " - train/explained_variance\n",
            " - train/learning_rate\n",
            " - train/loss\n",
            " - train/policy_gradient_loss\n",
            " - train/std\n",
            " - train/value_loss\n",
            "Figura de perdidas guardada en images/fetchreach_ppo_losses.png\n"
          ]
        },
        {
          "output_type": "display_data",
          "data": {
            "text/plain": [
              "<Figure size 2400x400 with 4 Axes>"
            ],
            "image/png": "[encoded data removed]"
          },
          "metadata": {}
        },
        {
          "output_type": "stream",
          "name": "stdout",
          "text": [
            "Figura de recompensa guardada en images/fetchreach_ppo_reward.png\n"
          ]
        },
        {
          "output_type": "display_data",
          "data": {
            "text/plain": [
              "<Figure size 1000x400 with 1 Axes>"
            ],
            "image/png": "[encoded data removed]"
          },
          "metadata": {}
        }
      ],
      "source": [
        "# 📊 Graficas de perdidas y recompensa para FetchReachDense-v4 PPO\n",
        "from pathlib import Path\n",
        "import numpy as np\n",
        "import matplotlib.pyplot as plt\n",
        "from tensorboard.backend.event_processing import event_accumulator\n",
        "\n",
        "LOG_DIR = Path(BASE_DIR) / \"logs\"\n",
        "\n",
        "log_roots = []\n",
        "if \"LOG_DIR\" in globals():\n",
        "    log_roots.append(Path(LOG_DIR))\n",
        "\n",
        "log_roots.append(Path.cwd() / \"runs\")\n",
        "\n",
        "log_event_files = []\n",
        "for root in log_roots:\n",
        "    if root.exists():\n",
        "        log_event_files.extend(root.rglob(\"events.out.tfevents.*\"))\n",
        "\n",
        "log_event_files = sorted(set(log_event_files))\n",
        "\n",
        "if not log_event_files:\n",
        "    raise FileNotFoundError(\"No se encontraron archivos events.out.tfevents.*; ejecuta primero el entrenamiento o verifica la ruta en el directorio del experimento.\")\n",
        "\n",
        "print(\"Archivos de eventos detectados:\")\n",
        "for path in log_event_files:\n",
        "    print(f\" - {path}\")\n",
        "\n",
        "scalar_series = {}\n",
        "for event_path in log_event_files:\n",
        "    try:\n",
        "        ea = event_accumulator.EventAccumulator(str(event_path), size_guidance={\"scalars\": 0})\n",
        "        ea.Reload()\n",
        "    except Exception as err:\n",
        "        print(f\"⚠️ No se pudo cargar {event_path}: {err}\")\n",
        "        continue\n",
        "\n",
        "    for tag in ea.Tags().get(\"scalars\", []):\n",
        "        entries = scalar_series.setdefault(tag, [])\n",
        "        entries.extend((scalar.step, scalar.value) for scalar in ea.Scalars(tag))\n",
        "\n",
        "available_scalars = sorted(scalar_series.keys())\n",
        "print(\"Series disponibles:\")\n",
        "for tag in available_scalars:\n",
        "    print(f\" - {tag}\")\n",
        "\n",
        "if not available_scalars:\n",
        "    raise ValueError(\"Los eventos no contienen datos de scalars.\")\n",
        "\n",
        "\n",
        "def get_scalar(tag: str):\n",
        "    data = scalar_series.get(tag, [])\n",
        "    if not data:\n",
        "        print(f\"⚠️ No se encontro la serie {tag} en los eventos\")\n",
        "        return np.array([], dtype=np.int64), np.array([], dtype=np.float64)\n",
        "    data = np.array(data, dtype=np.float64)\n",
        "    steps = data[:, 0].astype(np.int64)\n",
        "    values = data[:, 1]\n",
        "    order = np.argsort(steps)\n",
        "    return steps[order], values[order]\n",
        "\n",
        "\n",
        "def smooth(values: np.ndarray, weight: float = 0.97) -> np.ndarray:\n",
        "    if values.size == 0:\n",
        "        return values\n",
        "    smoothed = np.empty_like(values, dtype=np.float64)\n",
        "    smoothed[0] = values[0]\n",
        "    for idx in range(1, len(values)):\n",
        "        smoothed[idx] = weight * smoothed[idx - 1] + (1.0 - weight) * values[idx]\n",
        "    return smoothed\n",
        "\n",
        "loss_candidates = [\n",
        "    (\"train/loss\", \"Perdida total (PPO)\"),\n",
        "    (\"train/value_loss\", \"Perdida del critico\"),\n",
        "    (\"train/policy_gradient_loss\", \"Perdida policy gradient\"),\n",
        "    (\"train/entropy_loss\", \"Perdida de entropia\")\n",
        "]\n",
        "\n",
        "selected_losses = [(tag, label) for tag, label in loss_candidates if tag in scalar_series]\n",
        "\n",
        "if not selected_losses:\n",
        "    print(\"⚠️ No se encontraron series de perdida en los eventos\")\n",
        "else:\n",
        "    fig, axes = plt.subplots(1, len(selected_losses), figsize=(6 * len(selected_losses), 4), constrained_layout=True)\n",
        "    if len(selected_losses) == 1:\n",
        "        axes = [axes]\n",
        "\n",
        "    for axis, (tag, ylabel) in zip(axes, selected_losses):\n",
        "        steps, values = get_scalar(tag)\n",
        "        if steps.size == 0:\n",
        "            axis.text(0.5, 0.5, \"Sin datos\", ha=\"center\", va=\"center\")\n",
        "            axis.axis(\"off\")\n",
        "            continue\n",
        "        smooth_curve = smooth(values)\n",
        "        axis.plot(steps, values, alpha=0.35, label=\"Serie original\")\n",
        "        axis.plot(steps, smooth_curve, linewidth=2.0, label=\"Suavizado\")\n",
        "        axis.set_title(tag)\n",
        "        axis.set_xlabel(\"Steps\")\n",
        "        axis.set_ylabel(ylabel)\n",
        "        axis.grid(True, linestyle=\"--\", alpha=0.3)\n",
        "        axis.legend()\n",
        "\n",
        "    loss_fig_path = Path(\"images\") / \"fetchreach_ppo_losses.png\"\n",
        "    try:\n",
        "        loss_fig_path.parent.mkdir(parents=True, exist_ok=True)\n",
        "        fig.savefig(loss_fig_path, dpi=150, bbox_inches=\"tight\")\n",
        "        print(f\"Figura de perdidas guardada en {loss_fig_path}\")\n",
        "    except PermissionError as err:\n",
        "        print(f\"No se pudo guardar la figura de perdidas: {err}\")\n",
        "\n",
        "    plt.show()\n",
        "    plt.close(fig)\n",
        "\n",
        "steps_rew, values_rew = get_scalar(\"rollout/ep_rew_mean\")\n",
        "fig2, axis2 = plt.subplots(figsize=(10, 4))\n",
        "\n",
        "if steps_rew.size == 0:\n",
        "    axis2.text(0.5, 0.5, \"Sin datos\", ha=\"center\", va=\"center\")\n",
        "    axis2.axis(\"off\")\n",
        "else:\n",
        "    reward_smooth = smooth(values_rew)\n",
        "    axis2.plot(steps_rew, values_rew, alpha=0.35, label=\"Serie original\")\n",
        "    axis2.plot(steps_rew, reward_smooth, linewidth=2.0, label=\"Suavizado\")\n",
        "    axis2.set_xlabel(\"Steps\")\n",
        "    axis2.set_ylabel(\"Recompensa media (rollout)\")\n",
        "    axis2.set_title(\"Recompensa promedio en entrenamiento FetchReachDense-v4\")\n",
        "    axis2.grid(True, linestyle=\"--\", alpha=0.3)\n",
        "    axis2.legend()\n",
        "\n",
        "reward_fig_path = Path(\"images\") / \"fetchreach_ppo_reward.png\"\n",
        "try:\n",
        "    reward_fig_path.parent.mkdir(parents=True, exist_ok=True)\n",
        "    fig2.savefig(reward_fig_path, dpi=150, bbox_inches=\"tight\")\n",
        "    print(f\"Figura de recompensa guardada en {reward_fig_path}\")\n",
        "except PermissionError as err:\n",
        "    print(f\"No se pudo guardar la figura de recompensa: {err}\")\n",
        "\n",
        "plt.show()\n",
        "plt.close(fig2)\n"
      ]
    },
    {
      "cell_type": "code",
      "execution_count": null,
      "metadata": {
        "colab": {
          "base_uri": "https://localhost:8080/"
        },
        "id": "9ihRZwCYmcF0",
        "outputId": "3187d175-b54a-4459-b876-ce46caa83c69"
      },
      "outputs": [
        {
          "output_type": "stream",
          "name": "stdout",
          "text": [
            "📦 Cargando modelo desde: /content/FetchReachDense-v4_PPO_1758579285/models/best_model.zip\n",
            "✅ Modelo cargado: best_model.zip\n",
            "🎬 Generando video de 10 segundos (300 frames)...\n",
            "   Episodio 1: recompensa = -0.538\n",
            "   Episodio 2: recompensa = -0.676\n",
            "   Episodio 3: recompensa = -0.523\n",
            "   Episodio 4: recompensa = -0.618\n",
            "   Episodio 5: recompensa = -0.456\n",
            "   Episodio 6: recompensa = -0.951\n",
            "\n",
            "📊 Estadísticas de evaluación:\n",
            "   Episodios completados: 6\n",
            "   Recompensa media: -0.627 ± 0.161\n",
            "   Mejor episodio: -0.456\n",
            "   Peor episodio: -0.951\n",
            "\n",
            "🎥 Video guardado en: /content/FetchReachDense-v4_PPO_1758579285/videos/ppo_eval_10s.mp4\n",
            "   Duración: 10.0 segundos\n",
            "   Resolución: (480, 480, 3)\n"
          ]
        }
      ],
      "source": [
        "# 📹 Evaluación y generación de video (10 segundos)\n",
        "import imageio\n",
        "\n",
        "def make_eval_env():\n",
        "    env = gym.make(ENV_ID, render_mode='rgb_array')\n",
        "    env = Monitor(env)\n",
        "    return env\n",
        "\n",
        "def load_best_model():\n",
        "    model_paths = [\n",
        "        os.path.join(MODEL_DIR, 'best_model.zip'),\n",
        "        # latest_checkpoint,\n",
        "        os.path.join(MODEL_DIR, 'final_model.zip')\n",
        "    ]\n",
        "\n",
        "    for model_path in model_paths:\n",
        "        if model_path and os.path.exists(model_path):\n",
        "            print(f\"📦 Cargando modelo desde: {model_path}\")\n",
        "            return PPO.load(model_path, device=device), model_path\n",
        "\n",
        "    raise FileNotFoundError('❌ No se encontró ningún modelo guardado. Ejecuta primero el entrenamiento.')\n",
        "\n",
        "try:\n",
        "    eval_model, model_used = load_best_model()\n",
        "    eval_env = make_eval_env()\n",
        "    print(f\"✅ Modelo cargado: {os.path.basename(model_used)}\")\n",
        "\n",
        "except FileNotFoundError as e:\n",
        "    print(e)\n",
        "    raise\n",
        "\n",
        "FPS = 30\n",
        "SECONDS = 10\n",
        "MAX_FRAMES = FPS * SECONDS\n",
        "\n",
        "print(f\"🎬 Generando video de {SECONDS} segundos ({MAX_FRAMES} frames)...\")\n",
        "\n",
        "frames = []\n",
        "rewards_all = []\n",
        "rewards_ep = []\n",
        "episode_count = 0\n",
        "\n",
        "obs, info = eval_env.reset(seed=SEED)\n",
        "\n",
        "while len(frames) < MAX_FRAMES:\n",
        "    action, _ = eval_model.predict(obs, deterministic=True)\n",
        "    obs, reward, terminated, truncated, info = eval_env.step(action)\n",
        "    rewards_ep.append(reward)\n",
        "\n",
        "    frame = eval_env.render()\n",
        "    frames.append(frame)\n",
        "\n",
        "    if terminated or truncated:\n",
        "        episode_count += 1\n",
        "        episode_reward = float(np.sum(rewards_ep))\n",
        "        rewards_all.append(episode_reward)\n",
        "        print(f\"   Episodio {episode_count}: recompensa = {episode_reward:.3f}\")\n",
        "        rewards_ep = []\n",
        "        obs, info = eval_env.reset()\n",
        "\n",
        "if rewards_ep:\n",
        "    rewards_all.append(float(np.sum(rewards_ep)))\n",
        "\n",
        "if rewards_all:\n",
        "    mean_reward = float(np.mean(rewards_all))\n",
        "    std_reward = float(np.std(rewards_all))\n",
        "    print(f\"\\n📊 Estadísticas de evaluación:\")\n",
        "    print(f\"   Episodios completados: {len(rewards_all)}\")\n",
        "    print(f\"   Recompensa media: {mean_reward:.3f} ± {std_reward:.3f}\")\n",
        "    print(f\"   Mejor episodio: {max(rewards_all):.3f}\")\n",
        "    print(f\"   Peor episodio: {min(rewards_all):.3f}\")\n",
        "else:\n",
        "    print(\"⚠️ No se completó ningún episodio\")\n",
        "\n",
        "video_path = os.path.join(VIDEO_DIR, f'ppo_eval_{SECONDS}s.mp4')\n",
        "imageio.mimwrite(video_path, frames, fps=FPS)\n",
        "print(f\"\\n🎥 Video guardado en: {video_path}\")\n",
        "print(f\"   Duración: {len(frames)/FPS:.1f} segundos\")\n",
        "print(f\"   Resolución: {frames[0].shape if frames else 'N/A'}\")\n",
        "\n",
        "eval_env.close()"
      ]
    },
    {
      "cell_type": "code",
      "execution_count": null,
      "metadata": {
        "colab": {
          "base_uri": "https://localhost:8080/",
          "height": 715
        },
        "id": "6mSNsEXlIBOg",
        "outputId": "6e10debe-02d8-4ede-ddec-0595a3c4b956"
      },
      "outputs": [
        {
          "output_type": "stream",
          "name": "stdout",
          "text": [
            "🎬 Reproduciendo video del modelo entrenado...\n"
          ]
        },
        {
          "output_type": "display_data",
          "data": {
            "text/plain": [
              "<IPython.core.display.HTML object>"
            ],
            "text/html": [
              "\n",
              "            <div style=\"text-align: center;\">\n",
              "                <h3>🎥 Video del Agente PPO Entrenado - FetchReachDense</h3>\n",
              "                <video width=\"640\" height=\"480\" controls>\n",
              "                    <source src=\"data:video/mp4;base64,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\" type=\"video/mp4\">\n",
              "                    Tu navegador no soporta el elemento video.\n",
              "                </video>\n",
              "                <p><b>Archivo:</b> ppo_eval_10s.mp4</p>\n",
              "                <p><b>Tamaño:</b> 0.1 MB</p>\n",
              "            </div>\n",
              "            "
            ]
          },
          "metadata": {}
        },
        {
          "output_type": "stream",
          "name": "stdout",
          "text": [
            "✅ Video mostrado exitosamente\n",
            "📂 Ruta: /content/FetchReachDense-v4_PPO_1758579285/videos/ppo_eval_10s.mp4\n",
            "\n",
            "💡 El video muestra el comportamiento del agente PPO después del entrenamiento.\n",
            "🤖 El robot Fetch intenta alcanzar posiciones objetivo usando su brazo robótico.\n",
            "📈 FetchReachDense-v4 proporciona recompensas densas para un aprendizaje más eficiente.\n"
          ]
        }
      ],
      "source": [
        "# 🎬 Reproducir y visualizar video del modelo entrenado\n",
        "import base64\n",
        "from IPython.display import HTML, Video, display\n",
        "\n",
        "def find_video_file():\n",
        "    video_files = list(Path(VIDEO_DIR).glob(\"*.mp4\"))\n",
        "    if not video_files:\n",
        "        return None\n",
        "\n",
        "    latest_video = max(video_files, key=lambda x: x.stat().st_mtime)\n",
        "    return str(latest_video)\n",
        "\n",
        "def display_video_simple(video_path):\n",
        "    try:\n",
        "        if IN_COLAB:\n",
        "            with open(video_path, 'rb') as f:\n",
        "                video_bytes = f.read()\n",
        "\n",
        "            video_b64 = base64.b64encode(video_bytes).decode()\n",
        "\n",
        "            html = f\"\"\"\n",
        "            <div style=\"text-align: center;\">\n",
        "                <h3>🎥 Video del Agente PPO Entrenado - FetchReachDense</h3>\n",
        "                <video width=\"640\" height=\"480\" controls>\n",
        "                    <source src=\"data:video/mp4;base64,{video_b64}\" type=\"video/mp4\">\n",
        "                    Tu navegador no soporta el elemento video.\n",
        "                </video>\n",
        "                <p><b>Archivo:</b> {os.path.basename(video_path)}</p>\n",
        "                <p><b>Tamaño:</b> {os.path.getsize(video_path) / (1024 * 1024):.1f} MB</p>\n",
        "            </div>\n",
        "            \"\"\"\n",
        "            display(HTML(html))\n",
        "        else:\n",
        "            display(Video(video_path, width=640, height=480))\n",
        "\n",
        "        print(f\"✅ Video mostrado exitosamente\")\n",
        "        print(f\"📂 Ruta: {video_path}\")\n",
        "\n",
        "    except Exception as e:\n",
        "        print(f\"❌ Error mostrando video: {e}\")\n",
        "        print(f\"🔗 Puedes abrir el video manualmente desde: {video_path}\")\n",
        "\n",
        "video_path = find_video_file()\n",
        "\n",
        "if video_path and os.path.exists(video_path):\n",
        "    print(f\"🎬 Reproduciendo video del modelo entrenado...\")\n",
        "    display_video_simple(video_path)\n",
        "\n",
        "    print(f\"\\n💡 El video muestra el comportamiento del agente PPO después del entrenamiento.\")\n",
        "    print(f\"🤖 El robot Fetch intenta alcanzar posiciones objetivo usando su brazo robótico.\")\n",
        "    print(f\"📈 FetchReachDense-v4 proporciona recompensas densas para un aprendizaje más eficiente.\")\n",
        "\n",
        "else:\n",
        "    print(\"❌ No se encontró archivo de video.\")\n",
        "    print(\"⚠️ Ejecuta primero la celda de evaluación y generación de video.\")\n",
        "    print(f\"📁 Directorio de videos: {VIDEO_DIR}\")\n",
        "\n",
        "    if os.path.exists(VIDEO_DIR):\n",
        "        video_files = list(Path(VIDEO_DIR).glob(\"*\"))\n",
        "        if video_files:\n",
        "            print(f\"📂 Archivos encontrados en {VIDEO_DIR}:\")\n",
        "            for file in video_files:\n",
        "                print(f\"   - {file.name}\")\n",
        "        else:\n",
        "            print(f\"📂 El directorio {VIDEO_DIR} está vacío.\")\n",
        "    else:\n",
        "        print(f\"📂 El directorio {VIDEO_DIR} no existe.\")"
      ]
    },
    {
      "cell_type": "code",
      "source": [],
      "metadata": {
        "id": "2fxX7x2ewgtZ"
      },
      "execution_count": null,
      "outputs": []
    },
    {
      "cell_type": "code",
      "source": [],
      "metadata": {
        "id": "BJDWr-lLwDfI"
      },
      "execution_count": null,
      "outputs": []
    }
  ],
  "metadata": {
    "accelerator": "GPU",
    "colab": {
      "gpuType": "T4",
      "machine_shape": "hm",
      "provenance": []
    },
    "kernelspec": {
      "display_name": "Python 3",
      "name": "python3"
    },
    "language_info": {
      "codemirror_mode": {
        "name": "ipython",
        "version": 3
      },
      "file_extension": ".py",
      "mimetype": "text/x-python",
      "name": "python",
      "nbconvert_exporter": "python",
      "pygments_lexer": "ipython3",
      "version": "3.13.5"
    },
    "widgets": {
      "application/vnd.jupyter.widget-state+json": {
        "52400efa55c84c7a992a2977a09e894b": {
          "model_module": "@jupyter-widgets/output",
          "model_name": "OutputModel",
          "model_module_version": "1.0.0",
          "state": {
            "_dom_classes": [],
            "_model_module": "@jupyter-widgets/output",
            "_model_module_version": "1.0.0",
            "_model_name": "OutputModel",
            "_view_count": null,
            "_view_module": "@jupyter-widgets/output",
            "_view_module_version": "1.0.0",
            "_view_name": "OutputView",
            "layout": "IPY_MODEL_ea6096285b3947b5aa7b0326cc32a634",
            "msg_id": "",
            "outputs": [
              {
                "output_type": "display_data",
                "data": {
                  "text/plain": "\u001b[35m 100%\u001b[0m \u001b[38;2;114;156;31m━━━━━━━━━━━━━━━━━━━━━━━━━━━━━━━━━━━━━━━━━━━━━━━━━━━━━━━━━━━\u001b[0m \u001b[32m200,683/200,000 \u001b[0m [ \u001b[33m0:12:59\u001b[0m < \u001b[36m0:00:00\u001b[0m , \u001b[31m257 it/s\u001b[0m ]\n",
                  "text/html": "<pre style=\"white-space:pre;overflow-x:auto;line-height:normal;font-family:Menlo,'DejaVu Sans Mono',consolas,'Courier New',monospace\"><span style=\"color: #800080; text-decoration-color: #800080\"> 100%</span> <span style=\"color: #729c1f; text-decoration-color: #729c1f\">━━━━━━━━━━━━━━━━━━━━━━━━━━━━━━━━━━━━━━━━━━━━━━━━━━━━━━━━━━━</span> <span style=\"color: #008000; text-decoration-color: #008000\">200,683/200,000 </span> [ <span style=\"color: #808000; text-decoration-color: #808000\">0:12:59</span> &lt; <span style=\"color: #008080; text-decoration-color: #008080\">0:00:00</span> , <span style=\"color: #800000; text-decoration-color: #800000\">257 it/s</span> ]\n</pre>\n"
                },
                "metadata": {}
              }
            ]
          }
        },
        "ea6096285b3947b5aa7b0326cc32a634": {
          "model_module": "@jupyter-widgets/base",
          "model_name": "LayoutModel",
          "model_module_version": "1.2.0",
          "state": {
            "_model_module": "@jupyter-widgets/base",
            "_model_module_version": "1.2.0",
            "_model_name": "LayoutModel",
            "_view_count": null,
            "_view_module": "@jupyter-widgets/base",
            "_view_module_version": "1.2.0",
            "_view_name": "LayoutView",
            "align_content": null,
            "align_items": null,
            "align_self": null,
            "border": null,
            "bottom": null,
            "display": null,
            "flex": null,
            "flex_flow": null,
            "grid_area": null,
            "grid_auto_columns": null,
            "grid_auto_flow": null,
            "grid_auto_rows": null,
            "grid_column": null,
            "grid_gap": null,
            "grid_row": null,
            "grid_template_areas": null,
            "grid_template_columns": null,
            "grid_template_rows": null,
            "height": null,
            "justify_content": null,
            "justify_items": null,
            "left": null,
            "margin": null,
            "max_height": null,
            "max_width": null,
            "min_height": null,
            "min_width": null,
            "object_fit": null,
            "object_position": null,
            "order": null,
            "overflow": null,
            "overflow_x": null,
            "overflow_y": null,
            "padding": null,
            "right": null,
            "top": null,
            "visibility": null,
            "width": null
          }
        }
      }
    }
  },
  "nbformat": 4,
  "nbformat_minor": 0
}