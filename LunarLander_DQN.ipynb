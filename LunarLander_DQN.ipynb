{
  "cells": [
    {
      "cell_type": "markdown",
      "metadata": {
        "id": "view-in-github",
        "colab_type": "text"
      },
      "source": [
        "<a href=\"https://colab.research.google.com/github/aladelca/MAIA_aprendizaje_refuerzo_profundo/blob/master/LunarLander_DQN.ipynb\" target=\"_parent\"><img src=\"https://colab.research.google.com/assets/colab-badge.svg\" alt=\"Open In Colab\"/></a>"
      ]
    },
    {
      "cell_type": "markdown",
      "metadata": {
        "id": "F_DkmanOOPu1"
      },
      "source": [
        "# LunarLander con DQN (Stable-Baselines3)\n",
        "\n",
        "Este notebook entrena y evalúa un agente DQN de Stable-Baselines3 para el ambiente discreto `LunarLander-v3` de Gymnasium.\n",
        "\n",
        "- Método: DQN de SB3 con red MLP, experiencia repetida, target updates y exploración epsilon.\n",
        "- Ambiente: `LunarLander-v3` (acciones: 0=No-op, 1=Motor Izq., 2=Motor Principal, 3=Motor Der.).\n",
        "- Objetivo: Aterrizar en la zona plana entre banderas (centro), robusto a variaciones del terreno.\n",
        "- Hardware: CPU.\n",
        "- Evita logs con `verbose = False`\n",
        "\n",
        "Incluye entrenamiento con `EvalCallback` y checkpoints, evaluación con y sin vientos, para mayor robustez, y gráficos de aprendizaje y grabación de video.\n",
        "\n",
        "## Instalación e importación de dependencias"
      ]
    },
    {
      "cell_type": "code",
      "execution_count": 1,
      "metadata": {
        "colab": {
          "base_uri": "https://localhost:8080/"
        },
        "id": "2kJl_cHgOPu8",
        "outputId": "fda4ea9c-8b7f-4c94-a6b7-33040a72c010"
      },
      "outputs": [
        {
          "output_type": "stream",
          "name": "stdout",
          "text": [
            "Librerías instaladas correctamente.\n"
          ]
        }
      ],
      "source": [
        "# Instalación de dependencias\n",
        "# swig debe instalarse antes que box2d\n",
        "%pip install -q swig\n",
        "%pip install -q gymnasium[box2d] # instalar en una nueva línea para evitar errores en colab\n",
        "%pip install -q stable-baselines3 matplotlib imageio imageio-ffmpeg\n",
        "#%pip install -q tensorboard tqdm\n",
        "\n",
        "from IPython.display import clear_output\n",
        "clear_output()\n",
        "print(\"Librerías instaladas correctamente.\")"
      ]
    },
    {
      "cell_type": "code",
      "execution_count": 2,
      "metadata": {
        "colab": {
          "base_uri": "https://localhost:8080/"
        },
        "id": "BJd_keWhOPu_",
        "outputId": "0a20652b-ae6b-4716-e67f-13c9420a2774"
      },
      "outputs": [
        {
          "output_type": "stream",
          "name": "stdout",
          "text": [
            "Usando Stable-Baselines3 DQN\n"
          ]
        },
        {
          "output_type": "stream",
          "name": "stderr",
          "text": [
            "/usr/local/lib/python3.12/dist-packages/jupyter_client/session.py:151: DeprecationWarning: datetime.datetime.utcnow() is deprecated and scheduled for removal in a future version. Use timezone-aware objects to represent datetimes in UTC: datetime.datetime.now(datetime.UTC).\n",
            "  return datetime.utcnow().replace(tzinfo=utc)\n"
          ]
        }
      ],
      "source": [
        "import sys, platform\n",
        "import imageio\n",
        "import gymnasium as gym\n",
        "import numpy as np\n",
        "import random\n",
        "import os\n",
        "import matplotlib.pyplot as plt\n",
        "#from tqdm.auto import trange, tqdm\n",
        "from IPython.display import Video, display\n",
        "\n",
        "from stable_baselines3 import DQN\n",
        "from stable_baselines3.common.evaluation import evaluate_policy\n",
        "from stable_baselines3.common.callbacks import EvalCallback, CheckpointCallback\n",
        "from stable_baselines3.common.vec_env import DummyVecEnv\n",
        "from stable_baselines3.common.monitor import Monitor\n",
        "from stable_baselines3.common.results_plotter import ts2xy, load_results, plot_results\n",
        "\n",
        "SEED = 42\n",
        "random.seed(SEED)\n",
        "np.random.seed(SEED)\n",
        "\n",
        "clear_output()\n",
        "print('Usando Stable-Baselines3 DQN')"
      ]
    },
    {
      "cell_type": "markdown",
      "source": [
        "## Definición del ambiente"
      ],
      "metadata": {
        "id": "T4fMArVjj2oP"
      }
    },
    {
      "cell_type": "code",
      "execution_count": 3,
      "metadata": {
        "colab": {
          "base_uri": "https://localhost:8080/"
        },
        "id": "nJVVf6xrOPvA",
        "outputId": "22125dd3-60ef-467d-84b5-eaca1dc77674"
      },
      "outputs": [
        {
          "output_type": "stream",
          "name": "stdout",
          "text": [
            "Espacio de estados: 8 , Espacio de acciones: 4\n"
          ]
        }
      ],
      "source": [
        "# Definir el ambiente\n",
        "def make_env(seed: int = SEED, render_mode=None, enable_wind: bool = False, **kwargs):\n",
        "    env = gym.make('LunarLander-v3', render_mode=render_mode, enable_wind=enable_wind, **kwargs)\n",
        "    env = Monitor(env) # para registrar las recompensas\n",
        "    env.reset(seed=seed)\n",
        "    env.action_space.seed(seed)\n",
        "    env.observation_space.seed(seed)\n",
        "    return env\n",
        "\n",
        "# Verificar espacios\n",
        "_env = make_env()\n",
        "clear_output()\n",
        "print('Espacio de estados:', _env.observation_space.shape[0], ', Espacio de acciones:', _env.action_space.n)\n",
        "_env.close()"
      ]
    },
    {
      "cell_type": "code",
      "execution_count": 4,
      "metadata": {
        "id": "CB1ZKwzLOPvB"
      },
      "outputs": [],
      "source": [
        "# Hiperparámetros\n",
        "TIMESTEPS = 300_000  # Ajustado según el tiempo disponible\n",
        "POLICY_KWARGS = dict(net_arch=[256, 256])\n",
        "LEARNING_RATE = 1e-3\n",
        "GAMMA = 0.99\n",
        "BUFFER_SIZE = 100_000\n",
        "LEARNING_STARTS = 5_000\n",
        "TRAIN_FREQ = 4\n",
        "TARGET_UPDATE_INTERVAL = 1_000\n",
        "TAU = 1.0\n",
        "EXPLORATION_FRACTION = 0.35 # 0.5\n",
        "EXPLORATION_FINAL_EPS = 0.05\n",
        "BATCH_SIZE = 64"
      ]
    },
    {
      "cell_type": "code",
      "execution_count": 5,
      "metadata": {
        "id": "eCqfcKdrOPvD"
      },
      "outputs": [],
      "source": [
        "# Utilidades SB3: callbacks de evaluación y checkpoints\n",
        "\n",
        "log_dir = 'logs'\n",
        "os.makedirs(log_dir, exist_ok=True)\n",
        "eval_env = make_env(seed=SEED + 100, enable_wind=False)\n",
        "\n",
        "eval_callback = EvalCallback(\n",
        "    eval_env,\n",
        "    best_model_save_path=os.path.join(log_dir, 'best_model'),\n",
        "    log_path=log_dir,\n",
        "    eval_freq=10_000,\n",
        "    deterministic=True,\n",
        "    render=False,\n",
        "    n_eval_episodes=10,\n",
        ")\n",
        "\n",
        "checkpoint_callback = CheckpointCallback(\n",
        "    save_freq=50_000,\n",
        "    save_path=os.path.join(log_dir, 'checkpoints'),\n",
        "    name_prefix='dqn_lunar',\n",
        "    save_replay_buffer=True,\n",
        "    save_vecnormalize=False,\n",
        ")"
      ]
    },
    {
      "cell_type": "markdown",
      "source": [
        "## Definición del agente y entrenamiento"
      ],
      "metadata": {
        "id": "gGC-86wCkAxw"
      }
    },
    {
      "cell_type": "code",
      "execution_count": 6,
      "metadata": {
        "colab": {
          "base_uri": "https://localhost:8080/",
          "height": 1000,
          "referenced_widgets": [
            "7d2f0918564f4be69ea47636bf872a0a",
            "3281fb954cc94289a0b18fa0f1541396"
          ]
        },
        "id": "CmkkRJzYOPvD",
        "outputId": "ae25b691-8148-4972-edb9-f08de89265a0"
      },
      "outputs": [
        {
          "output_type": "display_data",
          "data": {
            "text/plain": [
              "/usr/local/lib/python3.12/dist-packages/jupyter_client/session.py:151: DeprecationWarning: \n",
              "datetime.datetime.utcnow() is deprecated and scheduled for removal in a future version. Use timezone-aware objects \n",
              "to represent datetimes in UTC: datetime.datetime.now(datetime.UTC).\n",
              "  return datetime.utcnow().replace(tzinfo=utc)\n"
            ],
            "text/html": [
              "<pre style=\"white-space:pre;overflow-x:auto;line-height:normal;font-family:Menlo,'DejaVu Sans Mono',consolas,'Courier New',monospace\">/usr/local/lib/python3.12/dist-packages/jupyter_client/session.py:151: DeprecationWarning: \n",
              "datetime.datetime.utcnow() is deprecated and scheduled for removal in a future version. Use timezone-aware objects \n",
              "to represent datetimes in UTC: datetime.datetime.now(datetime.UTC).\n",
              "  return datetime.utcnow().replace(tzinfo=utc)\n",
              "</pre>\n"
            ]
          },
          "metadata": {}
        },
        {
          "output_type": "display_data",
          "data": {
            "text/plain": [
              "Output()"
            ],
            "application/vnd.jupyter.widget-view+json": {
              "version_major": 2,
              "version_minor": 0,
              "model_id": "7d2f0918564f4be69ea47636bf872a0a"
            }
          },
          "metadata": {}
        },
        {
          "output_type": "display_data",
          "data": {
            "text/plain": [
              "/usr/local/lib/python3.12/dist-packages/ipywidgets/widgets/widget_output.py:111: DeprecationWarning: \n",
              "Kernel._parent_header is deprecated in ipykernel 6. Use .get_parent()\n",
              "  if ip and hasattr(ip, 'kernel') and hasattr(ip.kernel, '_parent_header'):\n"
            ],
            "text/html": [
              "<pre style=\"white-space:pre;overflow-x:auto;line-height:normal;font-family:Menlo,'DejaVu Sans Mono',consolas,'Courier New',monospace\">/usr/local/lib/python3.12/dist-packages/ipywidgets/widgets/widget_output.py:111: DeprecationWarning: \n",
              "Kernel._parent_header is deprecated in ipykernel 6. Use .get_parent()\n",
              "  if ip and hasattr(ip, 'kernel') and hasattr(ip.kernel, '_parent_header'):\n",
              "</pre>\n"
            ]
          },
          "metadata": {}
        },
        {
          "output_type": "display_data",
          "data": {
            "text/plain": [
              "Eval num_timesteps=10000, episode_reward=-140.90 +/- 24.04\n"
            ],
            "text/html": [
              "<pre style=\"white-space:pre;overflow-x:auto;line-height:normal;font-family:Menlo,'DejaVu Sans Mono',consolas,'Courier New',monospace\">Eval num_timesteps=10000, episode_reward=-140.90 +/- 24.04\n",
              "</pre>\n"
            ]
          },
          "metadata": {}
        },
        {
          "output_type": "display_data",
          "data": {
            "text/plain": [
              "Episode length: 1000.00 +/- 0.00\n"
            ],
            "text/html": [
              "<pre style=\"white-space:pre;overflow-x:auto;line-height:normal;font-family:Menlo,'DejaVu Sans Mono',consolas,'Courier New',monospace\">Episode length: 1000.00 +/- 0.00\n",
              "</pre>\n"
            ]
          },
          "metadata": {}
        },
        {
          "output_type": "display_data",
          "data": {
            "text/plain": [
              "New best mean reward!\n"
            ],
            "text/html": [
              "<pre style=\"white-space:pre;overflow-x:auto;line-height:normal;font-family:Menlo,'DejaVu Sans Mono',consolas,'Courier New',monospace\">New best mean reward!\n",
              "</pre>\n"
            ]
          },
          "metadata": {}
        },
        {
          "output_type": "display_data",
          "data": {
            "text/plain": [
              "Eval num_timesteps=20000, episode_reward=-155.87 +/- 28.33\n"
            ],
            "text/html": [
              "<pre style=\"white-space:pre;overflow-x:auto;line-height:normal;font-family:Menlo,'DejaVu Sans Mono',consolas,'Courier New',monospace\">Eval num_timesteps=20000, episode_reward=-155.87 +/- 28.33\n",
              "</pre>\n"
            ]
          },
          "metadata": {}
        },
        {
          "output_type": "display_data",
          "data": {
            "text/plain": [
              "Episode length: 1000.00 +/- 0.00\n"
            ],
            "text/html": [
              "<pre style=\"white-space:pre;overflow-x:auto;line-height:normal;font-family:Menlo,'DejaVu Sans Mono',consolas,'Courier New',monospace\">Episode length: 1000.00 +/- 0.00\n",
              "</pre>\n"
            ]
          },
          "metadata": {}
        },
        {
          "output_type": "display_data",
          "data": {
            "text/plain": [
              "Eval num_timesteps=30000, episode_reward=-123.32 +/- 25.42\n"
            ],
            "text/html": [
              "<pre style=\"white-space:pre;overflow-x:auto;line-height:normal;font-family:Menlo,'DejaVu Sans Mono',consolas,'Courier New',monospace\">Eval num_timesteps=30000, episode_reward=-123.32 +/- 25.42\n",
              "</pre>\n"
            ]
          },
          "metadata": {}
        },
        {
          "output_type": "display_data",
          "data": {
            "text/plain": [
              "Episode length: 917.60 +/- 247.20\n"
            ],
            "text/html": [
              "<pre style=\"white-space:pre;overflow-x:auto;line-height:normal;font-family:Menlo,'DejaVu Sans Mono',consolas,'Courier New',monospace\">Episode length: 917.60 +/- 247.20\n",
              "</pre>\n"
            ]
          },
          "metadata": {}
        },
        {
          "output_type": "display_data",
          "data": {
            "text/plain": [
              "New best mean reward!\n"
            ],
            "text/html": [
              "<pre style=\"white-space:pre;overflow-x:auto;line-height:normal;font-family:Menlo,'DejaVu Sans Mono',consolas,'Courier New',monospace\">New best mean reward!\n",
              "</pre>\n"
            ]
          },
          "metadata": {}
        },
        {
          "output_type": "display_data",
          "data": {
            "text/plain": [
              "Eval num_timesteps=40000, episode_reward=-182.95 +/- 33.41\n"
            ],
            "text/html": [
              "<pre style=\"white-space:pre;overflow-x:auto;line-height:normal;font-family:Menlo,'DejaVu Sans Mono',consolas,'Courier New',monospace\">Eval num_timesteps=40000, episode_reward=-182.95 +/- 33.41\n",
              "</pre>\n"
            ]
          },
          "metadata": {}
        },
        {
          "output_type": "display_data",
          "data": {
            "text/plain": [
              "Episode length: 372.50 +/- 217.08\n"
            ],
            "text/html": [
              "<pre style=\"white-space:pre;overflow-x:auto;line-height:normal;font-family:Menlo,'DejaVu Sans Mono',consolas,'Courier New',monospace\">Episode length: 372.50 +/- 217.08\n",
              "</pre>\n"
            ]
          },
          "metadata": {}
        },
        {
          "output_type": "display_data",
          "data": {
            "text/plain": [
              "Eval num_timesteps=50000, episode_reward=-172.59 +/- 39.00\n"
            ],
            "text/html": [
              "<pre style=\"white-space:pre;overflow-x:auto;line-height:normal;font-family:Menlo,'DejaVu Sans Mono',consolas,'Courier New',monospace\">Eval num_timesteps=50000, episode_reward=-172.59 +/- 39.00\n",
              "</pre>\n"
            ]
          },
          "metadata": {}
        },
        {
          "output_type": "display_data",
          "data": {
            "text/plain": [
              "Episode length: 334.30 +/- 107.28\n"
            ],
            "text/html": [
              "<pre style=\"white-space:pre;overflow-x:auto;line-height:normal;font-family:Menlo,'DejaVu Sans Mono',consolas,'Courier New',monospace\">Episode length: 334.30 +/- 107.28\n",
              "</pre>\n"
            ]
          },
          "metadata": {}
        },
        {
          "output_type": "display_data",
          "data": {
            "text/plain": [
              "Eval num_timesteps=60000, episode_reward=-166.61 +/- 40.09\n"
            ],
            "text/html": [
              "<pre style=\"white-space:pre;overflow-x:auto;line-height:normal;font-family:Menlo,'DejaVu Sans Mono',consolas,'Courier New',monospace\">Eval num_timesteps=60000, episode_reward=-166.61 +/- 40.09\n",
              "</pre>\n"
            ]
          },
          "metadata": {}
        },
        {
          "output_type": "display_data",
          "data": {
            "text/plain": [
              "Episode length: 410.20 +/- 89.46\n"
            ],
            "text/html": [
              "<pre style=\"white-space:pre;overflow-x:auto;line-height:normal;font-family:Menlo,'DejaVu Sans Mono',consolas,'Courier New',monospace\">Episode length: 410.20 +/- 89.46\n",
              "</pre>\n"
            ]
          },
          "metadata": {}
        },
        {
          "output_type": "display_data",
          "data": {
            "text/plain": [
              "Eval num_timesteps=70000, episode_reward=-160.66 +/- 25.39\n"
            ],
            "text/html": [
              "<pre style=\"white-space:pre;overflow-x:auto;line-height:normal;font-family:Menlo,'DejaVu Sans Mono',consolas,'Courier New',monospace\">Eval num_timesteps=70000, episode_reward=-160.66 +/- 25.39\n",
              "</pre>\n"
            ]
          },
          "metadata": {}
        },
        {
          "output_type": "display_data",
          "data": {
            "text/plain": [
              "Episode length: 512.60 +/- 48.26\n"
            ],
            "text/html": [
              "<pre style=\"white-space:pre;overflow-x:auto;line-height:normal;font-family:Menlo,'DejaVu Sans Mono',consolas,'Courier New',monospace\">Episode length: 512.60 +/- 48.26\n",
              "</pre>\n"
            ]
          },
          "metadata": {}
        },
        {
          "output_type": "display_data",
          "data": {
            "text/plain": [
              "Eval num_timesteps=80000, episode_reward=11.21 +/- 11.97\n"
            ],
            "text/html": [
              "<pre style=\"white-space:pre;overflow-x:auto;line-height:normal;font-family:Menlo,'DejaVu Sans Mono',consolas,'Courier New',monospace\">Eval num_timesteps=80000, episode_reward=11.21 +/- 11.97\n",
              "</pre>\n"
            ]
          },
          "metadata": {}
        },
        {
          "output_type": "display_data",
          "data": {
            "text/plain": [
              "Episode length: 1000.00 +/- 0.00\n"
            ],
            "text/html": [
              "<pre style=\"white-space:pre;overflow-x:auto;line-height:normal;font-family:Menlo,'DejaVu Sans Mono',consolas,'Courier New',monospace\">Episode length: 1000.00 +/- 0.00\n",
              "</pre>\n"
            ]
          },
          "metadata": {}
        },
        {
          "output_type": "display_data",
          "data": {
            "text/plain": [
              "New best mean reward!\n"
            ],
            "text/html": [
              "<pre style=\"white-space:pre;overflow-x:auto;line-height:normal;font-family:Menlo,'DejaVu Sans Mono',consolas,'Courier New',monospace\">New best mean reward!\n",
              "</pre>\n"
            ]
          },
          "metadata": {}
        },
        {
          "output_type": "display_data",
          "data": {
            "text/plain": [
              "Eval num_timesteps=90000, episode_reward=-16.15 +/- 15.44\n"
            ],
            "text/html": [
              "<pre style=\"white-space:pre;overflow-x:auto;line-height:normal;font-family:Menlo,'DejaVu Sans Mono',consolas,'Courier New',monospace\">Eval num_timesteps=90000, episode_reward=-16.15 +/- 15.44\n",
              "</pre>\n"
            ]
          },
          "metadata": {}
        },
        {
          "output_type": "display_data",
          "data": {
            "text/plain": [
              "Episode length: 1000.00 +/- 0.00\n"
            ],
            "text/html": [
              "<pre style=\"white-space:pre;overflow-x:auto;line-height:normal;font-family:Menlo,'DejaVu Sans Mono',consolas,'Courier New',monospace\">Episode length: 1000.00 +/- 0.00\n",
              "</pre>\n"
            ]
          },
          "metadata": {}
        },
        {
          "output_type": "display_data",
          "data": {
            "text/plain": [
              "Eval num_timesteps=100000, episode_reward=10.74 +/- 20.09\n"
            ],
            "text/html": [
              "<pre style=\"white-space:pre;overflow-x:auto;line-height:normal;font-family:Menlo,'DejaVu Sans Mono',consolas,'Courier New',monospace\">Eval num_timesteps=100000, episode_reward=10.74 +/- 20.09\n",
              "</pre>\n"
            ]
          },
          "metadata": {}
        },
        {
          "output_type": "display_data",
          "data": {
            "text/plain": [
              "Episode length: 1000.00 +/- 0.00\n"
            ],
            "text/html": [
              "<pre style=\"white-space:pre;overflow-x:auto;line-height:normal;font-family:Menlo,'DejaVu Sans Mono',consolas,'Courier New',monospace\">Episode length: 1000.00 +/- 0.00\n",
              "</pre>\n"
            ]
          },
          "metadata": {}
        },
        {
          "output_type": "display_data",
          "data": {
            "text/plain": [
              "Eval num_timesteps=110000, episode_reward=-14.25 +/- 16.81\n"
            ],
            "text/html": [
              "<pre style=\"white-space:pre;overflow-x:auto;line-height:normal;font-family:Menlo,'DejaVu Sans Mono',consolas,'Courier New',monospace\">Eval num_timesteps=110000, episode_reward=-14.25 +/- 16.81\n",
              "</pre>\n"
            ]
          },
          "metadata": {}
        },
        {
          "output_type": "display_data",
          "data": {
            "text/plain": [
              "Episode length: 1000.00 +/- 0.00\n"
            ],
            "text/html": [
              "<pre style=\"white-space:pre;overflow-x:auto;line-height:normal;font-family:Menlo,'DejaVu Sans Mono',consolas,'Courier New',monospace\">Episode length: 1000.00 +/- 0.00\n",
              "</pre>\n"
            ]
          },
          "metadata": {}
        },
        {
          "output_type": "display_data",
          "data": {
            "text/plain": [
              "Eval num_timesteps=120000, episode_reward=16.57 +/- 25.14\n"
            ],
            "text/html": [
              "<pre style=\"white-space:pre;overflow-x:auto;line-height:normal;font-family:Menlo,'DejaVu Sans Mono',consolas,'Courier New',monospace\">Eval num_timesteps=120000, episode_reward=16.57 +/- 25.14\n",
              "</pre>\n"
            ]
          },
          "metadata": {}
        },
        {
          "output_type": "display_data",
          "data": {
            "text/plain": [
              "Episode length: 1000.00 +/- 0.00\n"
            ],
            "text/html": [
              "<pre style=\"white-space:pre;overflow-x:auto;line-height:normal;font-family:Menlo,'DejaVu Sans Mono',consolas,'Courier New',monospace\">Episode length: 1000.00 +/- 0.00\n",
              "</pre>\n"
            ]
          },
          "metadata": {}
        },
        {
          "output_type": "display_data",
          "data": {
            "text/plain": [
              "New best mean reward!\n"
            ],
            "text/html": [
              "<pre style=\"white-space:pre;overflow-x:auto;line-height:normal;font-family:Menlo,'DejaVu Sans Mono',consolas,'Courier New',monospace\">New best mean reward!\n",
              "</pre>\n"
            ]
          },
          "metadata": {}
        },
        {
          "output_type": "display_data",
          "data": {
            "text/plain": [
              "Eval num_timesteps=130000, episode_reward=32.83 +/- 24.84\n"
            ],
            "text/html": [
              "<pre style=\"white-space:pre;overflow-x:auto;line-height:normal;font-family:Menlo,'DejaVu Sans Mono',consolas,'Courier New',monospace\">Eval num_timesteps=130000, episode_reward=32.83 +/- 24.84\n",
              "</pre>\n"
            ]
          },
          "metadata": {}
        },
        {
          "output_type": "display_data",
          "data": {
            "text/plain": [
              "Episode length: 1000.00 +/- 0.00\n"
            ],
            "text/html": [
              "<pre style=\"white-space:pre;overflow-x:auto;line-height:normal;font-family:Menlo,'DejaVu Sans Mono',consolas,'Courier New',monospace\">Episode length: 1000.00 +/- 0.00\n",
              "</pre>\n"
            ]
          },
          "metadata": {}
        },
        {
          "output_type": "display_data",
          "data": {
            "text/plain": [
              "New best mean reward!\n"
            ],
            "text/html": [
              "<pre style=\"white-space:pre;overflow-x:auto;line-height:normal;font-family:Menlo,'DejaVu Sans Mono',consolas,'Courier New',monospace\">New best mean reward!\n",
              "</pre>\n"
            ]
          },
          "metadata": {}
        },
        {
          "output_type": "display_data",
          "data": {
            "text/plain": [
              "Eval num_timesteps=140000, episode_reward=23.72 +/- 23.41\n"
            ],
            "text/html": [
              "<pre style=\"white-space:pre;overflow-x:auto;line-height:normal;font-family:Menlo,'DejaVu Sans Mono',consolas,'Courier New',monospace\">Eval num_timesteps=140000, episode_reward=23.72 +/- 23.41\n",
              "</pre>\n"
            ]
          },
          "metadata": {}
        },
        {
          "output_type": "display_data",
          "data": {
            "text/plain": [
              "Episode length: 1000.00 +/- 0.00\n"
            ],
            "text/html": [
              "<pre style=\"white-space:pre;overflow-x:auto;line-height:normal;font-family:Menlo,'DejaVu Sans Mono',consolas,'Courier New',monospace\">Episode length: 1000.00 +/- 0.00\n",
              "</pre>\n"
            ]
          },
          "metadata": {}
        },
        {
          "output_type": "display_data",
          "data": {
            "text/plain": [
              "Eval num_timesteps=150000, episode_reward=-146.69 +/- 47.13\n"
            ],
            "text/html": [
              "<pre style=\"white-space:pre;overflow-x:auto;line-height:normal;font-family:Menlo,'DejaVu Sans Mono',consolas,'Courier New',monospace\">Eval num_timesteps=150000, episode_reward=-146.69 +/- 47.13\n",
              "</pre>\n"
            ]
          },
          "metadata": {}
        },
        {
          "output_type": "display_data",
          "data": {
            "text/plain": [
              "Episode length: 482.50 +/- 258.81\n"
            ],
            "text/html": [
              "<pre style=\"white-space:pre;overflow-x:auto;line-height:normal;font-family:Menlo,'DejaVu Sans Mono',consolas,'Courier New',monospace\">Episode length: 482.50 +/- 258.81\n",
              "</pre>\n"
            ]
          },
          "metadata": {}
        },
        {
          "output_type": "display_data",
          "data": {
            "text/plain": [
              "Eval num_timesteps=160000, episode_reward=-7.95 +/- 14.17\n"
            ],
            "text/html": [
              "<pre style=\"white-space:pre;overflow-x:auto;line-height:normal;font-family:Menlo,'DejaVu Sans Mono',consolas,'Courier New',monospace\">Eval num_timesteps=160000, episode_reward=-7.95 +/- 14.17\n",
              "</pre>\n"
            ]
          },
          "metadata": {}
        },
        {
          "output_type": "display_data",
          "data": {
            "text/plain": [
              "Episode length: 1000.00 +/- 0.00\n"
            ],
            "text/html": [
              "<pre style=\"white-space:pre;overflow-x:auto;line-height:normal;font-family:Menlo,'DejaVu Sans Mono',consolas,'Courier New',monospace\">Episode length: 1000.00 +/- 0.00\n",
              "</pre>\n"
            ]
          },
          "metadata": {}
        },
        {
          "output_type": "display_data",
          "data": {
            "text/plain": [
              "Eval num_timesteps=170000, episode_reward=-7.98 +/- 14.30\n"
            ],
            "text/html": [
              "<pre style=\"white-space:pre;overflow-x:auto;line-height:normal;font-family:Menlo,'DejaVu Sans Mono',consolas,'Courier New',monospace\">Eval num_timesteps=170000, episode_reward=-7.98 +/- 14.30\n",
              "</pre>\n"
            ]
          },
          "metadata": {}
        },
        {
          "output_type": "display_data",
          "data": {
            "text/plain": [
              "Episode length: 1000.00 +/- 0.00\n"
            ],
            "text/html": [
              "<pre style=\"white-space:pre;overflow-x:auto;line-height:normal;font-family:Menlo,'DejaVu Sans Mono',consolas,'Courier New',monospace\">Episode length: 1000.00 +/- 0.00\n",
              "</pre>\n"
            ]
          },
          "metadata": {}
        },
        {
          "output_type": "display_data",
          "data": {
            "text/plain": [
              "Eval num_timesteps=180000, episode_reward=133.81 +/- 84.80\n"
            ],
            "text/html": [
              "<pre style=\"white-space:pre;overflow-x:auto;line-height:normal;font-family:Menlo,'DejaVu Sans Mono',consolas,'Courier New',monospace\">Eval num_timesteps=180000, episode_reward=133.81 +/- 84.80\n",
              "</pre>\n"
            ]
          },
          "metadata": {}
        },
        {
          "output_type": "display_data",
          "data": {
            "text/plain": [
              "Episode length: 833.00 +/- 259.16\n"
            ],
            "text/html": [
              "<pre style=\"white-space:pre;overflow-x:auto;line-height:normal;font-family:Menlo,'DejaVu Sans Mono',consolas,'Courier New',monospace\">Episode length: 833.00 +/- 259.16\n",
              "</pre>\n"
            ]
          },
          "metadata": {}
        },
        {
          "output_type": "display_data",
          "data": {
            "text/plain": [
              "New best mean reward!\n"
            ],
            "text/html": [
              "<pre style=\"white-space:pre;overflow-x:auto;line-height:normal;font-family:Menlo,'DejaVu Sans Mono',consolas,'Courier New',monospace\">New best mean reward!\n",
              "</pre>\n"
            ]
          },
          "metadata": {}
        },
        {
          "output_type": "display_data",
          "data": {
            "text/plain": [
              "Eval num_timesteps=190000, episode_reward=-161.92 +/- 72.05\n"
            ],
            "text/html": [
              "<pre style=\"white-space:pre;overflow-x:auto;line-height:normal;font-family:Menlo,'DejaVu Sans Mono',consolas,'Courier New',monospace\">Eval num_timesteps=190000, episode_reward=-161.92 +/- 72.05\n",
              "</pre>\n"
            ]
          },
          "metadata": {}
        },
        {
          "output_type": "display_data",
          "data": {
            "text/plain": [
              "Episode length: 882.90 +/- 147.95\n"
            ],
            "text/html": [
              "<pre style=\"white-space:pre;overflow-x:auto;line-height:normal;font-family:Menlo,'DejaVu Sans Mono',consolas,'Courier New',monospace\">Episode length: 882.90 +/- 147.95\n",
              "</pre>\n"
            ]
          },
          "metadata": {}
        },
        {
          "output_type": "display_data",
          "data": {
            "text/plain": [
              "Eval num_timesteps=200000, episode_reward=112.39 +/- 52.75\n"
            ],
            "text/html": [
              "<pre style=\"white-space:pre;overflow-x:auto;line-height:normal;font-family:Menlo,'DejaVu Sans Mono',consolas,'Courier New',monospace\">Eval num_timesteps=200000, episode_reward=112.39 +/- 52.75\n",
              "</pre>\n"
            ]
          },
          "metadata": {}
        },
        {
          "output_type": "display_data",
          "data": {
            "text/plain": [
              "Episode length: 834.80 +/- 259.60\n"
            ],
            "text/html": [
              "<pre style=\"white-space:pre;overflow-x:auto;line-height:normal;font-family:Menlo,'DejaVu Sans Mono',consolas,'Courier New',monospace\">Episode length: 834.80 +/- 259.60\n",
              "</pre>\n"
            ]
          },
          "metadata": {}
        },
        {
          "output_type": "display_data",
          "data": {
            "text/plain": [
              "Eval num_timesteps=210000, episode_reward=203.60 +/- 73.18\n"
            ],
            "text/html": [
              "<pre style=\"white-space:pre;overflow-x:auto;line-height:normal;font-family:Menlo,'DejaVu Sans Mono',consolas,'Courier New',monospace\">Eval num_timesteps=210000, episode_reward=203.60 +/- 73.18\n",
              "</pre>\n"
            ]
          },
          "metadata": {}
        },
        {
          "output_type": "display_data",
          "data": {
            "text/plain": [
              "Episode length: 535.50 +/- 323.23\n"
            ],
            "text/html": [
              "<pre style=\"white-space:pre;overflow-x:auto;line-height:normal;font-family:Menlo,'DejaVu Sans Mono',consolas,'Courier New',monospace\">Episode length: 535.50 +/- 323.23\n",
              "</pre>\n"
            ]
          },
          "metadata": {}
        },
        {
          "output_type": "display_data",
          "data": {
            "text/plain": [
              "New best mean reward!\n"
            ],
            "text/html": [
              "<pre style=\"white-space:pre;overflow-x:auto;line-height:normal;font-family:Menlo,'DejaVu Sans Mono',consolas,'Courier New',monospace\">New best mean reward!\n",
              "</pre>\n"
            ]
          },
          "metadata": {}
        },
        {
          "output_type": "display_data",
          "data": {
            "text/plain": [
              "Eval num_timesteps=220000, episode_reward=227.79 +/- 83.72\n"
            ],
            "text/html": [
              "<pre style=\"white-space:pre;overflow-x:auto;line-height:normal;font-family:Menlo,'DejaVu Sans Mono',consolas,'Courier New',monospace\">Eval num_timesteps=220000, episode_reward=227.79 +/- 83.72\n",
              "</pre>\n"
            ]
          },
          "metadata": {}
        },
        {
          "output_type": "display_data",
          "data": {
            "text/plain": [
              "Episode length: 376.70 +/- 336.96\n"
            ],
            "text/html": [
              "<pre style=\"white-space:pre;overflow-x:auto;line-height:normal;font-family:Menlo,'DejaVu Sans Mono',consolas,'Courier New',monospace\">Episode length: 376.70 +/- 336.96\n",
              "</pre>\n"
            ]
          },
          "metadata": {}
        },
        {
          "output_type": "display_data",
          "data": {
            "text/plain": [
              "New best mean reward!\n"
            ],
            "text/html": [
              "<pre style=\"white-space:pre;overflow-x:auto;line-height:normal;font-family:Menlo,'DejaVu Sans Mono',consolas,'Courier New',monospace\">New best mean reward!\n",
              "</pre>\n"
            ]
          },
          "metadata": {}
        },
        {
          "output_type": "display_data",
          "data": {
            "text/plain": [
              "Eval num_timesteps=230000, episode_reward=146.18 +/- 39.28\n"
            ],
            "text/html": [
              "<pre style=\"white-space:pre;overflow-x:auto;line-height:normal;font-family:Menlo,'DejaVu Sans Mono',consolas,'Courier New',monospace\">Eval num_timesteps=230000, episode_reward=146.18 +/- 39.28\n",
              "</pre>\n"
            ]
          },
          "metadata": {}
        },
        {
          "output_type": "display_data",
          "data": {
            "text/plain": [
              "Episode length: 942.90 +/- 171.30\n"
            ],
            "text/html": [
              "<pre style=\"white-space:pre;overflow-x:auto;line-height:normal;font-family:Menlo,'DejaVu Sans Mono',consolas,'Courier New',monospace\">Episode length: 942.90 +/- 171.30\n",
              "</pre>\n"
            ]
          },
          "metadata": {}
        },
        {
          "output_type": "display_data",
          "data": {
            "text/plain": [
              "Eval num_timesteps=240000, episode_reward=190.10 +/- 107.92\n"
            ],
            "text/html": [
              "<pre style=\"white-space:pre;overflow-x:auto;line-height:normal;font-family:Menlo,'DejaVu Sans Mono',consolas,'Courier New',monospace\">Eval num_timesteps=240000, episode_reward=190.10 +/- 107.92\n",
              "</pre>\n"
            ]
          },
          "metadata": {}
        },
        {
          "output_type": "display_data",
          "data": {
            "text/plain": [
              "Episode length: 360.90 +/- 237.12\n"
            ],
            "text/html": [
              "<pre style=\"white-space:pre;overflow-x:auto;line-height:normal;font-family:Menlo,'DejaVu Sans Mono',consolas,'Courier New',monospace\">Episode length: 360.90 +/- 237.12\n",
              "</pre>\n"
            ]
          },
          "metadata": {}
        },
        {
          "output_type": "display_data",
          "data": {
            "text/plain": [
              "Eval num_timesteps=250000, episode_reward=224.62 +/- 46.57\n"
            ],
            "text/html": [
              "<pre style=\"white-space:pre;overflow-x:auto;line-height:normal;font-family:Menlo,'DejaVu Sans Mono',consolas,'Courier New',monospace\">Eval num_timesteps=250000, episode_reward=224.62 +/- 46.57\n",
              "</pre>\n"
            ]
          },
          "metadata": {}
        },
        {
          "output_type": "display_data",
          "data": {
            "text/plain": [
              "Episode length: 702.70 +/- 212.89\n"
            ],
            "text/html": [
              "<pre style=\"white-space:pre;overflow-x:auto;line-height:normal;font-family:Menlo,'DejaVu Sans Mono',consolas,'Courier New',monospace\">Episode length: 702.70 +/- 212.89\n",
              "</pre>\n"
            ]
          },
          "metadata": {}
        },
        {
          "output_type": "display_data",
          "data": {
            "text/plain": [
              "Eval num_timesteps=260000, episode_reward=183.81 +/- 139.75\n"
            ],
            "text/html": [
              "<pre style=\"white-space:pre;overflow-x:auto;line-height:normal;font-family:Menlo,'DejaVu Sans Mono',consolas,'Courier New',monospace\">Eval num_timesteps=260000, episode_reward=183.81 +/- 139.75\n",
              "</pre>\n"
            ]
          },
          "metadata": {}
        },
        {
          "output_type": "display_data",
          "data": {
            "text/plain": [
              "Episode length: 489.20 +/- 370.24\n"
            ],
            "text/html": [
              "<pre style=\"white-space:pre;overflow-x:auto;line-height:normal;font-family:Menlo,'DejaVu Sans Mono',consolas,'Courier New',monospace\">Episode length: 489.20 +/- 370.24\n",
              "</pre>\n"
            ]
          },
          "metadata": {}
        },
        {
          "output_type": "display_data",
          "data": {
            "text/plain": [
              "Eval num_timesteps=270000, episode_reward=186.52 +/- 113.30\n"
            ],
            "text/html": [
              "<pre style=\"white-space:pre;overflow-x:auto;line-height:normal;font-family:Menlo,'DejaVu Sans Mono',consolas,'Courier New',monospace\">Eval num_timesteps=270000, episode_reward=186.52 +/- 113.30\n",
              "</pre>\n"
            ]
          },
          "metadata": {}
        },
        {
          "output_type": "display_data",
          "data": {
            "text/plain": [
              "Episode length: 346.40 +/- 330.10\n"
            ],
            "text/html": [
              "<pre style=\"white-space:pre;overflow-x:auto;line-height:normal;font-family:Menlo,'DejaVu Sans Mono',consolas,'Courier New',monospace\">Episode length: 346.40 +/- 330.10\n",
              "</pre>\n"
            ]
          },
          "metadata": {}
        },
        {
          "output_type": "display_data",
          "data": {
            "text/plain": [
              "Eval num_timesteps=280000, episode_reward=157.61 +/- 67.69\n"
            ],
            "text/html": [
              "<pre style=\"white-space:pre;overflow-x:auto;line-height:normal;font-family:Menlo,'DejaVu Sans Mono',consolas,'Courier New',monospace\">Eval num_timesteps=280000, episode_reward=157.61 +/- 67.69\n",
              "</pre>\n"
            ]
          },
          "metadata": {}
        },
        {
          "output_type": "display_data",
          "data": {
            "text/plain": [
              "Episode length: 763.70 +/- 361.34\n"
            ],
            "text/html": [
              "<pre style=\"white-space:pre;overflow-x:auto;line-height:normal;font-family:Menlo,'DejaVu Sans Mono',consolas,'Courier New',monospace\">Episode length: 763.70 +/- 361.34\n",
              "</pre>\n"
            ]
          },
          "metadata": {}
        },
        {
          "output_type": "display_data",
          "data": {
            "text/plain": [
              "Eval num_timesteps=290000, episode_reward=225.85 +/- 105.43\n"
            ],
            "text/html": [
              "<pre style=\"white-space:pre;overflow-x:auto;line-height:normal;font-family:Menlo,'DejaVu Sans Mono',consolas,'Courier New',monospace\">Eval num_timesteps=290000, episode_reward=225.85 +/- 105.43\n",
              "</pre>\n"
            ]
          },
          "metadata": {}
        },
        {
          "output_type": "display_data",
          "data": {
            "text/plain": [
              "Episode length: 187.00 +/- 42.99\n"
            ],
            "text/html": [
              "<pre style=\"white-space:pre;overflow-x:auto;line-height:normal;font-family:Menlo,'DejaVu Sans Mono',consolas,'Courier New',monospace\">Episode length: 187.00 +/- 42.99\n",
              "</pre>\n"
            ]
          },
          "metadata": {}
        },
        {
          "output_type": "display_data",
          "data": {
            "text/plain": [
              "Eval num_timesteps=300000, episode_reward=265.13 +/- 37.66\n"
            ],
            "text/html": [
              "<pre style=\"white-space:pre;overflow-x:auto;line-height:normal;font-family:Menlo,'DejaVu Sans Mono',consolas,'Courier New',monospace\">Eval num_timesteps=300000, episode_reward=265.13 +/- 37.66\n",
              "</pre>\n"
            ]
          },
          "metadata": {}
        },
        {
          "output_type": "display_data",
          "data": {
            "text/plain": [
              "Episode length: 346.90 +/- 232.08\n"
            ],
            "text/html": [
              "<pre style=\"white-space:pre;overflow-x:auto;line-height:normal;font-family:Menlo,'DejaVu Sans Mono',consolas,'Courier New',monospace\">Episode length: 346.90 +/- 232.08\n",
              "</pre>\n"
            ]
          },
          "metadata": {}
        },
        {
          "output_type": "display_data",
          "data": {
            "text/plain": [
              "New best mean reward!\n"
            ],
            "text/html": [
              "<pre style=\"white-space:pre;overflow-x:auto;line-height:normal;font-family:Menlo,'DejaVu Sans Mono',consolas,'Courier New',monospace\">New best mean reward!\n",
              "</pre>\n"
            ]
          },
          "metadata": {}
        },
        {
          "output_type": "display_data",
          "data": {
            "text/plain": [],
            "text/html": [
              "<pre style=\"white-space:pre;overflow-x:auto;line-height:normal;font-family:Menlo,'DejaVu Sans Mono',consolas,'Courier New',monospace\"></pre>\n"
            ]
          },
          "metadata": {}
        },
        {
          "output_type": "stream",
          "name": "stdout",
          "text": [
            "Modelo guardado en models/dqn_lunarlander_sb3\n"
          ]
        }
      ],
      "source": [
        "# Construir y entrenar el modelo DQN de SB3\n",
        "train_env = make_env(seed=SEED, enable_wind=False)\n",
        "train_env = DummyVecEnv([lambda: Monitor(train_env, log_dir)])\n",
        "\n",
        "model = DQN(\n",
        "    policy='MlpPolicy',\n",
        "    env=train_env,\n",
        "    learning_rate=LEARNING_RATE,\n",
        "    buffer_size=BUFFER_SIZE,\n",
        "    learning_starts=LEARNING_STARTS,\n",
        "    batch_size=BATCH_SIZE,\n",
        "    gamma=GAMMA,\n",
        "    train_freq=TRAIN_FREQ,\n",
        "    target_update_interval=TARGET_UPDATE_INTERVAL,\n",
        "    tau=TAU,\n",
        "    exploration_fraction=EXPLORATION_FRACTION,\n",
        "    exploration_final_eps=EXPLORATION_FINAL_EPS,\n",
        "    policy_kwargs=POLICY_KWARGS,\n",
        "    tensorboard_log=log_dir,\n",
        "    verbose=0,\n",
        "    seed=SEED,\n",
        ")\n",
        "\n",
        "# Entrenar con callbacks\n",
        "model.learn(total_timesteps=TIMESTEPS, callback=[eval_callback, checkpoint_callback], progress_bar=True)\n",
        "\n",
        "# Guardar el modelo final\n",
        "os.makedirs('models', exist_ok=True)\n",
        "model_path = 'models/dqn_lunarlander_sb3'\n",
        "model.save(model_path)\n",
        "print('Modelo guardado en', model_path)"
      ]
    },
    {
      "cell_type": "markdown",
      "source": [
        "## Resultados del entrenamiento"
      ],
      "metadata": {
        "id": "MNbxEz-FkHYY"
      }
    },
    {
      "cell_type": "code",
      "source": [
        "# TensorBoard: puedes lanzar un servidor para ver curvas (en Colab se integra)\n",
        "# En local: desde terminal, corre: tensorboard --logdir logs | cat\n",
        "\n",
        "# %load_ext tensorboard\n",
        "# %tensorboard --logdir logs"
      ],
      "metadata": {
        "id": "zo-TMx2HkOca"
      },
      "execution_count": 7,
      "outputs": []
    },
    {
      "cell_type": "code",
      "source": [
        "plot_results([log_dir], np.inf, 'timesteps', \"Recompensas por timestep\", figsize=(8,3))\n",
        "plt.show()"
      ],
      "metadata": {
        "colab": {
          "base_uri": "https://localhost:8080/",
          "height": 364
        },
        "id": "v3cdMC-qLreA",
        "outputId": "ffd1b837-3d4a-418b-cc03-f77a2089b9f9"
      },
      "execution_count": 8,
      "outputs": [
        {
          "output_type": "display_data",
          "data": {
            "text/plain": [
              "<Figure size 800x300 with 1 Axes>"
            ],
            "image/png": "[encoded data removed]"
          },
          "metadata": {}
        },
        {
          "output_type": "stream",
          "name": "stderr",
          "text": [
            "/usr/local/lib/python3.12/dist-packages/jupyter_client/session.py:151: DeprecationWarning: datetime.datetime.utcnow() is deprecated and scheduled for removal in a future version. Use timezone-aware objects to represent datetimes in UTC: datetime.datetime.now(datetime.UTC).\n",
            "  return datetime.utcnow().replace(tzinfo=utc)\n"
          ]
        }
      ]
    },
    {
      "cell_type": "code",
      "source": [
        "plot_results([log_dir], np.inf, 'episodes', \"Recompensas por episodio\", figsize=(8,3))\n",
        "plt.show()"
      ],
      "metadata": {
        "colab": {
          "base_uri": "https://localhost:8080/",
          "height": 364
        },
        "id": "yBPUxQp6RKmm",
        "outputId": "1e729938-7464-4a93-9244-a24c82edb7a7"
      },
      "execution_count": 9,
      "outputs": [
        {
          "output_type": "display_data",
          "data": {
            "text/plain": [
              "<Figure size 800x300 with 1 Axes>"
            ],
            "image/png": "[encoded data removed]"
          },
          "metadata": {}
        },
        {
          "output_type": "stream",
          "name": "stderr",
          "text": [
            "/usr/local/lib/python3.12/dist-packages/jupyter_client/session.py:151: DeprecationWarning: datetime.datetime.utcnow() is deprecated and scheduled for removal in a future version. Use timezone-aware objects to represent datetimes in UTC: datetime.datetime.now(datetime.UTC).\n",
            "  return datetime.utcnow().replace(tzinfo=utc)\n"
          ]
        }
      ]
    },
    {
      "cell_type": "code",
      "execution_count": 10,
      "metadata": {
        "colab": {
          "base_uri": "https://localhost:8080/"
        },
        "id": "NHHW7RZ_OPvG",
        "outputId": "f3672d98-dbdc-465b-f32f-4205cec852e7"
      },
      "outputs": [
        {
          "output_type": "stream",
          "name": "stdout",
          "text": [
            "Cargando mejor modelo desde logs/best_model/best_model.zip\n"
          ]
        }
      ],
      "source": [
        "# Cargar el mejor modelo (si existe) o usar el modelo recién entrenado\n",
        "best_model_dir = os.path.join(log_dir, 'best_model')\n",
        "best_model_path = os.path.join(best_model_dir, 'best_model.zip')\n",
        "\n",
        "if os.path.exists(best_model_path):\n",
        "    print('Cargando mejor modelo desde', best_model_path)\n",
        "    best_model = DQN.load(best_model_path)\n",
        "else:\n",
        "    print('No hay mejor modelo aún; se usará el modelo actual')\n",
        "    best_model = model"
      ]
    },
    {
      "cell_type": "code",
      "source": [
        "# Grabación de video opcional (SB3)\n",
        "# En Colab el video se guardará en /content.\n",
        "def record_video_sb3(model: DQN, filename: str = 'videos/lunar_dqn_episode.mp4', fps: int = 30, seed: int = SEED+999):\n",
        "    os.makedirs(os.path.dirname(filename), exist_ok=True)\n",
        "    env = make_env(seed=seed, render_mode='rgb_array')\n",
        "    frames = []\n",
        "    obs, info = env.reset(seed=seed)\n",
        "    for _ in range(1000):\n",
        "        frame = env.render()\n",
        "        frames.append(frame)\n",
        "        action, _ = model.predict(obs, deterministic=True)\n",
        "        obs, reward, terminated, truncated, info = env.step(int(action))\n",
        "        if terminated or truncated:\n",
        "            frame = env.render()\n",
        "            frames.append(frame)\n",
        "            break\n",
        "    env.close()\n",
        "    imageio.mimwrite(filename, frames, fps=fps, quality=8)\n",
        "    print('Video guardado en:', filename)"
      ],
      "metadata": {
        "id": "hZbqbo_hVusi"
      },
      "execution_count": 11,
      "outputs": []
    },
    {
      "cell_type": "code",
      "source": [
        "record_video_sb3(best_model, filename='videos/lunar_dqn_episode.mp4', fps=30)\n",
        "display(Video('videos/lunar_dqn_episode.mp4', embed=True, width=500))"
      ],
      "metadata": {
        "colab": {
          "base_uri": "https://localhost:8080/",
          "height": 407
        },
        "id": "K1ivtQ7GWO5l",
        "outputId": "bcda3145-d449-4e80-ffb0-0c5db2650f59"
      },
      "execution_count": 12,
      "outputs": [
        {
          "output_type": "stream",
          "name": "stderr",
          "text": [
            "WARNING:imageio_ffmpeg:IMAGEIO FFMPEG_WRITER WARNING: input image is not divisible by macro_block_size=16, resizing from (600, 400) to (608, 400) to ensure video compatibility with most codecs and players. To prevent resizing, make your input image divisible by the macro_block_size or set the macro_block_size to 1 (risking incompatibility).\n"
          ]
        },
        {
          "output_type": "stream",
          "name": "stdout",
          "text": [
            "Video guardado en: videos/lunar_dqn_episode.mp4\n"
          ]
        },
        {
          "output_type": "display_data",
          "data": {
            "text/plain": [
              "<IPython.core.display.Video object>"
            ],
            "text/html": [
              "<video controls  width=\"500\" >\n",
              " <source src=\"data:video/mp4;base64,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\" type=\"video/mp4\">\n",
              " Your browser does not support the video tag.\n",
              " </video>"
            ]
          },
          "metadata": {}
        }
      ]
    },
    {
      "cell_type": "markdown",
      "source": [
        "## Evaluación"
      ],
      "metadata": {
        "id": "tTXtfGXvkLxw"
      }
    },
    {
      "cell_type": "code",
      "execution_count": 13,
      "metadata": {
        "colab": {
          "base_uri": "https://localhost:8080/"
        },
        "id": "fbSAXH5uOPvI",
        "outputId": "bee2c2af-2dbc-463d-cfd6-53a7d6a430a0"
      },
      "outputs": [
        {
          "output_type": "stream",
          "name": "stdout",
          "text": [
            "Evaluación sin viento (100 eps): media=252.81 ± 40.47\n"
          ]
        }
      ],
      "source": [
        "# Evaluación sin viento\n",
        "eval_env_no_wind = make_env(seed=SEED + 1000, enable_wind=False)\n",
        "mean_reward, std_reward = evaluate_policy(best_model, eval_env_no_wind, n_eval_episodes=100, deterministic=True)\n",
        "print(f\"Evaluación sin viento (100 eps): media={mean_reward:.2f} ± {std_reward:.2f}\")\n",
        "\n",
        "eval_env_no_wind.close()"
      ]
    },
    {
      "cell_type": "code",
      "execution_count": 14,
      "metadata": {
        "colab": {
          "base_uri": "https://localhost:8080/"
        },
        "id": "Hm8mlNymOPvJ",
        "outputId": "5cc0491d-7c09-41ec-abf3-4bf680e1e820"
      },
      "outputs": [
        {
          "output_type": "stream",
          "name": "stdout",
          "text": [
            "Evaluación con viento (100 eps): media=110.27 ± 152.06\n"
          ]
        }
      ],
      "source": [
        "# Evaluación con viento activado\n",
        "eval_env_wind = make_env(seed=SEED + 2000, enable_wind=True, wind_power=10.0, turbulence_power=1.5)\n",
        "mean_reward_wind, std_reward_wind = evaluate_policy(best_model, eval_env_wind, n_eval_episodes=100, deterministic=True)\n",
        "print(f\"Evaluación con viento (100 eps): media={mean_reward_wind:.2f} ± {std_reward_wind:.2f}\")\n",
        "\n",
        "eval_env_wind.close()"
      ]
    },
    {
      "cell_type": "markdown",
      "source": [
        "# Referencias\n",
        "\n",
        "- https://stable-baselines3.readthedocs.io/en/master/modules/dqn.html\n",
        "- https://stable-baselines.readthedocs.io/en/master/misc/results_plotter.html#stable_baselines.results_plotter.ts2xy"
      ],
      "metadata": {
        "id": "lc-7R4PeZgr4"
      }
    }
  ],
  "metadata": {
    "kernelspec": {
      "display_name": "Python 3",
      "name": "python3"
    },
    "language_info": {
      "codemirror_mode": {
        "name": "ipython",
        "version": 3
      },
      "file_extension": ".py",
      "mimetype": "text/x-python",
      "name": "python",
      "nbconvert_exporter": "python",
      "pygments_lexer": "ipython3",
      "version": "3.13.5"
    },
    "colab": {
      "provenance": [],
      "gpuType": "T4",
      "include_colab_link": true
    },
    "accelerator": "GPU",
    "widgets": {
      "application/vnd.jupyter.widget-state+json": {
        "7d2f0918564f4be69ea47636bf872a0a": {
          "model_module": "@jupyter-widgets/output",
          "model_name": "OutputModel",
          "model_module_version": "1.0.0",
          "state": {
            "_dom_classes": [],
            "_model_module": "@jupyter-widgets/output",
            "_model_module_version": "1.0.0",
            "_model_name": "OutputModel",
            "_view_count": null,
            "_view_module": "@jupyter-widgets/output",
            "_view_module_version": "1.0.0",
            "_view_name": "OutputView",
            "layout": "IPY_MODEL_3281fb954cc94289a0b18fa0f1541396",
            "msg_id": "",
            "outputs": [
              {
                "output_type": "display_data",
                "data": {
                  "text/plain": "\u001b[35m 100%\u001b[0m \u001b[38;2;249;38;114m━━━━━━━━━━━━━━━━━━━━━━━━━━━━━━━━━━━━━━━━━━━━━━━━━━━━━━━━━━\u001b[0m\u001b[38;2;249;38;114m╸\u001b[0m \u001b[32m299,951/300,000 \u001b[0m [ \u001b[33m0:09:01\u001b[0m < \u001b[36m0:00:01\u001b[0m , \u001b[31m673 it/s\u001b[0m ]\n",
                  "text/html": "<pre style=\"white-space:pre;overflow-x:auto;line-height:normal;font-family:Menlo,'DejaVu Sans Mono',consolas,'Courier New',monospace\"><span style=\"color: #800080; text-decoration-color: #800080\"> 100%</span> <span style=\"color: #f92672; text-decoration-color: #f92672\">━━━━━━━━━━━━━━━━━━━━━━━━━━━━━━━━━━━━━━━━━━━━━━━━━━━━━━━━━━╸</span> <span style=\"color: #008000; text-decoration-color: #008000\">299,951/300,000 </span> [ <span style=\"color: #808000; text-decoration-color: #808000\">0:09:01</span> &lt; <span style=\"color: #008080; text-decoration-color: #008080\">0:00:01</span> , <span style=\"color: #800000; text-decoration-color: #800000\">673 it/s</span> ]\n</pre>\n"
                },
                "metadata": {}
              }
            ]
          }
        },
        "3281fb954cc94289a0b18fa0f1541396": {
          "model_module": "@jupyter-widgets/base",
          "model_name": "LayoutModel",
          "model_module_version": "1.2.0",
          "state": {
            "_model_module": "@jupyter-widgets/base",
            "_model_module_version": "1.2.0",
            "_model_name": "LayoutModel",
            "_view_count": null,
            "_view_module": "@jupyter-widgets/base",
            "_view_module_version": "1.2.0",
            "_view_name": "LayoutView",
            "align_content": null,
            "align_items": null,
            "align_self": null,
            "border": null,
            "bottom": null,
            "display": null,
            "flex": null,
            "flex_flow": null,
            "grid_area": null,
            "grid_auto_columns": null,
            "grid_auto_flow": null,
            "grid_auto_rows": null,
            "grid_column": null,
            "grid_gap": null,
            "grid_row": null,
            "grid_template_areas": null,
            "grid_template_columns": null,
            "grid_template_rows": null,
            "height": null,
            "justify_content": null,
            "justify_items": null,
            "left": null,
            "margin": null,
            "max_height": null,
            "max_width": null,
            "min_height": null,
            "min_width": null,
            "object_fit": null,
            "object_position": null,
            "order": null,
            "overflow": null,
            "overflow_x": null,
            "overflow_y": null,
            "padding": null,
            "right": null,
            "top": null,
            "visibility": null,
            "width": null
          }
        }
      }
    }
  },
  "nbformat": 4,
  "nbformat_minor": 0
}